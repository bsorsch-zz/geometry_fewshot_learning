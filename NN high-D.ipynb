{
 "cells": [
  {
   "cell_type": "code",
   "execution_count": 1,
   "metadata": {},
   "outputs": [],
   "source": [
    "import numpy as np\n",
    "\n",
    "from tqdm import tqdm_notebook as tqdm\n",
    "from matplotlib import pyplot as plt\n",
    "import seaborn as sns\n",
    "import os\n",
    "\n",
    "sns.set_style('darkgrid')\n",
    "sns.set(font_scale=1.3, rc={\"lines.linewidth\": 2.5})"
   ]
  },
  {
   "cell_type": "code",
   "execution_count": 2,
   "metadata": {},
   "outputs": [],
   "source": [
    "import os\n",
    "os.environ[\"CUDA_DEVICE_ORDER\"]=\"PCI_BUS_ID\"\n",
    "os.environ[\"CUDA_VISIBLE_DEVICES\"]=\"1\""
   ]
  },
  {
   "cell_type": "markdown",
   "metadata": {},
   "source": [
    "# Spheres"
   ]
  },
  {
   "cell_type": "code",
   "execution_count": 165,
   "metadata": {},
   "outputs": [],
   "source": [
    "from sklearn.neighbors import KNeighborsClassifier\n",
    "nn = KNeighborsClassifier(n_neighbors=1)"
   ]
  },
  {
   "cell_type": "code",
   "execution_count": 166,
   "metadata": {},
   "outputs": [
    {
     "name": "stdout",
     "output_type": "stream",
     "text": [
      "\n"
     ]
    }
   ],
   "source": [
    "def proto_err_fast(Xa,Xb,Xatest,Xbtest,idxs_a,idxs_b):\n",
    "    ''' Performs a quick heuristic m-shot learning experiment on a pair of manifolds X=(Xa,Xb),\n",
    "    allowing overlap between training and test examples.\n",
    "    \n",
    "    Args: \n",
    "        X: X=(Xa,Xb), a pair of (P,N) object manifolds, pre-shuffled along the zeroth axis.\n",
    "    \n",
    "    Returns:\n",
    "        erra: m-shot learning error evaluated on manifold a\n",
    "        errb: m-shot learning error evaluated on manifold b\n",
    "    '''\n",
    "    # Prototypes\n",
    "    xabar = Xa[idxs_a].mean(0)\n",
    "    xbbar = Xb[idxs_b].mean(0)\n",
    "\n",
    "    # Distances to prototypes\n",
    "    daa = ((Xatest[:,None] - xabar[None])**2).sum(-1)\n",
    "    dab = ((Xatest[:,None] - xbbar[None])**2).sum(-1)\n",
    "    dba = ((Xbtest[:,None] - xabar[None])**2).sum(-1)\n",
    "    dbb = ((Xbtest[:,None] - xbbar[None])**2).sum(-1)\n",
    "    ha = -daa + dab\n",
    "    hb = -dbb + dba\n",
    "\n",
    "    erra = (ha<0).mean()\n",
    "    errb = (hb<0).mean()\n",
    "\n",
    "    return erra, errb\n",
    "\n",
    "\n",
    "def NN_err_fast(Xa,Xb,Xatest,Xbtest,idxs_a,idxs_b):\n",
    "    ''' Performs a quick heuristic NN learning experiment on a pair of manifolds X=(Xa,Xb),\n",
    "    allowing overlap between training and test examples.\n",
    "    \n",
    "    Args: \n",
    "        X: X=(Xa,Xb), a pair of (P,N) object manifolds, pre-shuffled along the zeroth axis.\n",
    "    \n",
    "    Returns:\n",
    "        erra: m-shot learning error evaluated on manifold a\n",
    "        errb: m-shot learning error evaluated on manifold b\n",
    "    '''\n",
    "    \n",
    "    # Prototypes\n",
    "    xabar = Xa[idxs_a]\n",
    "    xbbar = Xb[idxs_b]\n",
    "\n",
    "    # Distances to prototypes\n",
    "    daa = ((Xatest[:,None,None] - xabar[None])**2).sum(-1)\n",
    "    dab = ((Xatest[:,None,None] - xbbar[None])**2).sum(-1)\n",
    "    dba = ((Xbtest[:,None,None] - xabar[None])**2).sum(-1)\n",
    "    dbb = ((Xbtest[:,None,None] - xbbar[None])**2).sum(-1)\n",
    "    ha = -daa.min(1) + dab.min(1)\n",
    "    hb = -dbb.min(1) + dba.min(1)\n",
    "\n",
    "    erra = (ha<0).mean()\n",
    "    errb = (hb<0).mean()\n",
    "\n",
    "    return erra, errb"
   ]
  },
  {
   "cell_type": "code",
   "execution_count": 255,
   "metadata": {},
   "outputs": [],
   "source": [
    "P = 100\n",
    "N = 500\n",
    "m = 10\n",
    "dx0 = 1/2\n",
    "ntest = 100\n",
    "\n",
    "def sphere_experiment(m,N):\n",
    "#     U = np.random.randn(2*N+1,2*N+1)\n",
    "#     U,_ = np.linalg.qr(U)\n",
    "#     Ua = U[:N]\n",
    "#     Ub = U[N:2*N]\n",
    "#     mu = U[-1]\n",
    "\n",
    "    mu = np.random.randn(N)\n",
    "    mu /= np.linalg.norm(mu)\n",
    "\n",
    "    s = np.random.randn(P,N) / np.sqrt(N)\n",
    "    s /= np.linalg.norm(s,axis=-1,keepdims=True)\n",
    "    Xatrain = mu*dx0/2 + s\n",
    "    \n",
    "    s = np.random.randn(P,N) / np.sqrt(N)\n",
    "    s /= np.linalg.norm(s,axis=-1,keepdims=True)\n",
    "    Xatest = mu*dx0/2 + s\n",
    "    \n",
    "    s = np.random.randn(P,N) / np.sqrt(N)\n",
    "    s /= np.linalg.norm(s,axis=-1,keepdims=True)\n",
    "    Xbtrain = -mu*dx0/2 + s\n",
    "    \n",
    "    s = np.random.randn(P,N) / np.sqrt(N)\n",
    "    s /= np.linalg.norm(s,axis=-1,keepdims=True)\n",
    "    Xbtest = -mu*dx0/2 + s\n",
    "    \n",
    "    idxs_a = np.random.randint(0,P,(m,int(ntest)))\n",
    "    idxs_b = np.random.randint(0,P,(m,int(ntest)))\n",
    "    \n",
    "    NNerr_a, NNerr_b = NN_err_fast(Xatrain,Xbtrain,Xatest,Xbtest,idxs_a,idxs_b)\n",
    "    proto_err_a, proto_err_b = proto_err_fast(Xatrain,Xbtrain,Xatest,Xbtest,idxs_a,idxs_b)\n",
    "    \n",
    "    return (proto_err_a+proto_err_b)/2, (NNerr_a + NNerr_b)/2"
   ]
  },
  {
   "cell_type": "code",
   "execution_count": 256,
   "metadata": {},
   "outputs": [
    {
     "data": {
      "application/vnd.jupyter.widget-view+json": {
       "model_id": "b164ecf395b7498c8a419e7464ba711f",
       "version_major": 2,
       "version_minor": 0
      },
      "text/plain": [
       "HBox(children=(IntProgress(value=0, max=20), HTML(value='')))"
      ]
     },
     "metadata": {},
     "output_type": "display_data"
    },
    {
     "data": {
      "application/vnd.jupyter.widget-view+json": {
       "model_id": "",
       "version_major": 2,
       "version_minor": 0
      },
      "text/plain": [
       "HBox(children=(IntProgress(value=0, max=9), HTML(value='')))"
      ]
     },
     "metadata": {},
     "output_type": "display_data"
    },
    {
     "data": {
      "application/vnd.jupyter.widget-view+json": {
       "model_id": "",
       "version_major": 2,
       "version_minor": 0
      },
      "text/plain": [
       "HBox(children=(IntProgress(value=0, max=9), HTML(value='')))"
      ]
     },
     "metadata": {},
     "output_type": "display_data"
    },
    {
     "data": {
      "application/vnd.jupyter.widget-view+json": {
       "model_id": "",
       "version_major": 2,
       "version_minor": 0
      },
      "text/plain": [
       "HBox(children=(IntProgress(value=0, max=9), HTML(value='')))"
      ]
     },
     "metadata": {},
     "output_type": "display_data"
    },
    {
     "data": {
      "application/vnd.jupyter.widget-view+json": {
       "model_id": "",
       "version_major": 2,
       "version_minor": 0
      },
      "text/plain": [
       "HBox(children=(IntProgress(value=0, max=9), HTML(value='')))"
      ]
     },
     "metadata": {},
     "output_type": "display_data"
    },
    {
     "data": {
      "application/vnd.jupyter.widget-view+json": {
       "model_id": "",
       "version_major": 2,
       "version_minor": 0
      },
      "text/plain": [
       "HBox(children=(IntProgress(value=0, max=9), HTML(value='')))"
      ]
     },
     "metadata": {},
     "output_type": "display_data"
    },
    {
     "data": {
      "application/vnd.jupyter.widget-view+json": {
       "model_id": "",
       "version_major": 2,
       "version_minor": 0
      },
      "text/plain": [
       "HBox(children=(IntProgress(value=0, max=9), HTML(value='')))"
      ]
     },
     "metadata": {},
     "output_type": "display_data"
    },
    {
     "data": {
      "application/vnd.jupyter.widget-view+json": {
       "model_id": "",
       "version_major": 2,
       "version_minor": 0
      },
      "text/plain": [
       "HBox(children=(IntProgress(value=0, max=9), HTML(value='')))"
      ]
     },
     "metadata": {},
     "output_type": "display_data"
    },
    {
     "data": {
      "application/vnd.jupyter.widget-view+json": {
       "model_id": "",
       "version_major": 2,
       "version_minor": 0
      },
      "text/plain": [
       "HBox(children=(IntProgress(value=0, max=9), HTML(value='')))"
      ]
     },
     "metadata": {},
     "output_type": "display_data"
    },
    {
     "data": {
      "application/vnd.jupyter.widget-view+json": {
       "model_id": "",
       "version_major": 2,
       "version_minor": 0
      },
      "text/plain": [
       "HBox(children=(IntProgress(value=0, max=9), HTML(value='')))"
      ]
     },
     "metadata": {},
     "output_type": "display_data"
    },
    {
     "data": {
      "application/vnd.jupyter.widget-view+json": {
       "model_id": "",
       "version_major": 2,
       "version_minor": 0
      },
      "text/plain": [
       "HBox(children=(IntProgress(value=0, max=9), HTML(value='')))"
      ]
     },
     "metadata": {},
     "output_type": "display_data"
    },
    {
     "data": {
      "application/vnd.jupyter.widget-view+json": {
       "model_id": "",
       "version_major": 2,
       "version_minor": 0
      },
      "text/plain": [
       "HBox(children=(IntProgress(value=0, max=9), HTML(value='')))"
      ]
     },
     "metadata": {},
     "output_type": "display_data"
    },
    {
     "data": {
      "application/vnd.jupyter.widget-view+json": {
       "model_id": "",
       "version_major": 2,
       "version_minor": 0
      },
      "text/plain": [
       "HBox(children=(IntProgress(value=0, max=9), HTML(value='')))"
      ]
     },
     "metadata": {},
     "output_type": "display_data"
    },
    {
     "data": {
      "application/vnd.jupyter.widget-view+json": {
       "model_id": "",
       "version_major": 2,
       "version_minor": 0
      },
      "text/plain": [
       "HBox(children=(IntProgress(value=0, max=9), HTML(value='')))"
      ]
     },
     "metadata": {},
     "output_type": "display_data"
    },
    {
     "data": {
      "application/vnd.jupyter.widget-view+json": {
       "model_id": "",
       "version_major": 2,
       "version_minor": 0
      },
      "text/plain": [
       "HBox(children=(IntProgress(value=0, max=9), HTML(value='')))"
      ]
     },
     "metadata": {},
     "output_type": "display_data"
    },
    {
     "data": {
      "application/vnd.jupyter.widget-view+json": {
       "model_id": "",
       "version_major": 2,
       "version_minor": 0
      },
      "text/plain": [
       "HBox(children=(IntProgress(value=0, max=9), HTML(value='')))"
      ]
     },
     "metadata": {},
     "output_type": "display_data"
    },
    {
     "data": {
      "application/vnd.jupyter.widget-view+json": {
       "model_id": "",
       "version_major": 2,
       "version_minor": 0
      },
      "text/plain": [
       "HBox(children=(IntProgress(value=0, max=9), HTML(value='')))"
      ]
     },
     "metadata": {},
     "output_type": "display_data"
    },
    {
     "data": {
      "application/vnd.jupyter.widget-view+json": {
       "model_id": "",
       "version_major": 2,
       "version_minor": 0
      },
      "text/plain": [
       "HBox(children=(IntProgress(value=0, max=9), HTML(value='')))"
      ]
     },
     "metadata": {},
     "output_type": "display_data"
    },
    {
     "data": {
      "application/vnd.jupyter.widget-view+json": {
       "model_id": "",
       "version_major": 2,
       "version_minor": 0
      },
      "text/plain": [
       "HBox(children=(IntProgress(value=0, max=9), HTML(value='')))"
      ]
     },
     "metadata": {},
     "output_type": "display_data"
    },
    {
     "data": {
      "application/vnd.jupyter.widget-view+json": {
       "model_id": "",
       "version_major": 2,
       "version_minor": 0
      },
      "text/plain": [
       "HBox(children=(IntProgress(value=0, max=9), HTML(value='')))"
      ]
     },
     "metadata": {},
     "output_type": "display_data"
    },
    {
     "data": {
      "application/vnd.jupyter.widget-view+json": {
       "model_id": "",
       "version_major": 2,
       "version_minor": 0
      },
      "text/plain": [
       "HBox(children=(IntProgress(value=0, max=9), HTML(value='')))"
      ]
     },
     "metadata": {},
     "output_type": "display_data"
    },
    {
     "name": "stdout",
     "output_type": "stream",
     "text": [
      "\n"
     ]
    }
   ],
   "source": [
    "proto_errs = []\n",
    "NN_errs = []\n",
    "\n",
    "Ns = np.arange(1,10)\n",
    "ms = np.linspace(2,200,20,dtype='int')\n",
    "n_avg = 1\n",
    "for m in tqdm(ms):\n",
    "    for N in tqdm(Ns,leave=False):\n",
    "        for _ in range(n_avg):\n",
    "            proto_err, NN_err = sphere_experiment(m,N)\n",
    "            proto_errs.append(proto_err)\n",
    "            NN_errs.append(NN_err)\n",
    "proto_errs = np.stack(proto_errs).reshape(len(ms),len(Ns),n_avg).mean(-1)\n",
    "NN_errs = np.stack(NN_errs).reshape(len(ms),len(Ns),n_avg).mean(-1)"
   ]
  },
  {
   "cell_type": "code",
   "execution_count": 257,
   "metadata": {},
   "outputs": [
    {
     "data": {
      "text/plain": [
       "Text(0.5, 1.0, '$\\\\varepsilon_{NN} - \\\\varepsilon_{prototype}$')"
      ]
     },
     "execution_count": 257,
     "metadata": {},
     "output_type": "execute_result"
    },
    {
     "data": {
      "image/png": "[encoded data removed]",
      "text/plain": [
       "<Figure size 432x288 with 2 Axes>"
      ]
     },
     "metadata": {},
     "output_type": "display_data"
    }
   ],
   "source": [
    "with sns.axes_style('white'):\n",
    "    diff = (-proto_errs + NN_errs).T\n",
    "    vmax = np.max(np.abs(diff))\n",
    "    plt.imshow(diff, origin='lower',\n",
    "               extent=(np.min(ms),np.max(ms),np.min(Ns),np.max(Ns)),\n",
    "              cmap='RdBu_r',aspect='auto',vmin=-vmax/3,vmax=vmax/3)\n",
    "    \n",
    "    xx = np.linspace(np.min(ms),np.max(ms),100)\n",
    "    plt.plot(xx,np.log(xx), c='black',linestyle='dashed')\n",
    "    plt.colorbar()\n",
    "plt.xlabel('m')\n",
    "plt.ylabel('D');\n",
    "plt.ylim(np.min(Ns),np.max(Ns))\n",
    "plt.title(r'$\\varepsilon_{NN} - \\varepsilon_{prototype}$',fontsize=20)\n",
    "# plt.xlim([0,500])\n",
    "# plt.savefig('images/NN_vs_prototype_theory.pdf')"
   ]
  },
  {
   "cell_type": "markdown",
   "metadata": {},
   "source": [
    "## Vary dimensionality"
   ]
  },
  {
   "cell_type": "code",
   "execution_count": 302,
   "metadata": {},
   "outputs": [],
   "source": [
    "P = 100\n",
    "N = 101\n",
    "m = 10\n",
    "dx0 = 1\n",
    "ntest = 100\n",
    "\n",
    "def sphere_experiment_orthogonal(m,D):\n",
    "#     D = N//2-1\n",
    "    U = np.random.randn(N,2*D+1)\n",
    "#     U /= np.linalg.norm(U,axis=0)\n",
    "    U,_ = np.linalg.qr(U)\n",
    "    \n",
    "    Ua,Ub,x0 = np.split(U,(D,2*D),axis=1)\n",
    "#     x0 /= 10\n",
    "\n",
    "    sa = np.random.randn(D,P) / np.sqrt(D)\n",
    "    sa /= np.linalg.norm(sa,axis=0)\n",
    "    sb = np.random.randn(D,P) / np.sqrt(D)\n",
    "    sb /= np.linalg.norm(sb,axis=0)\n",
    "    \n",
    "    Xatrain = (x0 + Ua@sa).T\n",
    "    Xbtrain = (-x0 + Ub@sb).T\n",
    "    \n",
    "    sa = np.random.randn(D,P) / np.sqrt(D)\n",
    "    sa /= np.linalg.norm(sa,axis=0)\n",
    "    sb = np.random.randn(D,P) / np.sqrt(D)\n",
    "    sb /= np.linalg.norm(sb,axis=0)\n",
    "    \n",
    "    Xatest = (x0 + Ua@sa).T\n",
    "    Xbtest = (-x0 + Ub@sb).T\n",
    "    \n",
    "    idxs_a = np.random.randint(0,P,(m,int(ntest)))\n",
    "    idxs_b = np.random.randint(0,P,(m,int(ntest)))\n",
    "    \n",
    "    NNerr_a, NNerr_b = NN_err_fast(Xatrain,Xbtrain,Xatest,Xbtest,idxs_a,idxs_b)\n",
    "    proto_err_a, proto_err_b = proto_err_fast(Xatrain,Xbtrain,Xatest,Xbtest,idxs_a,idxs_b)\n",
    "    \n",
    "    return (proto_err_a+proto_err_b)/2, (NNerr_a + NNerr_b)/2"
   ]
  },
  {
   "cell_type": "code",
   "execution_count": 303,
   "metadata": {},
   "outputs": [
    {
     "data": {
      "application/vnd.jupyter.widget-view+json": {
       "model_id": "d90be13e579b4aeebfd7e46a5b82171d",
       "version_major": 2,
       "version_minor": 0
      },
      "text/plain": [
       "HBox(children=(IntProgress(value=0, max=20), HTML(value='')))"
      ]
     },
     "metadata": {},
     "output_type": "display_data"
    },
    {
     "data": {
      "application/vnd.jupyter.widget-view+json": {
       "model_id": "",
       "version_major": 2,
       "version_minor": 0
      },
      "text/plain": [
       "HBox(children=(IntProgress(value=0, max=4), HTML(value='')))"
      ]
     },
     "metadata": {},
     "output_type": "display_data"
    },
    {
     "data": {
      "application/vnd.jupyter.widget-view+json": {
       "model_id": "",
       "version_major": 2,
       "version_minor": 0
      },
      "text/plain": [
       "HBox(children=(IntProgress(value=0, max=4), HTML(value='')))"
      ]
     },
     "metadata": {},
     "output_type": "display_data"
    },
    {
     "data": {
      "application/vnd.jupyter.widget-view+json": {
       "model_id": "",
       "version_major": 2,
       "version_minor": 0
      },
      "text/plain": [
       "HBox(children=(IntProgress(value=0, max=4), HTML(value='')))"
      ]
     },
     "metadata": {},
     "output_type": "display_data"
    },
    {
     "data": {
      "application/vnd.jupyter.widget-view+json": {
       "model_id": "",
       "version_major": 2,
       "version_minor": 0
      },
      "text/plain": [
       "HBox(children=(IntProgress(value=0, max=4), HTML(value='')))"
      ]
     },
     "metadata": {},
     "output_type": "display_data"
    },
    {
     "data": {
      "application/vnd.jupyter.widget-view+json": {
       "model_id": "",
       "version_major": 2,
       "version_minor": 0
      },
      "text/plain": [
       "HBox(children=(IntProgress(value=0, max=4), HTML(value='')))"
      ]
     },
     "metadata": {},
     "output_type": "display_data"
    },
    {
     "data": {
      "application/vnd.jupyter.widget-view+json": {
       "model_id": "",
       "version_major": 2,
       "version_minor": 0
      },
      "text/plain": [
       "HBox(children=(IntProgress(value=0, max=4), HTML(value='')))"
      ]
     },
     "metadata": {},
     "output_type": "display_data"
    },
    {
     "data": {
      "application/vnd.jupyter.widget-view+json": {
       "model_id": "",
       "version_major": 2,
       "version_minor": 0
      },
      "text/plain": [
       "HBox(children=(IntProgress(value=0, max=4), HTML(value='')))"
      ]
     },
     "metadata": {},
     "output_type": "display_data"
    },
    {
     "data": {
      "application/vnd.jupyter.widget-view+json": {
       "model_id": "",
       "version_major": 2,
       "version_minor": 0
      },
      "text/plain": [
       "HBox(children=(IntProgress(value=0, max=4), HTML(value='')))"
      ]
     },
     "metadata": {},
     "output_type": "display_data"
    },
    {
     "data": {
      "application/vnd.jupyter.widget-view+json": {
       "model_id": "",
       "version_major": 2,
       "version_minor": 0
      },
      "text/plain": [
       "HBox(children=(IntProgress(value=0, max=4), HTML(value='')))"
      ]
     },
     "metadata": {},
     "output_type": "display_data"
    },
    {
     "data": {
      "application/vnd.jupyter.widget-view+json": {
       "model_id": "",
       "version_major": 2,
       "version_minor": 0
      },
      "text/plain": [
       "HBox(children=(IntProgress(value=0, max=4), HTML(value='')))"
      ]
     },
     "metadata": {},
     "output_type": "display_data"
    },
    {
     "data": {
      "application/vnd.jupyter.widget-view+json": {
       "model_id": "",
       "version_major": 2,
       "version_minor": 0
      },
      "text/plain": [
       "HBox(children=(IntProgress(value=0, max=4), HTML(value='')))"
      ]
     },
     "metadata": {},
     "output_type": "display_data"
    },
    {
     "data": {
      "application/vnd.jupyter.widget-view+json": {
       "model_id": "",
       "version_major": 2,
       "version_minor": 0
      },
      "text/plain": [
       "HBox(children=(IntProgress(value=0, max=4), HTML(value='')))"
      ]
     },
     "metadata": {},
     "output_type": "display_data"
    },
    {
     "data": {
      "application/vnd.jupyter.widget-view+json": {
       "model_id": "",
       "version_major": 2,
       "version_minor": 0
      },
      "text/plain": [
       "HBox(children=(IntProgress(value=0, max=4), HTML(value='')))"
      ]
     },
     "metadata": {},
     "output_type": "display_data"
    },
    {
     "data": {
      "application/vnd.jupyter.widget-view+json": {
       "model_id": "",
       "version_major": 2,
       "version_minor": 0
      },
      "text/plain": [
       "HBox(children=(IntProgress(value=0, max=4), HTML(value='')))"
      ]
     },
     "metadata": {},
     "output_type": "display_data"
    },
    {
     "data": {
      "application/vnd.jupyter.widget-view+json": {
       "model_id": "",
       "version_major": 2,
       "version_minor": 0
      },
      "text/plain": [
       "HBox(children=(IntProgress(value=0, max=4), HTML(value='')))"
      ]
     },
     "metadata": {},
     "output_type": "display_data"
    },
    {
     "data": {
      "application/vnd.jupyter.widget-view+json": {
       "model_id": "",
       "version_major": 2,
       "version_minor": 0
      },
      "text/plain": [
       "HBox(children=(IntProgress(value=0, max=4), HTML(value='')))"
      ]
     },
     "metadata": {},
     "output_type": "display_data"
    },
    {
     "data": {
      "application/vnd.jupyter.widget-view+json": {
       "model_id": "",
       "version_major": 2,
       "version_minor": 0
      },
      "text/plain": [
       "HBox(children=(IntProgress(value=0, max=4), HTML(value='')))"
      ]
     },
     "metadata": {},
     "output_type": "display_data"
    },
    {
     "data": {
      "application/vnd.jupyter.widget-view+json": {
       "model_id": "",
       "version_major": 2,
       "version_minor": 0
      },
      "text/plain": [
       "HBox(children=(IntProgress(value=0, max=4), HTML(value='')))"
      ]
     },
     "metadata": {},
     "output_type": "display_data"
    },
    {
     "data": {
      "application/vnd.jupyter.widget-view+json": {
       "model_id": "",
       "version_major": 2,
       "version_minor": 0
      },
      "text/plain": [
       "HBox(children=(IntProgress(value=0, max=4), HTML(value='')))"
      ]
     },
     "metadata": {},
     "output_type": "display_data"
    },
    {
     "data": {
      "application/vnd.jupyter.widget-view+json": {
       "model_id": "",
       "version_major": 2,
       "version_minor": 0
      },
      "text/plain": [
       "HBox(children=(IntProgress(value=0, max=4), HTML(value='')))"
      ]
     },
     "metadata": {},
     "output_type": "display_data"
    },
    {
     "name": "stdout",
     "output_type": "stream",
     "text": [
      "\n"
     ]
    }
   ],
   "source": [
    "proto_errs = []\n",
    "NN_errs = []\n",
    "\n",
    "Ns = np.arange(4,20,5)\n",
    "ms = np.linspace(2,200,20,dtype='int')\n",
    "n_avg = 1\n",
    "for m in tqdm(ms):\n",
    "    for D in tqdm(Ns,leave=False):\n",
    "        for _ in range(n_avg):\n",
    "            proto_err, NN_err = sphere_experiment_orthogonal(m,D)\n",
    "            proto_errs.append(proto_err)\n",
    "            NN_errs.append(NN_err)\n",
    "proto_errs = np.stack(proto_errs).reshape(len(ms),len(Ns),n_avg).mean(-1)\n",
    "NN_errs = np.stack(NN_errs).reshape(len(ms),len(Ns),n_avg).mean(-1)"
   ]
  },
  {
   "cell_type": "code",
   "execution_count": 304,
   "metadata": {},
   "outputs": [
    {
     "data": {
      "image/png": "[encoded data removed]",
      "text/plain": [
       "<Figure size 432x288 with 3 Axes>"
      ]
     },
     "metadata": {},
     "output_type": "display_data"
    }
   ],
   "source": [
    "with sns.axes_style('white'):\n",
    "    plt.subplot(121)\n",
    "    diff = NN_errs\n",
    "    vmax = np.max(np.abs(diff))\n",
    "    plt.imshow(diff, origin='lower',\n",
    "               extent=(np.min(ms),np.max(ms),np.min(Ns),np.max(Ns)),aspect='auto')\n",
    "    \n",
    "    xx = np.linspace(np.min(ms),np.max(ms),100)\n",
    "    plt.plot(xx,np.log(xx), c='black',linestyle='dashed')\n",
    "    plt.subplot(122)\n",
    "    diff = proto_errs\n",
    "    vmax = np.max(np.abs(diff))\n",
    "    plt.imshow(diff, origin='lower',\n",
    "               extent=(np.min(ms),np.max(ms),np.min(Ns),np.max(Ns)),aspect='auto')\n",
    "    \n",
    "    xx = np.linspace(np.min(ms),np.max(ms),100)\n",
    "    plt.plot(xx,np.log(xx), c='black',linestyle='dashed')\n",
    "    plt.colorbar()"
   ]
  },
  {
   "cell_type": "code",
   "execution_count": 305,
   "metadata": {},
   "outputs": [
    {
     "data": {
      "text/plain": [
       "Text(0.5, 1.0, '$\\\\varepsilon_{NN} - \\\\varepsilon_{prototype}$')"
      ]
     },
     "execution_count": 305,
     "metadata": {},
     "output_type": "execute_result"
    },
    {
     "data": {
      "image/png": "[encoded data removed]",
      "text/plain": [
       "<Figure size 432x288 with 2 Axes>"
      ]
     },
     "metadata": {},
     "output_type": "display_data"
    }
   ],
   "source": [
    "with sns.axes_style('white'):\n",
    "    diff = (-proto_errs + NN_errs).T\n",
    "    vmax = np.max(np.abs(diff))\n",
    "    plt.imshow(diff, origin='lower',\n",
    "               extent=(np.min(ms),np.max(ms),np.min(Ns),np.max(Ns)),\n",
    "              cmap='RdBu_r',aspect='auto',vmin=-vmax/3,vmax=vmax/3)\n",
    "    \n",
    "    xx = np.linspace(np.min(ms),np.max(ms),100)\n",
    "    plt.plot(xx,np.log(xx), c='black',linestyle='dashed')\n",
    "    plt.colorbar()\n",
    "plt.xlabel('m')\n",
    "plt.ylabel('D');\n",
    "plt.ylim(np.min(Ns),np.max(Ns))\n",
    "plt.title(r'$\\varepsilon_{NN} - \\varepsilon_{prototype}$',fontsize=20)\n",
    "# plt.xlim([0,500])\n",
    "# plt.savefig('images/NN_vs_prototype_theory.pdf')"
   ]
  },
  {
   "cell_type": "markdown",
   "metadata": {},
   "source": [
    "# Object manifolds"
   ]
  },
  {
   "cell_type": "code",
   "execution_count": 3,
   "metadata": {},
   "outputs": [],
   "source": [
    "emb_path = '/mnt/fs2/bsorsch/manifold/embeddings_new/1k_objects/resnet50/'\n",
    "manifolds_load = np.load(emb_path + 'manifolds.npy',allow_pickle=True)"
   ]
  },
  {
   "cell_type": "code",
   "execution_count": 4,
   "metadata": {},
   "outputs": [],
   "source": [
    "P = 500\n",
    "manifolds = []\n",
    "for manifold in manifolds_load:\n",
    "    manifolds.append(manifold[:P])\n",
    "manifolds = np.stack(manifolds)"
   ]
  },
  {
   "cell_type": "code",
   "execution_count": 268,
   "metadata": {},
   "outputs": [],
   "source": [
    "centers = manifolds.mean(1)"
   ]
  },
  {
   "cell_type": "code",
   "execution_count": 269,
   "metadata": {},
   "outputs": [],
   "source": [
    "U,S,V = np.linalg.svd(centers - centers.mean(0),full_matrices=False)"
   ]
  },
  {
   "cell_type": "code",
   "execution_count": 326,
   "metadata": {},
   "outputs": [
    {
     "data": {
      "text/plain": [
       "100"
      ]
     },
     "execution_count": 326,
     "metadata": {},
     "output_type": "execute_result"
    }
   ],
   "source": [
    "ntest"
   ]
  },
  {
   "cell_type": "code",
   "execution_count": 329,
   "metadata": {
    "scrolled": true
   },
   "outputs": [
    {
     "data": {
      "application/vnd.jupyter.widget-view+json": {
       "model_id": "3edea8456f384840ba6ad210782baa0f",
       "version_major": 2,
       "version_minor": 0
      },
      "text/plain": [
       "HBox(children=(IntProgress(value=0, max=1), HTML(value='')))"
      ]
     },
     "metadata": {},
     "output_type": "display_data"
    },
    {
     "data": {
      "application/vnd.jupyter.widget-view+json": {
       "model_id": "",
       "version_major": 2,
       "version_minor": 0
      },
      "text/plain": [
       "HBox(children=(IntProgress(value=0, max=10), HTML(value='')))"
      ]
     },
     "metadata": {},
     "output_type": "display_data"
    },
    {
     "name": "stdout",
     "output_type": "stream",
     "text": [
      "\n"
     ]
    }
   ],
   "source": [
    "proto_errs = []\n",
    "NN_errs = []\n",
    "\n",
    "Ns = np.arange(1,50,5)\n",
    "ms = np.linspace(2,30,10,dtype='int')\n",
    "n_avg = 1\n",
    "ntest = 1000\n",
    "for _ in tqdm(range(n_avg)):\n",
    "    a,b = np.random.choice(1000,2,replace=False)\n",
    "    Xa = manifolds[a]\n",
    "    Xb = manifolds[b]\n",
    "    Ua,Sa,Va = np.linalg.svd(Xa - Xa.mean(0))\n",
    "    Ub,Sb,Vb = np.linalg.svd(Xb - Xb.mean(0))\n",
    "    for k in tqdm(Ns,leave=False):\n",
    "        A = np.random.randn(2048,k) / np.sqrt(k)\n",
    "#         Xak = Xa@A\n",
    "#         Xbk = Xb@A\n",
    "        Xak = Ua[:,:k]*Sa[:k]@Va[:k]\n",
    "#         Xak *= (Sa**2).sum() / (Sa[:k]**2).sum()\n",
    "        Xak += Xa.mean(0)\n",
    "        Xbk = Ub[:,:k]*Sb[:k]@Vb[:k]\n",
    "#         Xbk *= (Sb**2).sum() / (Sb[:k]**2).sum()\n",
    "        Xbk += Xb.mean(0)\n",
    "        for m in ms:\n",
    "            perma = np.random.permutation(P)\n",
    "            permb = np.random.permutation(P)\n",
    "            Xatrain,Xatest = np.split(Xak[perma],2)\n",
    "            Xbtrain,Xbtest = np.split(Xbk[permb],2)\n",
    "            \n",
    "            # Generalization error\n",
    "            idxs_a = np.random.randint(0,P//2,(m,int(ntest)))\n",
    "            idxs_b = np.random.randint(0,P//2,(m,int(ntest)))\n",
    "            NNerr_a, NNerr_b = NN_err_fast(Xatrain,Xbtrain,Xatest,Xbtest,idxs_a,idxs_b)\n",
    "            proto_err_a, proto_err_b = proto_err_fast(Xatrain,Xbtrain,Xatest,Xbtest,idxs_a,idxs_b)\n",
    "            \n",
    "            NN_errs.append((NNerr_a + NNerr_b)/2)\n",
    "            proto_errs.append((proto_err_a + proto_err_b)/2)\n",
    "proto_errs = np.stack(proto_errs).reshape(n_avg,len(Ns),len(ms)).mean(0)\n",
    "NN_errs = np.stack(NN_errs).reshape(n_avg,len(Ns),len(ms)).mean(0)"
   ]
  },
  {
   "cell_type": "code",
   "execution_count": 327,
   "metadata": {},
   "outputs": [
    {
     "data": {
      "image/png": "[encoded data removed]",
      "text/plain": [
       "<Figure size 432x288 with 3 Axes>"
      ]
     },
     "metadata": {},
     "output_type": "display_data"
    }
   ],
   "source": [
    "with sns.axes_style('white'):\n",
    "    plt.subplot(121)\n",
    "    diff = NN_errs\n",
    "    vmax = np.max(np.abs(diff))\n",
    "    plt.imshow(diff, origin='lower',\n",
    "               extent=(np.min(ms),np.max(ms),np.min(Ns),np.max(Ns)),aspect='auto')\n",
    "    \n",
    "    xx = np.linspace(np.min(ms),np.max(ms),100)\n",
    "    plt.plot(xx,np.log(xx), c='black',linestyle='dashed')\n",
    "    plt.subplot(122)\n",
    "    diff = proto_errs\n",
    "    vmax = np.max(np.abs(diff))\n",
    "    plt.imshow(diff, origin='lower',\n",
    "               extent=(np.min(ms),np.max(ms),np.min(Ns),np.max(Ns)),aspect='auto')\n",
    "    \n",
    "    xx = np.linspace(np.min(ms),np.max(ms),100)\n",
    "    plt.plot(xx,np.log(xx), c='black',linestyle='dashed')\n",
    "    plt.colorbar()"
   ]
  },
  {
   "cell_type": "code",
   "execution_count": 328,
   "metadata": {},
   "outputs": [
    {
     "data": {
      "text/plain": [
       "Text(0.5, 1.0, '$\\\\varepsilon_{NN} - \\\\varepsilon_{prototype}$')"
      ]
     },
     "execution_count": 328,
     "metadata": {},
     "output_type": "execute_result"
    },
    {
     "data": {
      "image/png": "[encoded data removed]",
      "text/plain": [
       "<Figure size 432x288 with 2 Axes>"
      ]
     },
     "metadata": {},
     "output_type": "display_data"
    }
   ],
   "source": [
    "with sns.axes_style('white'):\n",
    "    diff = -proto_errs + NN_errs\n",
    "    vmax = np.max(np.abs(diff))\n",
    "    plt.imshow(diff, origin='lower',\n",
    "               extent=(np.min(ms),np.max(ms),np.min(Ns),np.max(Ns)),\n",
    "              cmap='RdBu_r',aspect='auto',vmin=-vmax,vmax=vmax)\n",
    "    \n",
    "    xx = np.linspace(np.min(ms),np.max(ms),100)\n",
    "    plt.plot(xx,np.log(xx), c='black',linestyle='dashed')\n",
    "    plt.colorbar()\n",
    "plt.xlabel('m')\n",
    "plt.ylabel('D');\n",
    "plt.ylim(np.min(Ns),np.max(Ns))\n",
    "plt.title(r'$\\varepsilon_{NN} - \\varepsilon_{prototype}$',fontsize=20)\n",
    "# plt.xlim([0,500])\n",
    "# plt.savefig('images/NN_vs_prototype_theory.pdf')"
   ]
  },
  {
   "cell_type": "code",
   "execution_count": 26,
   "metadata": {},
   "outputs": [],
   "source": [
    "m = 5\n",
    "perma = np.random.permutation(P)\n",
    "permb = np.random.permutation(P)\n",
    "Xatrain,Xatest = np.split(Xa[perma],(m,))\n",
    "Xbtrain,_ = np.split(Xb[permb],(m,))"
   ]
  },
  {
   "cell_type": "code",
   "execution_count": null,
   "metadata": {},
   "outputs": [],
   "source": [
    "w = Xatrain.mean(0) - Xbtrain.mean(0)\n",
    "mu = (Xatrain.mean(0) + Xbtrain.mean(0))/2\n",
    "h = Xatest@w - w@mu\n",
    "proto_err = (h<0).mean()\n",
    "\n",
    "ytrain = np.concatenate([np.ones(m),-np.ones(m)])\n",
    "Xtrain = np.vstack([Xatrain,Xbtrain])\n",
    "nn.fit(Xtrain,ytrain)\n",
    "yhat = nn.predict(Xatest)\n",
    "NN_err = (yhat!=1).mean()"
   ]
  }
 ],
 "metadata": {
  "kernelspec": {
   "display_name": "Tensorflow 2",
   "language": "python",
   "name": ".tf2"
  },
  "language_info": {
   "codemirror_mode": {
    "name": "ipython",
    "version": 3
   },
   "file_extension": ".py",
   "mimetype": "text/x-python",
   "name": "python",
   "nbconvert_exporter": "python",
   "pygments_lexer": "ipython3",
   "version": "3.5.2"
  },
  "toc": {
   "base_numbering": 1,
   "nav_menu": {},
   "number_sections": true,
   "sideBar": true,
   "skip_h1_title": false,
   "title_cell": "Table of Contents",
   "title_sidebar": "Contents",
   "toc_cell": false,
   "toc_position": {
    "height": "calc(100% - 180px)",
    "left": "10px",
    "top": "150px",
    "width": "165px"
   },
   "toc_section_display": true,
   "toc_window_display": true
  }
 },
 "nbformat": 4,
 "nbformat_minor": 4
}
