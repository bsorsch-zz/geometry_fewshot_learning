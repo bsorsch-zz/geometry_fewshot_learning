{
 "cells": [
  {
   "cell_type": "code",
   "execution_count": 155,
   "metadata": {},
   "outputs": [],
   "source": [
    "import numpy as np\n",
    "from numpy import random\n",
    "\n",
    "from tqdm import tqdm_notebook as tqdm\n",
    "from matplotlib import pyplot as plt\n",
    "import seaborn as sns\n",
    "\n",
    "sns.set(font_scale=1.3, rc={\"lines.linewidth\": 2.5})\n",
    "sns.set_style('whitegrid')"
   ]
  },
  {
   "cell_type": "code",
   "execution_count": 2,
   "metadata": {},
   "outputs": [],
   "source": [
    "import os\n",
    "os.environ[\"CUDA_DEVICE_ORDER\"]=\"PCI_BUS_ID\"   # see issue #152\n",
    "os.environ[\"CUDA_VISIBLE_DEVICES\"]=\"0\""
   ]
  },
  {
   "cell_type": "code",
   "execution_count": 133,
   "metadata": {},
   "outputs": [],
   "source": [
    "from scipy.special import erfc\n",
    "def H(x):\n",
    "    return erfc(x/np.sqrt(2))/2"
   ]
  },
  {
   "cell_type": "code",
   "execution_count": 148,
   "metadata": {},
   "outputs": [],
   "source": [
    "def SNR(signal, bias, D, overlap, m):\n",
    "    return 1/2*(signal + bias/m) / np.sqrt(1/D/m + overlap + 1/D * m*(m-1)/m**4)"
   ]
  },
  {
   "cell_type": "code",
   "execution_count": 149,
   "metadata": {},
   "outputs": [],
   "source": [
    "from jax import numpy as np"
   ]
  },
  {
   "cell_type": "code",
   "execution_count": 164,
   "metadata": {},
   "outputs": [],
   "source": [
    "N = 500\n",
    "D = 50\n",
    "P = 5000\n",
    "\n",
    "def few_shot_err(N,D,P,m,Ra,Rb):\n",
    "    # Subspaces\n",
    "    U = random.randn(N,2*(D+1))\n",
    "    U,_ = np.linalg.qr(U)\n",
    "    Ua,Ub,x0a,x0b = np.split(U,(D,2*D,2*D+1),axis=-1)\n",
    "    x0a /= np.sqrt(2)\n",
    "    x0b /= np.sqrt(2)\n",
    "\n",
    "    # Training examples\n",
    "    sa = random.randn(D,P,m)\n",
    "    sa /= np.linalg.norm(sa,axis=0)\n",
    "    sb = random.randn(D,P,m)\n",
    "    sb /= np.linalg.norm(sb,axis=0)\n",
    "    Xatrain = x0a + Ra*Ua@sa.mean(-1)\n",
    "    Xbtrain = x0b + Rb*Ub@sb.mean(-1)\n",
    "    Xtrain = np.stack([Xatrain,Xbtrain])\n",
    "\n",
    "    # Testing examples\n",
    "    ssa = random.randn(D,P)\n",
    "    ssa /= np.linalg.norm(ssa,axis=0)\n",
    "    ssb = random.randn(D,P)\n",
    "    ssb /= np.linalg.norm(ssb,axis=0)\n",
    "    Xatest = x0a + Ra*Ua@ssa\n",
    "    Xbtest = x0b + Rb*Ub@ssb\n",
    "\n",
    "    # Evaluate\n",
    "    da = ((Xatest - Xtrain)**2).sum(1)\n",
    "    db = ((Xbtest - Xtrain)**2).sum(1)\n",
    "    erra = (da.argmin(0)!=0).mean()\n",
    "    errb = (db.argmin(0)!=1).mean()\n",
    "    err = (erra+errb)/2\n",
    "    \n",
    "    return err"
   ]
  },
  {
   "cell_type": "code",
   "execution_count": 153,
   "metadata": {},
   "outputs": [
    {
     "data": {
      "application/vnd.jupyter.widget-view+json": {
       "model_id": "9d683c03193f4253935d03e31ddbedb8",
       "version_major": 2,
       "version_minor": 0
      },
      "text/plain": [
       "HBox(children=(IntProgress(value=0, max=20), HTML(value='')))"
      ]
     },
     "metadata": {},
     "output_type": "display_data"
    },
    {
     "name": "stdout",
     "output_type": "stream",
     "text": [
      "\n"
     ]
    },
    {
     "data": {
      "application/vnd.jupyter.widget-view+json": {
       "model_id": "b09b1de3f898418e8b5ce1b058963ac7",
       "version_major": 2,
       "version_minor": 0
      },
      "text/plain": [
       "HBox(children=(IntProgress(value=0, max=20), HTML(value='')))"
      ]
     },
     "metadata": {},
     "output_type": "display_data"
    },
    {
     "name": "stdout",
     "output_type": "stream",
     "text": [
      "\n"
     ]
    },
    {
     "data": {
      "application/vnd.jupyter.widget-view+json": {
       "model_id": "a7e4ad17e22a4b79a4a088e3ab111da6",
       "version_major": 2,
       "version_minor": 0
      },
      "text/plain": [
       "HBox(children=(IntProgress(value=0, max=20), HTML(value='')))"
      ]
     },
     "metadata": {},
     "output_type": "display_data"
    },
    {
     "name": "stdout",
     "output_type": "stream",
     "text": [
      "\n"
     ]
    }
   ],
   "source": [
    "ms = [1,3,5]\n",
    "Rs = 1/np.linspace(0.4,0.8,20)\n",
    "errs = []\n",
    "for m in ms:\n",
    "    for R in tqdm(Rs):\n",
    "        Ra = Rb = R\n",
    "        err = few_shot_err(N,D,P,m,Ra,Rb)\n",
    "        errs.append(err)\n",
    "errs = np.stack(errs).reshape(len(ms),len(Rs))"
   ]
  },
  {
   "cell_type": "code",
   "execution_count": 156,
   "metadata": {},
   "outputs": [
    {
     "data": {
      "image/png": "[encoded data removed]",
      "text/plain": [
       "<Figure size 432x288 with 1 Axes>"
      ]
     },
     "metadata": {},
     "output_type": "display_data"
    }
   ],
   "source": [
    "with sns.color_palette('tab20c'):\n",
    "    for err,m in zip(errs,ms):\n",
    "        plt.scatter((1/Rs)**2,err)\n",
    "        bias = 0\n",
    "        overlap = 0\n",
    "        signals = (1/Rs)**2\n",
    "        plt.plot(signals, H(SNR(signals, bias, D, overlap, m)))\n",
    "#         plt.yscale('log')"
   ]
  },
  {
   "cell_type": "code",
   "execution_count": 175,
   "metadata": {},
   "outputs": [
    {
     "data": {
      "application/vnd.jupyter.widget-view+json": {
       "model_id": "a485951f87594ab58acda8ff119c81bc",
       "version_major": 2,
       "version_minor": 0
      },
      "text/plain": [
       "HBox(children=(IntProgress(value=0, max=20), HTML(value='')))"
      ]
     },
     "metadata": {},
     "output_type": "display_data"
    },
    {
     "name": "stdout",
     "output_type": "stream",
     "text": [
      "\n"
     ]
    },
    {
     "data": {
      "application/vnd.jupyter.widget-view+json": {
       "model_id": "12ffe17113754c06a319a38b9036a163",
       "version_major": 2,
       "version_minor": 0
      },
      "text/plain": [
       "HBox(children=(IntProgress(value=0, max=20), HTML(value='')))"
      ]
     },
     "metadata": {},
     "output_type": "display_data"
    },
    {
     "name": "stdout",
     "output_type": "stream",
     "text": [
      "\n"
     ]
    },
    {
     "data": {
      "application/vnd.jupyter.widget-view+json": {
       "model_id": "e982ed10444842b89ce145f94a9cbd4d",
       "version_major": 2,
       "version_minor": 0
      },
      "text/plain": [
       "HBox(children=(IntProgress(value=0, max=20), HTML(value='')))"
      ]
     },
     "metadata": {},
     "output_type": "display_data"
    },
    {
     "name": "stdout",
     "output_type": "stream",
     "text": [
      "\n"
     ]
    }
   ],
   "source": [
    "ms = [1,3,5]\n",
    "R = 2\n",
    "Ra = Rb = R\n",
    "Ds = np.linspace(10,200,20,dtype='int')\n",
    "errs = []\n",
    "for m in ms:\n",
    "    for D in tqdm(Ds):\n",
    "        err = few_shot_err(N,D,P,m,Ra,Rb)\n",
    "        errs.append(err)\n",
    "errs = np.stack(errs).reshape(len(ms),len(Ds))"
   ]
  },
  {
   "cell_type": "code",
   "execution_count": 177,
   "metadata": {},
   "outputs": [
    {
     "data": {
      "text/plain": [
       "Text(0.5, 0, 'D')"
      ]
     },
     "execution_count": 177,
     "metadata": {},
     "output_type": "execute_result"
    },
    {
     "data": {
      "image/png": "[encoded data removed]",
      "text/plain": [
       "<Figure size 432x288 with 1 Axes>"
      ]
     },
     "metadata": {},
     "output_type": "display_data"
    }
   ],
   "source": [
    "with sns.color_palette('tab20c'):\n",
    "    for i in range(4):\n",
    "        plt.scatter(0,0,s=0)\n",
    "        plt.plot(0,0)\n",
    "    for err,m in zip(errs,ms):\n",
    "        plt.scatter(Ds,err)\n",
    "        bias = 0\n",
    "        overlap = 0\n",
    "        signal = 1/R**2\n",
    "        plt.plot(Ds, H(SNR(signal, bias, Ds, overlap, m)))\n",
    "# plt.yscale('log')\n",
    "plt.xlabel('D')"
   ]
  },
  {
   "cell_type": "code",
   "execution_count": null,
   "metadata": {},
   "outputs": [],
   "source": []
  }
 ],
 "metadata": {
  "kernelspec": {
   "display_name": "Tensorflow 2",
   "language": "python",
   "name": ".tf2"
  },
  "language_info": {
   "codemirror_mode": {
    "name": "ipython",
    "version": 3
   },
   "file_extension": ".py",
   "mimetype": "text/x-python",
   "name": "python",
   "nbconvert_exporter": "python",
   "pygments_lexer": "ipython3",
   "version": "3.5.2"
  },
  "toc": {
   "base_numbering": 1,
   "nav_menu": {},
   "number_sections": true,
   "sideBar": true,
   "skip_h1_title": false,
   "title_cell": "Table of Contents",
   "title_sidebar": "Contents",
   "toc_cell": false,
   "toc_position": {},
   "toc_section_display": true,
   "toc_window_display": false
  }
 },
 "nbformat": 4,
 "nbformat_minor": 4
}
