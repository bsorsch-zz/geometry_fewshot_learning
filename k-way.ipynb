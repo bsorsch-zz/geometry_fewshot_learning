{
 "cells": [
  {
   "cell_type": "code",
   "execution_count": 1,
   "metadata": {},
   "outputs": [],
   "source": [
    "import numpy as np\n",
    "import os\n",
    "from tqdm import tqdm\n",
    "from matplotlib import pyplot as plt\n",
    "import seaborn as sns\n",
    "\n",
    "sns.set(font_scale=1.3, rc={\"lines.linewidth\": 2.5})"
   ]
  },
  {
   "cell_type": "code",
   "execution_count": 2,
   "metadata": {},
   "outputs": [],
   "source": [
    "import os\n",
    "os.environ[\"CUDA_DEVICE_ORDER\"]=\"PCI_BUS_ID\"\n",
    "os.environ[\"CUDA_VISIBLE_DEVICES\"]=\"0\""
   ]
  },
  {
   "cell_type": "code",
   "execution_count": 3,
   "metadata": {},
   "outputs": [],
   "source": [
    "emb_path = '/mnt/fs2/bsorsch/manifold/embeddings_new/1k_objects/'\n",
    "modelname = 'resnet50'\n",
    "model_dir = os.path.join(emb_path,modelname)"
   ]
  },
  {
   "cell_type": "code",
   "execution_count": 4,
   "metadata": {},
   "outputs": [],
   "source": [
    "manifolds_load = np.load(os.path.join(model_dir,'manifolds.npy'),allow_pickle=True)"
   ]
  },
  {
   "cell_type": "code",
   "execution_count": 5,
   "metadata": {},
   "outputs": [],
   "source": [
    "from jax import numpy as np\n",
    "from jax import jit, random\n",
    "key = random.PRNGKey(0)"
   ]
  },
  {
   "cell_type": "code",
   "execution_count": 6,
   "metadata": {},
   "outputs": [],
   "source": [
    "P = 500\n",
    "manifolds = []\n",
    "for manifold in manifolds_load[:100]:\n",
    "    manifolds.append(manifold[:P])\n",
    "manifolds = np.stack(manifolds)"
   ]
  },
  {
   "cell_type": "code",
   "execution_count": 8,
   "metadata": {},
   "outputs": [],
   "source": [
    "K = manifolds.shape[0]\n",
    "\n",
    "def fewshot_experiment_jax(key,X,k,m):\n",
    "    Xtrain = []\n",
    "    Xtest = []\n",
    "    for x in X:\n",
    "        perm = random.permutation(key,P)\n",
    "        xtrain,xtest = np.split(x[perm],(m,))\n",
    "        Xtrain.append(xtrain)\n",
    "        Xtest.append(xtest)\n",
    "    Xtrain = np.stack(Xtrain)\n",
    "    Xtest = np.stack(Xtest)\n",
    "\n",
    "    prototypes = Xtrain.mean(1)\n",
    "    dists = ((prototypes[:,None,None] - Xtest[None])**2).sum(-1)\n",
    "    preds = dists.argmin(0)\n",
    "    targets = np.tile(np.arange(k)[:,None],(P-m,))\n",
    "    errs = (preds!=targets).mean(-1)\n",
    "    \n",
    "    return errs\n",
    "\n",
    "fewshot_experiment_jit = jit(fewshot_experiment_jax,static_argnums=(2,3))"
   ]
  },
  {
   "cell_type": "code",
   "execution_count": 72,
   "metadata": {},
   "outputs": [],
   "source": [
    "def fewshot_experiment_fast(key,X,k,m,navg):\n",
    "    ''' Performs a quick heuristic m-shot learning experiment on a pair of manifolds X=(Xa,Xb),\n",
    "    allowing overlap between training and test examples.\n",
    "    \n",
    "    Args: \n",
    "        X: (k,P,N)\n",
    "    \n",
    "    Returns:\n",
    "        errs: (k,) avg error on each manifold\n",
    "    '''\n",
    "    prototypes = []\n",
    "    for a in range(k):\n",
    "        key,_ = random.split(key)\n",
    "        idxs = random.randint(key, (m,navg), 0,P)\n",
    "        prototypes.append(X[a][idxs].mean(0))\n",
    "    prototypes = np.stack(prototypes)\n",
    "\n",
    "    dists = ((prototypes[:,None,:,None] - X[None,:,None])**2).sum(-1)\n",
    "    preds = dists.argmin(0).reshape(k,-1)\n",
    "    targets = np.tile(np.arange(k)[:,None],(P*navg,))\n",
    "    errs = (preds!=targets)\n",
    "    err_mean = errs.mean(-1)\n",
    "    err_std = errs.std(-1)\n",
    "\n",
    "    return err_mean,err_std\n",
    "\n",
    "fewshot_experiment_fast = jit(fewshot_experiment_fast, static_argnums=(2,3,4))"
   ]
  },
  {
   "cell_type": "code",
   "execution_count": 50,
   "metadata": {},
   "outputs": [
    {
     "name": "stdout",
     "output_type": "stream",
     "text": [
      "46.9 ms ± 178 µs per loop (mean ± std. dev. of 7 runs, 100 loops each)\n"
     ]
    }
   ],
   "source": [
    "%%timeit\n",
    "fewshot_experiment_fast(key,X,k,m,100)"
   ]
  },
  {
   "cell_type": "code",
   "execution_count": 51,
   "metadata": {},
   "outputs": [
    {
     "name": "stderr",
     "output_type": "stream",
     "text": [
      "100%|██████████| 10/10 [02:40<00:00, 16.06s/it]\n"
     ]
    }
   ],
   "source": [
    "ks = np.arange(2,50,5) \n",
    "m = 5\n",
    "navg = 100\n",
    "ms = np.arange(1,6)\n",
    "errs_all = {}\n",
    "for k in tqdm(ks):\n",
    "    errs_all[k] = []\n",
    "    key,_ = random.split(key)\n",
    "    idxs = random.randint(key,(k,),0,K)\n",
    "    X = manifolds[idxs]\n",
    "    errs = fewshot_experiment_fast(key,X,k,m,navg)\n",
    "    errs_all[k].append(errs)\n",
    "# errs_all = np.stack(errs_all).reshape(len(ms),-1,k)"
   ]
  },
  {
   "cell_type": "code",
   "execution_count": 52,
   "metadata": {},
   "outputs": [],
   "source": [
    "err_means = []\n",
    "for k in ks:\n",
    "    err_means.append(np.mean(np.stack(errs_all[k])))\n",
    "err_means = np.stack(err_means)"
   ]
  },
  {
   "cell_type": "code",
   "execution_count": 76,
   "metadata": {
    "scrolled": true
   },
   "outputs": [
    {
     "data": {
      "text/plain": [
       "[<matplotlib.lines.Line2D at 0x7f1e615cd250>]"
      ]
     },
     "execution_count": 76,
     "metadata": {},
     "output_type": "execute_result"
    },
    {
     "data": {
      "image/png": "[encoded data removed]",
      "text/plain": [
       "<Figure size 432x288 with 1 Axes>"
      ]
     },
     "metadata": {},
     "output_type": "display_data"
    }
   ],
   "source": [
    "plt.plot(1-err_means, 'o-')"
   ]
  },
  {
   "cell_type": "markdown",
   "metadata": {},
   "source": [
    "# Theory"
   ]
  },
  {
   "cell_type": "code",
   "execution_count": 54,
   "metadata": {},
   "outputs": [],
   "source": [
    "from scipy.special import erfc\n",
    "def H(x):\n",
    "    return erfc(x/np.sqrt(2))/2"
   ]
  },
  {
   "cell_type": "code",
   "execution_count": 55,
   "metadata": {},
   "outputs": [],
   "source": [
    "Rs = np.load(os.path.join(model_dir,'Rs.npy'))\n",
    "Ds = (Rs**2).sum(-1)**2 / (Rs**4).sum(-1)\n",
    "Us = np.load(os.path.join(model_dir,'Us.npy'))\n",
    "x0s = np.load(os.path.join(model_dir,'centers.npy'))"
   ]
  },
  {
   "cell_type": "code",
   "execution_count": 56,
   "metadata": {},
   "outputs": [],
   "source": [
    "from scipy.spatial.distance import pdist, squareform\n",
    "dists = squareform(pdist(x0s))\n",
    "dist_norm = dists / np.sqrt((Rs**2).mean(-1)[:,None])"
   ]
  },
  {
   "cell_type": "code",
   "execution_count": 57,
   "metadata": {},
   "outputs": [],
   "source": [
    "# csa_all = np.load(os.path.join(model_dir,'center_subspace_a.npy'))\n",
    "# csb_all = np.load(os.path.join(model_dir,'center_subspace_b.npy'))\n",
    "# ss_all = np.load(os.path.join(model_dir,'subspace_subspace.npy'))"
   ]
  },
  {
   "cell_type": "code",
   "execution_count": 137,
   "metadata": {},
   "outputs": [],
   "source": [
    "from scipy.stats import mvn\n",
    "\n",
    "def kway_theory(idxs,m,k):\n",
    "    pred_errs = []\n",
    "    for a in idxs:\n",
    "        Sigma = []\n",
    "        mu = []\n",
    "        for b in idxs[idxs!=a]:\n",
    "            for c in idxs[idxs!=a]:\n",
    "                dx0b = x0s[a] - x0s[b]\n",
    "                dx0c = x0s[a] - x0s[c]\n",
    "                csa = (Rs[a]**2*(Us[a]@dx0b)*(Us[a]@dx0c)).mean() / (Rs[a]**2).mean()**2\n",
    "\n",
    "                sigma = 1/Ds[a]/m + 1/(2*Ds[a]*m**2) + csa\n",
    "\n",
    "                if b==c:\n",
    "                    sigma += (Rs[b]**2).mean()/(Rs[a]**2).mean()/(2*Ds[b]*m**2)\n",
    "                    csb = ((Rs[b]*(Us[b]@dx0b))**2).mean() / (Rs[a]**2).mean()**2 / m\n",
    "                    sigma += csb\n",
    "                    cosphi = Us[a]@Us[b].T\n",
    "                    ss = (cosphi**2*Rs[a][:,None]**2*Rs[b]**2).sum() / (Rs[a]**2).sum()**2 / m\n",
    "                    sigma += ss\n",
    "\n",
    "                    mean = 1/2*((x0s[a] - x0s[b])**2).sum() / (Rs[a]**2).mean()\n",
    "                    mean += 1/2*((Rs[b]**2).sum()/(Rs[a]**2).sum() - 1)/m\n",
    "                    mu.append(mean)\n",
    "                Sigma.append(sigma)\n",
    "        Sigma = np.stack(Sigma).reshape(k-1,k-1)\n",
    "        mu = np.stack(mu)\n",
    "\n",
    "        pred_err = 1 - mvn.mvnun(np.zeros(k-1), np.ones(k-1)*1e10,mu,Sigma)[0]\n",
    "        pred_errs.append(pred_err)\n",
    "\n",
    "    return np.stack(pred_errs)"
   ]
  },
  {
   "cell_type": "code",
   "execution_count": 78,
   "metadata": {},
   "outputs": [
    {
     "name": "stderr",
     "output_type": "stream",
     "text": [
      "100%|██████████| 50/50 [00:37<00:00,  1.34it/s]\n"
     ]
    }
   ],
   "source": [
    "k = 3\n",
    "m = 5\n",
    "ntest = 50\n",
    "navg = 1000\n",
    "ms = np.arange(1,6)\n",
    "errs_mean = []\n",
    "errs_std = []\n",
    "pred_errs_all = []\n",
    "for _ in tqdm(range(ntest)):\n",
    "    key,_ = random.split(key)\n",
    "    idxs = random.choice(key,K,(k,),replace=False)\n",
    "    pred_errs = kway_theory(idxs,m,k)\n",
    "    pred_errs_all.append(pred_errs)\n",
    "    X = manifolds[idxs]\n",
    "    key,_ = random.split(key)\n",
    "    err,err_std = fewshot_experiment_fast(key,X,k,m,navg)\n",
    "    errs_mean.append(err)\n",
    "    errs_std.append(err_std)\n",
    "    \n",
    "errs_mean = np.stack(errs_mean)\n",
    "errs_std = np.stack(errs_std)\n",
    "pred_errs_all = np.stack(pred_errs_all)"
   ]
  },
  {
   "cell_type": "code",
   "execution_count": 79,
   "metadata": {},
   "outputs": [],
   "source": [
    "from scipy.special import erfc, erfcinv\n",
    "def H(x):\n",
    "    return erfc(x/np.sqrt(2))/2\n",
    "\n",
    "def Hinv(z):\n",
    "    return erfcinv(2*z)*np.sqrt(2)"
   ]
  },
  {
   "cell_type": "code",
   "execution_count": 82,
   "metadata": {
    "scrolled": false
   },
   "outputs": [
    {
     "data": {
      "text/plain": [
       "[<matplotlib.lines.Line2D at 0x7f7c3974ed90>]"
      ]
     },
     "execution_count": 82,
     "metadata": {},
     "output_type": "execute_result"
    },
    {
     "data": {
      "image/png": "[encoded data removed]",
      "text/plain": [
       "<Figure size 360x360 with 1 Axes>"
      ]
     },
     "metadata": {},
     "output_type": "display_data"
    }
   ],
   "source": [
    "plt.figure(figsize=(5,5))\n",
    "plt.errorbar(pred_errs_all.ravel(),errs_mean.ravel(),errs_std.ravel()/np.sqrt(navg)*3,fmt='o')\n",
    "\n",
    "plt.plot([0,0.5],[0,0.5], c='black')"
   ]
  },
  {
   "cell_type": "code",
   "execution_count": 21,
   "metadata": {
    "scrolled": false
   },
   "outputs": [
    {
     "data": {
      "text/plain": [
       "[<matplotlib.lines.Line2D at 0x7f6db4a3f850>]"
      ]
     },
     "execution_count": 21,
     "metadata": {},
     "output_type": "execute_result"
    },
    {
     "data": {
      "image/png": "[encoded data removed]",
      "text/plain": [
       "<Figure size 360x360 with 1 Axes>"
      ]
     },
     "metadata": {},
     "output_type": "display_data"
    }
   ],
   "source": [
    "plt.figure(figsize=(5,5))\n",
    "\n",
    "plt.errorbar(pred_errs_all.ravel(),err_means.ravel(),err_stds.ravel()/np.sqrt(navg)*3,fmt='.')\n",
    "\n",
    "plt.plot([0,0.5],[0,0.5], c='black')"
   ]
  },
  {
   "cell_type": "code",
   "execution_count": 20,
   "metadata": {
    "scrolled": false
   },
   "outputs": [
    {
     "data": {
      "text/plain": [
       "[<matplotlib.lines.Line2D at 0x7f662ce5ca90>]"
      ]
     },
     "execution_count": 20,
     "metadata": {},
     "output_type": "execute_result"
    },
    {
     "data": {
      "image/png": "[encoded data removed]",
      "text/plain": [
       "<Figure size 360x360 with 1 Axes>"
      ]
     },
     "metadata": {},
     "output_type": "display_data"
    }
   ],
   "source": [
    "plt.figure(figsize=(5,5))\n",
    "\n",
    "plt.errorbar(Hinv(pred_errs_all.ravel()),err_means.ravel(),err_stds.ravel()/np.sqrt(navg)*3,fmt='.')\n",
    "\n",
    "# plt.plot([0,0.5],[0,0.5], c='black')\n",
    "xx = np.linspace(0,6,1000)\n",
    "plt.plot(xx,H(xx))"
   ]
  },
  {
   "cell_type": "markdown",
   "metadata": {},
   "source": [
    "## Scaling"
   ]
  },
  {
   "cell_type": "code",
   "execution_count": 125,
   "metadata": {},
   "outputs": [],
   "source": [
    "k = 50\n",
    "idxs = np.arange(k)\n",
    "X = manifolds[idxs]\n",
    "errs,errs_std = fewshot_experiment_fast(key,X,k,m,navg)"
   ]
  },
  {
   "cell_type": "code",
   "execution_count": 225,
   "metadata": {},
   "outputs": [
    {
     "data": {
      "text/plain": [
       "DeviceArray([ 2,  6, 10, 14, 18, 22, 26, 30, 34, 38, 42, 46, 50], dtype=int32)"
      ]
     },
     "execution_count": 225,
     "metadata": {},
     "output_type": "execute_result"
    }
   ],
   "source": [
    "np.arange(2,54,4)"
   ]
  },
  {
   "cell_type": "code",
   "execution_count": 227,
   "metadata": {},
   "outputs": [
    {
     "name": "stderr",
     "output_type": "stream",
     "text": [
      "100%|██████████| 2500/2500 [03:14<00:00, 12.84it/s]\n",
      "100%|██████████| 833/833 [14:18<00:00,  1.03s/it]\n",
      "100%|██████████| 500/500 [31:27<00:00,  3.78s/it]\n",
      "100%|██████████| 357/357 [50:15<00:00,  8.45s/it]\n",
      "100%|██████████| 277/277 [1:23:01<00:00, 17.98s/it]\n",
      "100%|██████████| 227/227 [1:47:18<00:00, 28.36s/it]\n",
      "100%|██████████| 192/192 [1:25:36<00:00, 26.75s/it]\n",
      "100%|██████████| 166/166 [1:19:52<00:00, 28.87s/it]\n",
      "100%|██████████| 147/147 [1:35:20<00:00, 38.91s/it]\n",
      "100%|██████████| 131/131 [1:48:38<00:00, 49.76s/it]\n",
      "100%|██████████| 119/119 [2:08:57<00:00, 65.02s/it] \n",
      "100%|██████████| 108/108 [2:33:55<00:00, 85.51s/it] \n",
      "100%|██████████| 100/100 [2:52:22<00:00, 103.43s/it] \n"
     ]
    }
   ],
   "source": [
    "ks = np.arange(2,54,4)\n",
    "m = 5\n",
    "ntest = 5000\n",
    "navg = 100\n",
    "ms = np.arange(1,11)\n",
    "errs_all = []\n",
    "pred_errs_all = []\n",
    "idxs_all = []\n",
    "err_means = []\n",
    "err_stds = []\n",
    "err_pred_means = []\n",
    "for k in ks:\n",
    "    errs_all = []\n",
    "    pred_errs_all = []\n",
    "    for _ in tqdm(range(ntest//k)):\n",
    "        key,_ = random.split(key)\n",
    "        idxs = random.choice(key,K,(k,),replace=False)\n",
    "        idxs_all.append(idxs)\n",
    "        pred_errs = kway_theory(idxs,m,k)\n",
    "        pred_errs_all.append(pred_errs)\n",
    "        X = manifolds[idxs]\n",
    "\n",
    "        key,_ = random.split(key)\n",
    "        errs,errs_std = fewshot_experiment_fast(key,X,k,m,navg)\n",
    "        errs_all.append(errs)\n",
    "            \n",
    "    errs_all = np.stack(errs_all)\n",
    "    err_means.append(errs_all.mean())\n",
    "    err_stds.append(errs_all.std())\n",
    "    err_pred_means.append(np.nanmean(np.stack(pred_errs_all)))\n",
    "\n",
    "err_means = np.stack(err_means)\n",
    "err_stds = np.stack(err_stds)\n",
    "err_pred_means = np.stack(err_pred_means)"
   ]
  },
  {
   "cell_type": "code",
   "execution_count": 238,
   "metadata": {},
   "outputs": [],
   "source": [
    "from scipy import stats\n",
    "\n",
    "def plot_CI(x,y,c,fmt,alpha=1):\n",
    "    plt.plot(x,y.mean(-1), fmt, c=c,alpha=alpha)\n",
    "    CImin,CImax = stats.t.interval(0.95, len(y),\n",
    "                     loc=y.mean(-1), scale=stats.sem(y,axis=-1))\n",
    "    plt.fill_between(x,CImin,CImax,color=c, alpha=0.2)"
   ]
  },
  {
   "cell_type": "code",
   "execution_count": 243,
   "metadata": {},
   "outputs": [],
   "source": [
    "CImin,CImax = stats.t.interval(0.99, ntest, loc=err_means, scale=err_stds/np.sqrt(ntest))"
   ]
  },
  {
   "cell_type": "code",
   "execution_count": 244,
   "metadata": {},
   "outputs": [],
   "source": [
    "sns.set_style('whitegrid')"
   ]
  },
  {
   "cell_type": "code",
   "execution_count": 265,
   "metadata": {},
   "outputs": [],
   "source": [
    "np.savez('data/kway_errs.npz',ks=ks,err_means=err_means,err_stds=err_stds)"
   ]
  },
  {
   "cell_type": "code",
   "execution_count": 250,
   "metadata": {},
   "outputs": [
    {
     "name": "stderr",
     "output_type": "stream",
     "text": [
      "/home/bsorsch/.jax/lib/python3.7/site-packages/ipykernel_launcher.py:5: MatplotlibDeprecationWarning: Since 3.2, the parameter *where* must have the same size as [2 6 10 14 18 22 26 30 34 38 42 46 50] in fill_betweenx(). This will become an error two minor releases later.\n",
      "  \"\"\"\n"
     ]
    },
    {
     "data": {
      "image/png": "[encoded data removed]",
      "text/plain": [
       "<Figure size 288x288 with 1 Axes>"
      ]
     },
     "metadata": {},
     "output_type": "display_data"
    }
   ],
   "source": [
    "plt.figure(figsize=(4,4))\n",
    "plt.plot(ks,100*err_pred_means,c='black', linewidth=2)\n",
    "plt.plot(ks,100*err_means, 'o')\n",
    "# plt.fill_between(ks,100*(err_means+err_stds),100*(err_means-err_stds),alpha=0.5)\n",
    "plt.fill_between(ks,100*CImin,100*CImax, 'o-',alpha=0.2)\n",
    "\n",
    "\n",
    "\n",
    "t = np.linspace(2,np.max(ks)+2,100)\n",
    "xx = np.concatenate([np.zeros(1),t])\n",
    "yy = np.concatenate([np.ones(1)*0.5,1-1/t])\n",
    "plt.fill_between(xx,100*yy, 100*np.ones(len(t)+1), color='gray', alpha=0.5)\n",
    "# plt.xlim([np.min(ks), np.max(ks)])\n",
    "plt.ylim([-5,100]);\n",
    "plt.xlim([0,51])\n",
    "plt.xticks([0,10,20,30,40,50]);\n",
    "plt.savefig('images/k_way_theory_experiment.pdf')"
   ]
  },
  {
   "cell_type": "code",
   "execution_count": 224,
   "metadata": {},
   "outputs": [
    {
     "data": {
      "text/plain": [
       "(0.0, 50.0)"
      ]
     },
     "execution_count": 224,
     "metadata": {},
     "output_type": "execute_result"
    },
    {
     "data": {
      "image/png": "[encoded data removed]",
      "text/plain": [
       "<Figure size 288x288 with 1 Axes>"
      ]
     },
     "metadata": {},
     "output_type": "display_data"
    }
   ],
   "source": [
    "plt.figure(figsize=(4,4))\n",
    "plt.plot(ks,100*err_pred_means,c='black', linewidth=2)\n",
    "plt.plot(ks,100*err_means, 'o')\n",
    "plt.fill_between(ks,100*CImin,100*CImax, 'o-',alpha=0.2)\n",
    "\n",
    "\n",
    "\n",
    "t = np.linspace(2,np.max(ks)+2,100)\n",
    "xx = np.concatenate([np.zeros(1),t])\n",
    "yy = np.concatenate([np.ones(1)*0.5,1-1/t])\n",
    "plt.fill_between(xx,100*yy, 100*np.ones(len(t)+1), color='gray', alpha=0.5)\n",
    "# plt.xlim([np.min(ks), np.max(ks)])\n",
    "plt.ylim([-5,100]);\n",
    "plt.xlim([0,50])\n",
    "# plt.savefig('images/k_way_theory_experiment.pdf')"
   ]
  },
  {
   "cell_type": "code",
   "execution_count": 105,
   "metadata": {},
   "outputs": [
    {
     "name": "stderr",
     "output_type": "stream",
     "text": [
      "/home/bsorsch/.jax/lib/python3.7/site-packages/ipykernel_launcher.py:2: MatplotlibDeprecationWarning: Since 3.2, the parameter *where* must have the same size as [2 3 4 5 6 7 8 9] in fill_betweenx(). This will become an error two minor releases later.\n",
      "  \n"
     ]
    },
    {
     "data": {
      "image/png": "[encoded data removed]",
      "text/plain": [
       "<Figure size 432x288 with 1 Axes>"
      ]
     },
     "metadata": {},
     "output_type": "display_data"
    }
   ],
   "source": [
    "plt.plot(ks,err_means, 'o')\n",
    "plt.fill_between(ks,CImin,CImax, 'o-',alpha=0.2)\n",
    "plt.plot(ks,err_pred_means,c='black',linestyle='dashed')\n",
    "plt.ylim([-0.01,0.5]);"
   ]
  },
  {
   "cell_type": "code",
   "execution_count": 72,
   "metadata": {},
   "outputs": [
    {
     "name": "stderr",
     "output_type": "stream",
     "text": [
      "/home/bsorsch/.jax/lib/python3.7/site-packages/ipykernel_launcher.py:2: MatplotlibDeprecationWarning: Since 3.2, the parameter *where* must have the same size as [2 3 4 5 6 7 8 9] in fill_betweenx(). This will become an error two minor releases later.\n",
      "  \n"
     ]
    },
    {
     "data": {
      "image/png": "[encoded data removed]",
      "text/plain": [
       "<Figure size 432x288 with 1 Axes>"
      ]
     },
     "metadata": {},
     "output_type": "display_data"
    }
   ],
   "source": [
    "plt.plot(ks,err_means, 'o-')\n",
    "plt.fill_between(ks,err_means+err_stds,err_means-err_stds, 'o-',alpha=0.2)\n",
    "plt.plot(ks,err_pred_means)\n",
    "plt.ylim([-0.01,0.5]);"
   ]
  },
  {
   "cell_type": "code",
   "execution_count": null,
   "metadata": {},
   "outputs": [],
   "source": []
  }
 ],
 "metadata": {
  "kernelspec": {
   "display_name": "jax",
   "language": "python",
   "name": "jax"
  },
  "language_info": {
   "codemirror_mode": {
    "name": "ipython",
    "version": 3
   },
   "file_extension": ".py",
   "mimetype": "text/x-python",
   "name": "python",
   "nbconvert_exporter": "python",
   "pygments_lexer": "ipython3",
   "version": "3.7.6"
  },
  "toc": {
   "base_numbering": 1,
   "nav_menu": {},
   "number_sections": true,
   "sideBar": true,
   "skip_h1_title": false,
   "title_cell": "Table of Contents",
   "title_sidebar": "Contents",
   "toc_cell": false,
   "toc_position": {
    "height": "calc(100% - 180px)",
    "left": "10px",
    "top": "150px",
    "width": "165px"
   },
   "toc_section_display": true,
   "toc_window_display": true
  }
 },
 "nbformat": 4,
 "nbformat_minor": 4
}
