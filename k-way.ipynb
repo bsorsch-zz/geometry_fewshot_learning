{
 "cells": [
  {
   "cell_type": "code",
   "execution_count": 1,
   "metadata": {},
   "outputs": [],
   "source": [
    "import numpy as np\n",
    "import os\n",
    "from tqdm import tqdm\n",
    "from matplotlib import pyplot as plt\n",
    "import seaborn as sns\n",
    "\n",
    "sns.set(font_scale=1.3, rc={\"lines.linewidth\": 2.5})"
   ]
  },
  {
   "cell_type": "code",
   "execution_count": 2,
   "metadata": {},
   "outputs": [],
   "source": [
    "import os\n",
    "os.environ[\"CUDA_DEVICE_ORDER\"]=\"PCI_BUS_ID\"\n",
    "os.environ[\"CUDA_VISIBLE_DEVICES\"]=\"0\""
   ]
  },
  {
   "cell_type": "code",
   "execution_count": 3,
   "metadata": {},
   "outputs": [],
   "source": [
    "emb_path = '/mnt/fs2/bsorsch/manifold/embeddings_new/1k_objects/'\n",
    "modelname = 'resnet50'\n",
    "model_dir = os.path.join(emb_path,modelname)"
   ]
  },
  {
   "cell_type": "code",
   "execution_count": 4,
   "metadata": {},
   "outputs": [],
   "source": [
    "manifolds_load = np.load(os.path.join(model_dir,'manifolds.npy'),allow_pickle=True)"
   ]
  },
  {
   "cell_type": "code",
   "execution_count": 5,
   "metadata": {},
   "outputs": [],
   "source": [
    "P = 500\n",
    "manifolds = []\n",
    "for manifold in manifolds_load:\n",
    "    manifolds.append(manifold[:P])\n",
    "manifolds = np.stack(manifolds)"
   ]
  },
  {
   "cell_type": "code",
   "execution_count": 6,
   "metadata": {},
   "outputs": [],
   "source": [
    "k = 5\n",
    "m = 3\n",
    "\n",
    "def fewshot_experiment(k,m):\n",
    "    Xtrain = []\n",
    "    Xtest = []\n",
    "    idxs = np.random.choice(1000,k,replace=False)\n",
    "    for a in idxs:\n",
    "        perm = np.random.permutation(P)\n",
    "        xtrain,xtest = np.split(manifolds[a][perm],(m,))\n",
    "        Xtrain.append(xtrain)\n",
    "        Xtest.append(xtest)\n",
    "    Xtrain = np.stack(Xtrain)\n",
    "    Xtest = np.stack(Xtest)\n",
    "\n",
    "    prototypes = Xtrain.mean(1)\n",
    "    dists = ((prototypes[:,None,None] - Xtest[None])**2).sum(-1)\n",
    "    targets = np.tile(np.arange(k)[:,None],P-m)\n",
    "    preds = dists.argmin(0)\n",
    "    errs = (preds!=targets).mean(-1)\n",
    "    \n",
    "    return errs"
   ]
  },
  {
   "cell_type": "code",
   "execution_count": 30,
   "metadata": {
    "scrolled": true
   },
   "outputs": [
    {
     "name": "stderr",
     "output_type": "stream",
     "text": [
      "100%|██████████| 5/5 [00:07<00:00,  1.47s/it]\n"
     ]
    }
   ],
   "source": [
    "k = 2 \n",
    "ms = np.arange(1,6)\n",
    "errs_all = []\n",
    "for m in tqdm(ms):\n",
    "    for _ in range(100):\n",
    "        errs = fewshot_experiment(k,m)\n",
    "        errs_all.append(errs)\n",
    "errs_all = np.stack(errs_all).reshape(len(ms),-1,k)"
   ]
  },
  {
   "cell_type": "code",
   "execution_count": 31,
   "metadata": {},
   "outputs": [
    {
     "data": {
      "text/plain": [
       "[<matplotlib.lines.Line2D at 0x7f1f5404b950>]"
      ]
     },
     "execution_count": 31,
     "metadata": {},
     "output_type": "execute_result"
    },
    {
     "data": {
      "image/png": "[encoded data removed]",
      "text/plain": [
       "<Figure size 432x288 with 1 Axes>"
      ]
     },
     "metadata": {},
     "output_type": "display_data"
    }
   ],
   "source": [
    "plt.plot(1-errs_all.mean((1,2)), 'o-')"
   ]
  },
  {
   "cell_type": "markdown",
   "metadata": {},
   "source": [
    "# Jit"
   ]
  },
  {
   "cell_type": "code",
   "execution_count": 7,
   "metadata": {},
   "outputs": [],
   "source": [
    "from jax import numpy as np\n",
    "from jax import jit, random"
   ]
  },
  {
   "cell_type": "code",
   "execution_count": 8,
   "metadata": {},
   "outputs": [],
   "source": [
    "key = random.PRNGKey(0)"
   ]
  },
  {
   "cell_type": "code",
   "execution_count": 9,
   "metadata": {},
   "outputs": [],
   "source": [
    "manifolds = np.array(manifolds)"
   ]
  },
  {
   "cell_type": "code",
   "execution_count": 12,
   "metadata": {},
   "outputs": [],
   "source": [
    "K = manifolds.shape[0]\n",
    "\n",
    "def fewshot_experiment_jax(key,X,k,m):\n",
    "    Xtrain = []\n",
    "    Xtest = []\n",
    "    for x in X:\n",
    "        perm = random.permutation(key,P)\n",
    "        xtrain,xtest = np.split(x[perm],(m,))\n",
    "        Xtrain.append(xtrain)\n",
    "        Xtest.append(xtest)\n",
    "    Xtrain = np.stack(Xtrain)\n",
    "    Xtest = np.stack(Xtest)\n",
    "\n",
    "    prototypes = Xtrain.mean(1)\n",
    "    dists = ((prototypes[:,None,None] - Xtest[None])**2).sum(-1)\n",
    "    preds = dists.argmin(0)\n",
    "    targets = np.tile(np.arange(k)[:,None],(P-m,))\n",
    "    errs = (preds!=targets).mean(-1)\n",
    "    \n",
    "    return errs\n",
    "\n",
    "fewshot_experiment_jit = jit(fewshot_experiment_jax,static_argnums=(2,3))"
   ]
  },
  {
   "cell_type": "code",
   "execution_count": 74,
   "metadata": {},
   "outputs": [
    {
     "name": "stderr",
     "output_type": "stream",
     "text": [
      "100%|██████████| 10/10 [18:45<00:00, 112.50s/it]\n"
     ]
    }
   ],
   "source": [
    "ks = np.arange(2,50,5) \n",
    "m = 5\n",
    "ms = np.arange(1,6)\n",
    "errs_all = {}\n",
    "for k in tqdm(ks):\n",
    "    errs_all[k] = []\n",
    "    for _ in range(100):\n",
    "        key,_ = random.split(key)\n",
    "        idxs = random.randint(key,(k,),0,K)\n",
    "        X = manifolds[idxs]\n",
    "        errs = fewshot_experiment_jit(key,X,k,m)\n",
    "        errs_all[k].append(errs)\n",
    "# errs_all = np.stack(errs_all).reshape(len(ms),-1,k)"
   ]
  },
  {
   "cell_type": "code",
   "execution_count": 75,
   "metadata": {},
   "outputs": [],
   "source": [
    "err_means = []\n",
    "for k in ks:\n",
    "    err_means.append(np.mean(np.stack(errs_all[k])))\n",
    "err_means = np.stack(err_means)"
   ]
  },
  {
   "cell_type": "code",
   "execution_count": 76,
   "metadata": {
    "scrolled": true
   },
   "outputs": [
    {
     "data": {
      "text/plain": [
       "[<matplotlib.lines.Line2D at 0x7f1e615cd250>]"
      ]
     },
     "execution_count": 76,
     "metadata": {},
     "output_type": "execute_result"
    },
    {
     "data": {
      "image/png": "[encoded data removed]",
      "text/plain": [
       "<Figure size 432x288 with 1 Axes>"
      ]
     },
     "metadata": {},
     "output_type": "display_data"
    }
   ],
   "source": [
    "plt.plot(1-err_means, 'o-')"
   ]
  },
  {
   "cell_type": "markdown",
   "metadata": {},
   "source": [
    "# Theory"
   ]
  },
  {
   "cell_type": "code",
   "execution_count": 13,
   "metadata": {},
   "outputs": [],
   "source": [
    "from scipy.special import erfc\n",
    "def H(x):\n",
    "    return erfc(x/np.sqrt(2))/2"
   ]
  },
  {
   "cell_type": "code",
   "execution_count": 14,
   "metadata": {},
   "outputs": [],
   "source": [
    "Rs = np.load(os.path.join(model_dir,'Rs.npy'))\n",
    "Ds = (Rs**2).sum(-1)**2 / (Rs**4).sum(-1)\n",
    "Us = np.load(os.path.join(model_dir,'Us.npy'))\n",
    "x0s = np.load(os.path.join(model_dir,'centers.npy'))"
   ]
  },
  {
   "cell_type": "code",
   "execution_count": 15,
   "metadata": {},
   "outputs": [],
   "source": [
    "from scipy.spatial.distance import pdist, squareform\n",
    "dists = squareform(pdist(x0s))\n",
    "dist_norm = dists / np.sqrt((Rs**2).mean(-1)[:,None])"
   ]
  },
  {
   "cell_type": "code",
   "execution_count": 16,
   "metadata": {},
   "outputs": [],
   "source": [
    "# csa_all = np.load(os.path.join(model_dir,'center_subspace_a.npy'))\n",
    "# csb_all = np.load(os.path.join(model_dir,'center_subspace_b.npy'))\n",
    "# ss_all = np.load(os.path.join(model_dir,'subspace_subspace.npy'))"
   ]
  },
  {
   "cell_type": "code",
   "execution_count": 17,
   "metadata": {},
   "outputs": [],
   "source": [
    "from scipy.stats import mvn\n",
    "\n",
    "def kway_theory(idxs,m,k):\n",
    "    pred_errs = []\n",
    "    for a in idxs:\n",
    "        Sigma = []\n",
    "        mu = []\n",
    "        for b in idxs[idxs!=a]:\n",
    "            for c in idxs[idxs!=a]:\n",
    "                dx0b = x0s[a] - x0s[b]\n",
    "                dx0c = x0s[a] - x0s[c]\n",
    "                csa = (Rs[a]**2*(Us[a]@dx0b)*(Us[a]@dx0c)).mean() / (Rs[a]**2).mean()**2\n",
    "\n",
    "                sigma = 1/Ds[a]/m + 1/(2*Ds[a]*m**2) + csa\n",
    "\n",
    "                if b==c:\n",
    "                    sigma += (Rs[b]**2).mean()/(Rs[a]**2).mean()/(2*Ds[b]*m**2)\n",
    "                    csb = ((Rs[b]*(Us[b]@dx0b))**2).mean() / (Rs[a]**2).mean()**2 / m\n",
    "                    sigma += csb\n",
    "                    cosphi = Us[a]@Us[b].T\n",
    "                    ss = (cosphi**2*Rs[a][:,None]**2*Rs[b]**2).sum() / (Rs[a]**2).sum()**2 / m\n",
    "                    sigma += ss\n",
    "\n",
    "                    mean = 1/2*((x0s[a] - x0s[b])**2).sum() / (Rs[a]**2).mean()\n",
    "                    mean += 1/2*((Rs[b]**2).sum()/(Rs[a]**2).sum() - 1)/m\n",
    "                    mu.append(mean)\n",
    "                Sigma.append(sigma)\n",
    "        Sigma = np.stack(Sigma).reshape(k-1,k-1)\n",
    "        mu = np.stack(mu)\n",
    "\n",
    "        pred_err = 1 - mvn.mvnun(np.zeros(k-1), np.ones(k-1)*1e10,mu,Sigma)[0]\n",
    "        pred_errs.append(pred_err)\n",
    "\n",
    "    return np.stack(pred_errs)"
   ]
  },
  {
   "cell_type": "code",
   "execution_count": 24,
   "metadata": {},
   "outputs": [
    {
     "name": "stdout",
     "output_type": "stream",
     "text": [
      "904 µs ± 75 µs per loop (mean ± std. dev. of 7 runs, 1000 loops each)\n"
     ]
    }
   ],
   "source": [
    "%%timeit \n",
    "fewshot_experiment_jit(key,X,k,m)"
   ]
  },
  {
   "cell_type": "code",
   "execution_count": 49,
   "metadata": {},
   "outputs": [
    {
     "name": "stderr",
     "output_type": "stream",
     "text": [
      "100%|██████████| 50/50 [06:55<00:00,  8.31s/it]\n"
     ]
    }
   ],
   "source": [
    "k = 3\n",
    "m = 5\n",
    "ntest = 50\n",
    "navg = 5000\n",
    "ms = np.arange(1,6)\n",
    "errs_all = []\n",
    "pred_errs_all = []\n",
    "for _ in tqdm(range(ntest)):\n",
    "    key,_ = random.split(key)\n",
    "    idxs = random.choice(key,K,(k,),replace=False)\n",
    "    pred_errs = kway_theory(idxs,m,k)\n",
    "    pred_errs_all.append(pred_errs)\n",
    "    X = manifolds[idxs]\n",
    "    \n",
    "    for _ in range(navg):\n",
    "        key,_ = random.split(key)\n",
    "        errs = fewshot_experiment_jit(key,X,k,m)\n",
    "        errs_all.append(errs)\n",
    "    \n",
    "errs_all = np.stack(errs_all).reshape(ntest,navg,k)\n",
    "pred_errs_all = np.stack(pred_errs_all)\n",
    "err_means = np.stack(errs_all).reshape(ntest,navg,k).mean(1)\n",
    "err_stds = np.stack(errs_all).reshape(ntest,navg,k).std(1)"
   ]
  },
  {
   "cell_type": "code",
   "execution_count": 50,
   "metadata": {},
   "outputs": [],
   "source": [
    "from scipy.special import erfc, erfcinv\n",
    "def H(x):\n",
    "    return erfc(x/np.sqrt(2))/2\n",
    "\n",
    "def Hinv(z):\n",
    "    return erfcinv(2*z)*np.sqrt(2)"
   ]
  },
  {
   "cell_type": "code",
   "execution_count": 21,
   "metadata": {
    "scrolled": false
   },
   "outputs": [
    {
     "data": {
      "text/plain": [
       "[<matplotlib.lines.Line2D at 0x7f6db4a3f850>]"
      ]
     },
     "execution_count": 21,
     "metadata": {},
     "output_type": "execute_result"
    },
    {
     "data": {
      "image/png": "[encoded data removed]",
      "text/plain": [
       "<Figure size 360x360 with 1 Axes>"
      ]
     },
     "metadata": {},
     "output_type": "display_data"
    }
   ],
   "source": [
    "plt.figure(figsize=(5,5))\n",
    "\n",
    "plt.errorbar(pred_errs_all.ravel(),err_means.ravel(),err_stds.ravel()/np.sqrt(navg)*3,fmt='.')\n",
    "\n",
    "plt.plot([0,0.5],[0,0.5], c='black')"
   ]
  },
  {
   "cell_type": "code",
   "execution_count": 20,
   "metadata": {
    "scrolled": false
   },
   "outputs": [
    {
     "data": {
      "text/plain": [
       "[<matplotlib.lines.Line2D at 0x7f662ce5ca90>]"
      ]
     },
     "execution_count": 20,
     "metadata": {},
     "output_type": "execute_result"
    },
    {
     "data": {
      "image/png": "[encoded data removed]",
      "text/plain": [
       "<Figure size 360x360 with 1 Axes>"
      ]
     },
     "metadata": {},
     "output_type": "display_data"
    }
   ],
   "source": [
    "plt.figure(figsize=(5,5))\n",
    "\n",
    "plt.errorbar(Hinv(pred_errs_all.ravel()),err_means.ravel(),err_stds.ravel()/np.sqrt(navg)*3,fmt='.')\n",
    "\n",
    "# plt.plot([0,0.5],[0,0.5], c='black')\n",
    "xx = np.linspace(0,6,1000)\n",
    "plt.plot(xx,H(xx))"
   ]
  },
  {
   "cell_type": "markdown",
   "metadata": {},
   "source": [
    "## Scaling"
   ]
  },
  {
   "cell_type": "code",
   "execution_count": 67,
   "metadata": {},
   "outputs": [
    {
     "name": "stderr",
     "output_type": "stream",
     "text": [
      "100%|██████████| 8/8 [50:59<00:00, 382.48s/it]  \n"
     ]
    }
   ],
   "source": [
    "ks = np.arange(2,10)\n",
    "m = 5\n",
    "ntest = 5000\n",
    "navg = 100\n",
    "ms = np.arange(1,6)\n",
    "errs_all = []\n",
    "pred_errs_all = []\n",
    "\n",
    "err_means = []\n",
    "err_stds = []\n",
    "err_pred_means = []\n",
    "for k in tqdm(ks):\n",
    "    errs_all = []\n",
    "    pred_errs_all = []\n",
    "    for _ in range(ntest//k//(k-1)):\n",
    "        key,_ = random.split(key)\n",
    "        idxs = random.choice(key,K,(k,),replace=False)\n",
    "        pred_errs = kway_theory(idxs,m,k)\n",
    "        pred_errs_all.append(pred_errs)\n",
    "        X = manifolds[idxs]\n",
    "\n",
    "        for _ in range(navg):\n",
    "            key,_ = random.split(key)\n",
    "            errs = fewshot_experiment_jit(key,X,k,m)\n",
    "            errs_all.append(errs)\n",
    "            \n",
    "    errs_all = np.stack(errs_all)\n",
    "    err_means.append(errs_all.mean())\n",
    "    err_stds.append(errs_all.std())\n",
    "    err_pred_means.append(np.stack(pred_errs_all).mean())\n",
    "\n",
    "# errs_all = np.stack(errs_all).reshape(len(ks),ntest,navg,k)\n",
    "# pred_errs_all = np.stack(pred_errs_all)\n",
    "# err_means = np.stack(errs_all).reshape(len(ks),ntest,navg,k).mean(2)\n",
    "# err_stds = np.stack(errs_all).reshape(len(ks),ntest,navg,k).std(2)"
   ]
  },
  {
   "cell_type": "code",
   "execution_count": 68,
   "metadata": {},
   "outputs": [],
   "source": [
    "err_means = np.stack(err_means)\n",
    "err_stds = np.stack(err_stds)"
   ]
  },
  {
   "cell_type": "code",
   "execution_count": 73,
   "metadata": {},
   "outputs": [],
   "source": [
    "from scipy import stats\n",
    "\n",
    "def plot_CI(x,y,c,fmt,alpha=1):\n",
    "    plt.plot(x,y.mean(-1), fmt, c=c,alpha=alpha)\n",
    "    CImin,CImax = stats.t.interval(0.95, len(y),\n",
    "                     loc=y.mean(-1), scale=stats.sem(y,axis=-1))\n",
    "    plt.fill_between(x,CImin,CImax,color=c, alpha=0.2)"
   ]
  },
  {
   "cell_type": "code",
   "execution_count": 78,
   "metadata": {},
   "outputs": [],
   "source": [
    "CImin,CImax = stats.t.interval(0.95, ntest*navg, loc=err_means, scale=err_stds/np.sqrt(ntest*navg))"
   ]
  },
  {
   "cell_type": "code",
   "execution_count": 79,
   "metadata": {},
   "outputs": [
    {
     "name": "stderr",
     "output_type": "stream",
     "text": [
      "/home/bsorsch/.jax/lib/python3.7/site-packages/ipykernel_launcher.py:2: MatplotlibDeprecationWarning: Since 3.2, the parameter *where* must have the same size as [2 3 4 5 6 7 8 9] in fill_betweenx(). This will become an error two minor releases later.\n",
      "  \n"
     ]
    },
    {
     "data": {
      "image/png": "[encoded data removed]",
      "text/plain": [
       "<Figure size 432x288 with 1 Axes>"
      ]
     },
     "metadata": {},
     "output_type": "display_data"
    }
   ],
   "source": [
    "plt.plot(ks,err_means, 'o-')\n",
    "plt.fill_between(ks,CImin,CImax, 'o-',alpha=0.2)\n",
    "plt.plot(ks,err_pred_means)\n",
    "plt.ylim([-0.01,0.5]);"
   ]
  },
  {
   "cell_type": "code",
   "execution_count": 72,
   "metadata": {},
   "outputs": [
    {
     "name": "stderr",
     "output_type": "stream",
     "text": [
      "/home/bsorsch/.jax/lib/python3.7/site-packages/ipykernel_launcher.py:2: MatplotlibDeprecationWarning: Since 3.2, the parameter *where* must have the same size as [2 3 4 5 6 7 8 9] in fill_betweenx(). This will become an error two minor releases later.\n",
      "  \n"
     ]
    },
    {
     "data": {
      "image/png": "[encoded data removed]",
      "text/plain": [
       "<Figure size 432x288 with 1 Axes>"
      ]
     },
     "metadata": {},
     "output_type": "display_data"
    }
   ],
   "source": [
    "plt.plot(ks,err_means, 'o-')\n",
    "plt.fill_between(ks,err_means+err_stds,err_means-err_stds, 'o-',alpha=0.2)\n",
    "plt.plot(ks,err_pred_means)\n",
    "plt.ylim([-0.01,0.5]);"
   ]
  },
  {
   "cell_type": "code",
   "execution_count": null,
   "metadata": {},
   "outputs": [],
   "source": []
  }
 ],
 "metadata": {
  "kernelspec": {
   "display_name": "jax",
   "language": "python",
   "name": "jax"
  },
  "language_info": {
   "codemirror_mode": {
    "name": "ipython",
    "version": 3
   },
   "file_extension": ".py",
   "mimetype": "text/x-python",
   "name": "python",
   "nbconvert_exporter": "python",
   "pygments_lexer": "ipython3",
   "version": "3.7.6"
  },
  "toc": {
   "base_numbering": 1,
   "nav_menu": {},
   "number_sections": true,
   "sideBar": true,
   "skip_h1_title": false,
   "title_cell": "Table of Contents",
   "title_sidebar": "Contents",
   "toc_cell": false,
   "toc_position": {
    "height": "calc(100% - 180px)",
    "left": "10px",
    "top": "150px",
    "width": "165px"
   },
   "toc_section_display": true,
   "toc_window_display": true
  }
 },
 "nbformat": 4,
 "nbformat_minor": 4
}
