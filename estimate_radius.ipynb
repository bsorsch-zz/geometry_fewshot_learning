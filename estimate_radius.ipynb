{
 "cells": [
  {
   "cell_type": "markdown",
   "metadata": {},
   "source": [
    "# Estimate radius\n",
    "\n",
    "Can we improve generalization error by estimating the radius of the manifold, thereby eliminating asymmetric bias?"
   ]
  },
  {
   "cell_type": "code",
   "execution_count": 1,
   "metadata": {},
   "outputs": [],
   "source": [
    "import numpy as np\n",
    "from numpy import random\n",
    "import tensorflow as tf\n",
    "\n",
    "from tqdm import tqdm_notebook as tqdm\n",
    "from matplotlib import pyplot as plt\n",
    "import seaborn as sns\n",
    "\n",
    "sns.set_style('darkgrid')\n",
    "sns.set(font_scale=1.3, rc={\"lines.linewidth\": 2.5})"
   ]
  },
  {
   "cell_type": "code",
   "execution_count": 2,
   "metadata": {},
   "outputs": [],
   "source": [
    "import os\n",
    "os.environ[\"CUDA_DEVICE_ORDER\"]=\"PCI_BUS_ID\"   # see issue #152\n",
    "os.environ[\"CUDA_VISIBLE_DEVICES\"]='0'"
   ]
  },
  {
   "cell_type": "code",
   "execution_count": 3,
   "metadata": {},
   "outputs": [],
   "source": [
    "root = '/mnt/fs2/bsorsch/manifold/embeddings/1k_objects/'\n",
    "names = np.load(root + 'names.npy')\n",
    "root_paths = np.load(root + 'root_paths.npy',allow_pickle=True)\n",
    "names = names[:1000]\n",
    "root_paths = root_paths[:1000]\n",
    "\n",
    "model = 'resnet50'\n",
    "save_dir = os.path.join(root, model+'_heldout/')"
   ]
  },
  {
   "cell_type": "code",
   "execution_count": 4,
   "metadata": {},
   "outputs": [],
   "source": [
    "ilsvrc_root = '/mnt/fs2/bsorsch/manifold/embeddings/ILSVRC/'\n",
    "centers_ilsvrc = np.load(ilsvrc_root + 'resnet50/centers.npy')"
   ]
  },
  {
   "cell_type": "code",
   "execution_count": 5,
   "metadata": {},
   "outputs": [],
   "source": [
    "manifolds = np.load(save_dir + 'manifolds.npy')"
   ]
  },
  {
   "cell_type": "code",
   "execution_count": 6,
   "metadata": {},
   "outputs": [],
   "source": [
    "lambdas = np.load(save_dir + 'lambdas.npy')\n",
    "lambdas_ilsvrc = np.load(ilsvrc_root + 'resnet50/lambdas.npy')\n",
    "\n",
    "ilsvrc_rp = np.load('../manifold_old/data/ILSVRC_root_paths.npy', allow_pickle=True)"
   ]
  },
  {
   "cell_type": "code",
   "execution_count": 10,
   "metadata": {},
   "outputs": [],
   "source": [
    "from jax import jit\n",
    "from jax import numpy as np"
   ]
  },
  {
   "cell_type": "code",
   "execution_count": 13,
   "metadata": {},
   "outputs": [],
   "source": [
    "manifolds = np.array(manifolds)"
   ]
  },
  {
   "cell_type": "code",
   "execution_count": null,
   "metadata": {
    "scrolled": true
   },
   "outputs": [
    {
     "data": {
      "application/vnd.jupyter.widget-view+json": {
       "model_id": "19ee5b3077cd473f986d770ad38388f8",
       "version_major": 2,
       "version_minor": 0
      },
      "text/plain": [
       "HBox(children=(IntProgress(value=0, max=1000), HTML(value='')))"
      ]
     },
     "metadata": {},
     "output_type": "display_data"
    },
    {
     "data": {
      "application/vnd.jupyter.widget-view+json": {
       "model_id": "037f087458814d7da3ce1508db5ad8ca",
       "version_major": 2,
       "version_minor": 0
      },
      "text/plain": [
       "HBox(children=(IntProgress(value=0, max=1000), HTML(value='')))"
      ]
     },
     "metadata": {},
     "output_type": "display_data"
    }
   ],
   "source": [
    "m = 5\n",
    "n_avg = 2\n",
    "P = manifolds.shape[1]\n",
    "\n",
    "errs = []\n",
    "errs_bias = []\n",
    "Rhats = []\n",
    "for a in tqdm(range(1000)):\n",
    "    for b in tqdm(range(1000),leave=False):\n",
    "        if a!=b:\n",
    "            for _ in range(n_avg):\n",
    "                Xa = manifolds[a]\n",
    "                Xb = manifolds[b]\n",
    "                perma = random.permutation(len(Xa))\n",
    "                permb = random.permutation(len(Xb))\n",
    "\n",
    "                xa,ya = np.split(Xa[perma],(m,))\n",
    "                xb,yb = np.split(Xb[permb],(m,))\n",
    "                w = (xa-xb).mean(0)\n",
    "                mu = (xa+xb).mean(0)/2\n",
    "\n",
    "                h = ya@w - w@mu\n",
    "                err = (h<0).mean()\n",
    "                errs.append(err)\n",
    "\n",
    "                # Neighbor\n",
    "                dists_a = ((xa.mean(0) - centers_ilsvrc)**2).sum(-1)\n",
    "                dists_b = ((xb.mean(0) - centers_ilsvrc)**2).sum(-1)\n",
    "                lamhat_a = lambdas_ilsvrc[np.argmin(dists_a)]\n",
    "                lamhat_b = lambdas_ilsvrc[np.argmin(dists_b)]\n",
    "\n",
    "                Ra = np.sqrt(lamhat_a*P)\n",
    "                Rb = np.sqrt(lamhat_b*P)\n",
    "                bias = ((Ra**2).mean() - (Rb**2).mean()) / 2 / m\n",
    "\n",
    "                Rhats.append((Ra**2).sum())\n",
    "\n",
    "                h = ya@w - w@mu + bias\n",
    "                err_bias = (h<0).mean()\n",
    "                errs_bias.append(err_bias)\n",
    "errs = np.stack(errs)\n",
    "errs_bias = np.stack(errs_bias)"
   ]
  },
  {
   "cell_type": "code",
   "execution_count": null,
   "metadata": {},
   "outputs": [],
   "source": [
    "100*(1-errs_bias.mean()) - 100*(1-errs.mean())"
   ]
  },
  {
   "cell_type": "code",
   "execution_count": null,
   "metadata": {},
   "outputs": [],
   "source": [
    "np.cos(2)"
   ]
  },
  {
   "cell_type": "code",
   "execution_count": 30,
   "metadata": {},
   "outputs": [
    {
     "data": {
      "text/plain": [
       "DeviceArray(98.62555, dtype=float32)"
      ]
     },
     "execution_count": 30,
     "metadata": {},
     "output_type": "execute_result"
    }
   ],
   "source": [
    "100*(1-errs.mean())"
   ]
  },
  {
   "cell_type": "code",
   "execution_count": 30,
   "metadata": {},
   "outputs": [
    {
     "data": {
      "text/plain": [
       "DeviceArray(98.62555, dtype=float32)"
      ]
     },
     "execution_count": 30,
     "metadata": {},
     "output_type": "execute_result"
    }
   ],
   "source": [
    "100*(1-errs_bias.mean())"
   ]
  },
  {
   "cell_type": "code",
   "execution_count": 21,
   "metadata": {},
   "outputs": [
    {
     "name": "stdout",
     "output_type": "stream",
     "text": [
      "Err: 0.987 +/- 0.04\n",
      "Err bias: 0.987 +/- 0.04\n"
     ]
    }
   ],
   "source": [
    "print('Err: {:.3f} +/- {:.2f}'.format(1-errs.mean(), errs.std()))\n",
    "print('Err bias: {:.3f} +/- {:.2f}'.format(1-errs_bias.mean(), errs_bias.std()))"
   ]
  },
  {
   "cell_type": "code",
   "execution_count": 63,
   "metadata": {},
   "outputs": [
    {
     "name": "stdout",
     "output_type": "stream",
     "text": [
      "Err: 0.922 +/- 0.17\n",
      "Err bias: 0.929 +/- 0.16\n"
     ]
    }
   ],
   "source": [
    "print('Err: {:.3f} +/- {:.2f}'.format(1-errs.mean(), errs.std()))\n",
    "print('Err bias: {:.3f} +/- {:.2f}'.format(1-errs_bias.mean(), errs_bias.std()))"
   ]
  }
 ],
 "metadata": {
  "kernelspec": {
   "display_name": "Tensorflow 2",
   "language": "python",
   "name": ".tf2"
  },
  "language_info": {
   "codemirror_mode": {
    "name": "ipython",
    "version": 3
   },
   "file_extension": ".py",
   "mimetype": "text/x-python",
   "name": "python",
   "nbconvert_exporter": "python",
   "pygments_lexer": "ipython3",
   "version": "3.5.2"
  },
  "toc": {
   "base_numbering": 1,
   "nav_menu": {},
   "number_sections": true,
   "sideBar": true,
   "skip_h1_title": false,
   "title_cell": "Table of Contents",
   "title_sidebar": "Contents",
   "toc_cell": false,
   "toc_position": {},
   "toc_section_display": true,
   "toc_window_display": false
  }
 },
 "nbformat": 4,
 "nbformat_minor": 4
}
