{
 "cells": [
  {
   "cell_type": "code",
   "execution_count": 1,
   "metadata": {},
   "outputs": [],
   "source": [
    "import numpy as np\n",
    "import torch\n",
    "\n",
    "from tqdm import tqdm_notebook as tqdm\n",
    "from matplotlib import pyplot as plt\n",
    "import seaborn as sns\n",
    "import os\n",
    "\n",
    "sns.set_style('darkgrid')\n",
    "sns.set(font_scale=1.3, rc={\"lines.linewidth\": 2.5})"
   ]
  },
  {
   "cell_type": "code",
   "execution_count": 2,
   "metadata": {},
   "outputs": [],
   "source": [
    "import os\n",
    "os.environ[\"CUDA_DEVICE_ORDER\"]=\"PCI_BUS_ID\"\n",
    "os.environ[\"CUDA_VISIBLE_DEVICES\"]=\"0\""
   ]
  },
  {
   "cell_type": "code",
   "execution_count": 3,
   "metadata": {},
   "outputs": [],
   "source": [
    "from scipy.io import loadmat"
   ]
  },
  {
   "cell_type": "markdown",
   "metadata": {},
   "source": [
    "# Data"
   ]
  },
  {
   "cell_type": "code",
   "execution_count": 4,
   "metadata": {},
   "outputs": [],
   "source": [
    "imdir = '/home/bsorsch/.brainio/image_dicarlo_hvm-public/'\n",
    "imnames = np.load('data/majaj_2015_imnames_2.npy',allow_pickle=True)"
   ]
  },
  {
   "cell_type": "code",
   "execution_count": 5,
   "metadata": {},
   "outputs": [],
   "source": [
    "# Image preprocessing\n",
    "from torchvision import transforms\n",
    "preprocess = transforms.Compose([\n",
    "    transforms.Resize(256),\n",
    "    transforms.CenterCrop(224),\n",
    "    transforms.ToTensor(),\n",
    "    transforms.Normalize(mean=[0.485, 0.456, 0.406], std=[0.229, 0.224, 0.225]),\n",
    "])"
   ]
  },
  {
   "cell_type": "code",
   "execution_count": 6,
   "metadata": {},
   "outputs": [],
   "source": [
    "from PIL import Image\n",
    "\n",
    "def get_batch(i, batch_size):\n",
    "#     ims = imnames[class_id]\n",
    "    images = []\n",
    "    for im in imnames[i*batch_size:(i+1)*batch_size]:\n",
    "        impath = os.path.join(imdir, im+ '.png')\n",
    "        images.append(preprocess(Image.open(impath)))\n",
    "        \n",
    "    images = torch.stack(images)\n",
    "        \n",
    "    return images"
   ]
  },
  {
   "cell_type": "markdown",
   "metadata": {},
   "source": [
    "# Model"
   ]
  },
  {
   "cell_type": "code",
   "execution_count": 155,
   "metadata": {},
   "outputs": [
    {
     "name": "stderr",
     "output_type": "stream",
     "text": [
      "Using cache found in /home/bsorsch/.cache/torch/hub/pytorch_vision_v0.6.0\n"
     ]
    }
   ],
   "source": [
    "model_name = 'resnet50'\n",
    "repo = 'pytorch/vision:v0.6.0'\n",
    "# repo = 'rwightman/gen-efficientnet-pytorch'\n",
    "model = torch.hub.load(repo, model_name, pretrained=True)"
   ]
  },
  {
   "cell_type": "code",
   "execution_count": 156,
   "metadata": {},
   "outputs": [],
   "source": [
    "class AlexnetBackbone(torch.nn.Module):\n",
    "    def __init__(self, model):\n",
    "        super(AlexnetBackbone, self).__init__()\n",
    "        self.N = list(model.children())[-1][-1].weight.shape[-1]\n",
    "        self.pre_features = torch.nn.Sequential(*list(model.children())[:-1])\n",
    "        self.features = torch.nn.Sequential(*list(model.children())[-1][:-1])\n",
    "        self.flatten = torch.nn.Flatten()\n",
    "        \n",
    "    def forward(self, x):\n",
    "        x = self.pre_features(x)\n",
    "        x = self.flatten(x)\n",
    "        x = self.features(x)\n",
    "        return x\n",
    "\n",
    "\n",
    "class SqueezeBackbone(torch.nn.Module):\n",
    "    def __init__(self, model):\n",
    "        super(SqueezeBackbone, self).__init__()\n",
    "        self.N = list(model.children())[-1][-3].weight.shape[-1]\n",
    "        self.pre_features = torch.nn.Sequential(*list(model.children())[:-1])\n",
    "        self.features = torch.nn.Sequential(*list(model.children())[-1][:-1])\n",
    "        self.flatten = torch.nn.Flatten()\n",
    "        \n",
    "    def forward(self, x):\n",
    "        x = self.pre_features(x)\n",
    "        x = self.features(x)\n",
    "        x = self.flatten(x)\n",
    "        return x\n",
    "\n",
    "\n",
    "class WideResNetBackbone(torch.nn.Module):\n",
    "    def __init__(self, model, module_idx):\n",
    "        super(WideResNetBackbone, self).__init__()\n",
    "        self.N = list(model.children())[-1].weight.shape[-1]\n",
    "        self.features = torch.nn.Sequential(*list(model.children())[:-module_idx])\n",
    "        self.flatten = torch.nn.Flatten()\n",
    "        \n",
    "    def forward(self, x):\n",
    "        x = self.features(x)\n",
    "        x = self.flatten(x)\n",
    "        return x\n",
    "\n",
    "    \n",
    "class VGGBackbone(torch.nn.Module):\n",
    "    def __init__(self, model):\n",
    "        super(VGGBackbone, self).__init__()\n",
    "        self.N = list(model.children())[-1][3].weight.shape[-1]\n",
    "        self.pre_features = torch.nn.Sequential(*list(model.children())[:-1])\n",
    "        self.features = torch.nn.Sequential(*list(model.children())[-1][:-1])\n",
    "        self.flatten = torch.nn.Flatten()\n",
    "        \n",
    "    def forward(self, x):\n",
    "        x = self.pre_features(x)\n",
    "        x = self.flatten(x)\n",
    "        x = self.features(x)\n",
    "        x = self.flatten(x)\n",
    "        return x\n",
    "    \n",
    "    \n",
    "class EfficientNetBackbone(torch.nn.Module):\n",
    "    def __init__(self, model):\n",
    "        super(EfficientNetBackbone, self).__init__()\n",
    "        self.N = list(model.children())[-1].weight.shape[-1]\n",
    "        self.pre_features = torch.nn.Sequential(*list(model.children())[:-1])\n",
    "        self.flatten = torch.nn.Flatten()\n",
    "        \n",
    "    def forward(self, x):\n",
    "        x = self.pre_features(x)\n",
    "        x = self.flatten(x)\n",
    "        return x"
   ]
  },
  {
   "cell_type": "code",
   "execution_count": 157,
   "metadata": {},
   "outputs": [
    {
     "data": {
      "text/plain": [
       "WideResNetBackbone(\n",
       "  (features): Sequential(\n",
       "    (0): Conv2d(3, 64, kernel_size=(7, 7), stride=(2, 2), padding=(3, 3), bias=False)\n",
       "    (1): BatchNorm2d(64, eps=1e-05, momentum=0.1, affine=True, track_running_stats=True)\n",
       "    (2): ReLU(inplace=True)\n",
       "    (3): MaxPool2d(kernel_size=3, stride=2, padding=1, dilation=1, ceil_mode=False)\n",
       "    (4): Sequential(\n",
       "      (0): Bottleneck(\n",
       "        (conv1): Conv2d(64, 64, kernel_size=(1, 1), stride=(1, 1), bias=False)\n",
       "        (bn1): BatchNorm2d(64, eps=1e-05, momentum=0.1, affine=True, track_running_stats=True)\n",
       "        (conv2): Conv2d(64, 64, kernel_size=(3, 3), stride=(1, 1), padding=(1, 1), bias=False)\n",
       "        (bn2): BatchNorm2d(64, eps=1e-05, momentum=0.1, affine=True, track_running_stats=True)\n",
       "        (conv3): Conv2d(64, 256, kernel_size=(1, 1), stride=(1, 1), bias=False)\n",
       "        (bn3): BatchNorm2d(256, eps=1e-05, momentum=0.1, affine=True, track_running_stats=True)\n",
       "        (relu): ReLU(inplace=True)\n",
       "        (downsample): Sequential(\n",
       "          (0): Conv2d(64, 256, kernel_size=(1, 1), stride=(1, 1), bias=False)\n",
       "          (1): BatchNorm2d(256, eps=1e-05, momentum=0.1, affine=True, track_running_stats=True)\n",
       "        )\n",
       "      )\n",
       "      (1): Bottleneck(\n",
       "        (conv1): Conv2d(256, 64, kernel_size=(1, 1), stride=(1, 1), bias=False)\n",
       "        (bn1): BatchNorm2d(64, eps=1e-05, momentum=0.1, affine=True, track_running_stats=True)\n",
       "        (conv2): Conv2d(64, 64, kernel_size=(3, 3), stride=(1, 1), padding=(1, 1), bias=False)\n",
       "        (bn2): BatchNorm2d(64, eps=1e-05, momentum=0.1, affine=True, track_running_stats=True)\n",
       "        (conv3): Conv2d(64, 256, kernel_size=(1, 1), stride=(1, 1), bias=False)\n",
       "        (bn3): BatchNorm2d(256, eps=1e-05, momentum=0.1, affine=True, track_running_stats=True)\n",
       "        (relu): ReLU(inplace=True)\n",
       "      )\n",
       "      (2): Bottleneck(\n",
       "        (conv1): Conv2d(256, 64, kernel_size=(1, 1), stride=(1, 1), bias=False)\n",
       "        (bn1): BatchNorm2d(64, eps=1e-05, momentum=0.1, affine=True, track_running_stats=True)\n",
       "        (conv2): Conv2d(64, 64, kernel_size=(3, 3), stride=(1, 1), padding=(1, 1), bias=False)\n",
       "        (bn2): BatchNorm2d(64, eps=1e-05, momentum=0.1, affine=True, track_running_stats=True)\n",
       "        (conv3): Conv2d(64, 256, kernel_size=(1, 1), stride=(1, 1), bias=False)\n",
       "        (bn3): BatchNorm2d(256, eps=1e-05, momentum=0.1, affine=True, track_running_stats=True)\n",
       "        (relu): ReLU(inplace=True)\n",
       "      )\n",
       "    )\n",
       "    (5): Sequential(\n",
       "      (0): Bottleneck(\n",
       "        (conv1): Conv2d(256, 128, kernel_size=(1, 1), stride=(1, 1), bias=False)\n",
       "        (bn1): BatchNorm2d(128, eps=1e-05, momentum=0.1, affine=True, track_running_stats=True)\n",
       "        (conv2): Conv2d(128, 128, kernel_size=(3, 3), stride=(2, 2), padding=(1, 1), bias=False)\n",
       "        (bn2): BatchNorm2d(128, eps=1e-05, momentum=0.1, affine=True, track_running_stats=True)\n",
       "        (conv3): Conv2d(128, 512, kernel_size=(1, 1), stride=(1, 1), bias=False)\n",
       "        (bn3): BatchNorm2d(512, eps=1e-05, momentum=0.1, affine=True, track_running_stats=True)\n",
       "        (relu): ReLU(inplace=True)\n",
       "        (downsample): Sequential(\n",
       "          (0): Conv2d(256, 512, kernel_size=(1, 1), stride=(2, 2), bias=False)\n",
       "          (1): BatchNorm2d(512, eps=1e-05, momentum=0.1, affine=True, track_running_stats=True)\n",
       "        )\n",
       "      )\n",
       "      (1): Bottleneck(\n",
       "        (conv1): Conv2d(512, 128, kernel_size=(1, 1), stride=(1, 1), bias=False)\n",
       "        (bn1): BatchNorm2d(128, eps=1e-05, momentum=0.1, affine=True, track_running_stats=True)\n",
       "        (conv2): Conv2d(128, 128, kernel_size=(3, 3), stride=(1, 1), padding=(1, 1), bias=False)\n",
       "        (bn2): BatchNorm2d(128, eps=1e-05, momentum=0.1, affine=True, track_running_stats=True)\n",
       "        (conv3): Conv2d(128, 512, kernel_size=(1, 1), stride=(1, 1), bias=False)\n",
       "        (bn3): BatchNorm2d(512, eps=1e-05, momentum=0.1, affine=True, track_running_stats=True)\n",
       "        (relu): ReLU(inplace=True)\n",
       "      )\n",
       "      (2): Bottleneck(\n",
       "        (conv1): Conv2d(512, 128, kernel_size=(1, 1), stride=(1, 1), bias=False)\n",
       "        (bn1): BatchNorm2d(128, eps=1e-05, momentum=0.1, affine=True, track_running_stats=True)\n",
       "        (conv2): Conv2d(128, 128, kernel_size=(3, 3), stride=(1, 1), padding=(1, 1), bias=False)\n",
       "        (bn2): BatchNorm2d(128, eps=1e-05, momentum=0.1, affine=True, track_running_stats=True)\n",
       "        (conv3): Conv2d(128, 512, kernel_size=(1, 1), stride=(1, 1), bias=False)\n",
       "        (bn3): BatchNorm2d(512, eps=1e-05, momentum=0.1, affine=True, track_running_stats=True)\n",
       "        (relu): ReLU(inplace=True)\n",
       "      )\n",
       "      (3): Bottleneck(\n",
       "        (conv1): Conv2d(512, 128, kernel_size=(1, 1), stride=(1, 1), bias=False)\n",
       "        (bn1): BatchNorm2d(128, eps=1e-05, momentum=0.1, affine=True, track_running_stats=True)\n",
       "        (conv2): Conv2d(128, 128, kernel_size=(3, 3), stride=(1, 1), padding=(1, 1), bias=False)\n",
       "        (bn2): BatchNorm2d(128, eps=1e-05, momentum=0.1, affine=True, track_running_stats=True)\n",
       "        (conv3): Conv2d(128, 512, kernel_size=(1, 1), stride=(1, 1), bias=False)\n",
       "        (bn3): BatchNorm2d(512, eps=1e-05, momentum=0.1, affine=True, track_running_stats=True)\n",
       "        (relu): ReLU(inplace=True)\n",
       "      )\n",
       "    )\n",
       "    (6): Sequential(\n",
       "      (0): Bottleneck(\n",
       "        (conv1): Conv2d(512, 256, kernel_size=(1, 1), stride=(1, 1), bias=False)\n",
       "        (bn1): BatchNorm2d(256, eps=1e-05, momentum=0.1, affine=True, track_running_stats=True)\n",
       "        (conv2): Conv2d(256, 256, kernel_size=(3, 3), stride=(2, 2), padding=(1, 1), bias=False)\n",
       "        (bn2): BatchNorm2d(256, eps=1e-05, momentum=0.1, affine=True, track_running_stats=True)\n",
       "        (conv3): Conv2d(256, 1024, kernel_size=(1, 1), stride=(1, 1), bias=False)\n",
       "        (bn3): BatchNorm2d(1024, eps=1e-05, momentum=0.1, affine=True, track_running_stats=True)\n",
       "        (relu): ReLU(inplace=True)\n",
       "        (downsample): Sequential(\n",
       "          (0): Conv2d(512, 1024, kernel_size=(1, 1), stride=(2, 2), bias=False)\n",
       "          (1): BatchNorm2d(1024, eps=1e-05, momentum=0.1, affine=True, track_running_stats=True)\n",
       "        )\n",
       "      )\n",
       "      (1): Bottleneck(\n",
       "        (conv1): Conv2d(1024, 256, kernel_size=(1, 1), stride=(1, 1), bias=False)\n",
       "        (bn1): BatchNorm2d(256, eps=1e-05, momentum=0.1, affine=True, track_running_stats=True)\n",
       "        (conv2): Conv2d(256, 256, kernel_size=(3, 3), stride=(1, 1), padding=(1, 1), bias=False)\n",
       "        (bn2): BatchNorm2d(256, eps=1e-05, momentum=0.1, affine=True, track_running_stats=True)\n",
       "        (conv3): Conv2d(256, 1024, kernel_size=(1, 1), stride=(1, 1), bias=False)\n",
       "        (bn3): BatchNorm2d(1024, eps=1e-05, momentum=0.1, affine=True, track_running_stats=True)\n",
       "        (relu): ReLU(inplace=True)\n",
       "      )\n",
       "      (2): Bottleneck(\n",
       "        (conv1): Conv2d(1024, 256, kernel_size=(1, 1), stride=(1, 1), bias=False)\n",
       "        (bn1): BatchNorm2d(256, eps=1e-05, momentum=0.1, affine=True, track_running_stats=True)\n",
       "        (conv2): Conv2d(256, 256, kernel_size=(3, 3), stride=(1, 1), padding=(1, 1), bias=False)\n",
       "        (bn2): BatchNorm2d(256, eps=1e-05, momentum=0.1, affine=True, track_running_stats=True)\n",
       "        (conv3): Conv2d(256, 1024, kernel_size=(1, 1), stride=(1, 1), bias=False)\n",
       "        (bn3): BatchNorm2d(1024, eps=1e-05, momentum=0.1, affine=True, track_running_stats=True)\n",
       "        (relu): ReLU(inplace=True)\n",
       "      )\n",
       "      (3): Bottleneck(\n",
       "        (conv1): Conv2d(1024, 256, kernel_size=(1, 1), stride=(1, 1), bias=False)\n",
       "        (bn1): BatchNorm2d(256, eps=1e-05, momentum=0.1, affine=True, track_running_stats=True)\n",
       "        (conv2): Conv2d(256, 256, kernel_size=(3, 3), stride=(1, 1), padding=(1, 1), bias=False)\n",
       "        (bn2): BatchNorm2d(256, eps=1e-05, momentum=0.1, affine=True, track_running_stats=True)\n",
       "        (conv3): Conv2d(256, 1024, kernel_size=(1, 1), stride=(1, 1), bias=False)\n",
       "        (bn3): BatchNorm2d(1024, eps=1e-05, momentum=0.1, affine=True, track_running_stats=True)\n",
       "        (relu): ReLU(inplace=True)\n",
       "      )\n",
       "      (4): Bottleneck(\n",
       "        (conv1): Conv2d(1024, 256, kernel_size=(1, 1), stride=(1, 1), bias=False)\n",
       "        (bn1): BatchNorm2d(256, eps=1e-05, momentum=0.1, affine=True, track_running_stats=True)\n",
       "        (conv2): Conv2d(256, 256, kernel_size=(3, 3), stride=(1, 1), padding=(1, 1), bias=False)\n",
       "        (bn2): BatchNorm2d(256, eps=1e-05, momentum=0.1, affine=True, track_running_stats=True)\n",
       "        (conv3): Conv2d(256, 1024, kernel_size=(1, 1), stride=(1, 1), bias=False)\n",
       "        (bn3): BatchNorm2d(1024, eps=1e-05, momentum=0.1, affine=True, track_running_stats=True)\n",
       "        (relu): ReLU(inplace=True)\n",
       "      )\n",
       "      (5): Bottleneck(\n",
       "        (conv1): Conv2d(1024, 256, kernel_size=(1, 1), stride=(1, 1), bias=False)\n",
       "        (bn1): BatchNorm2d(256, eps=1e-05, momentum=0.1, affine=True, track_running_stats=True)\n",
       "        (conv2): Conv2d(256, 256, kernel_size=(3, 3), stride=(1, 1), padding=(1, 1), bias=False)\n",
       "        (bn2): BatchNorm2d(256, eps=1e-05, momentum=0.1, affine=True, track_running_stats=True)\n",
       "        (conv3): Conv2d(256, 1024, kernel_size=(1, 1), stride=(1, 1), bias=False)\n",
       "        (bn3): BatchNorm2d(1024, eps=1e-05, momentum=0.1, affine=True, track_running_stats=True)\n",
       "        (relu): ReLU(inplace=True)\n",
       "      )\n",
       "    )\n",
       "    (7): Sequential(\n",
       "      (0): Bottleneck(\n",
       "        (conv1): Conv2d(1024, 512, kernel_size=(1, 1), stride=(1, 1), bias=False)\n",
       "        (bn1): BatchNorm2d(512, eps=1e-05, momentum=0.1, affine=True, track_running_stats=True)\n",
       "        (conv2): Conv2d(512, 512, kernel_size=(3, 3), stride=(2, 2), padding=(1, 1), bias=False)\n",
       "        (bn2): BatchNorm2d(512, eps=1e-05, momentum=0.1, affine=True, track_running_stats=True)\n",
       "        (conv3): Conv2d(512, 2048, kernel_size=(1, 1), stride=(1, 1), bias=False)\n",
       "        (bn3): BatchNorm2d(2048, eps=1e-05, momentum=0.1, affine=True, track_running_stats=True)\n",
       "        (relu): ReLU(inplace=True)\n",
       "        (downsample): Sequential(\n",
       "          (0): Conv2d(1024, 2048, kernel_size=(1, 1), stride=(2, 2), bias=False)\n",
       "          (1): BatchNorm2d(2048, eps=1e-05, momentum=0.1, affine=True, track_running_stats=True)\n",
       "        )\n",
       "      )\n",
       "      (1): Bottleneck(\n",
       "        (conv1): Conv2d(2048, 512, kernel_size=(1, 1), stride=(1, 1), bias=False)\n",
       "        (bn1): BatchNorm2d(512, eps=1e-05, momentum=0.1, affine=True, track_running_stats=True)\n",
       "        (conv2): Conv2d(512, 512, kernel_size=(3, 3), stride=(1, 1), padding=(1, 1), bias=False)\n",
       "        (bn2): BatchNorm2d(512, eps=1e-05, momentum=0.1, affine=True, track_running_stats=True)\n",
       "        (conv3): Conv2d(512, 2048, kernel_size=(1, 1), stride=(1, 1), bias=False)\n",
       "        (bn3): BatchNorm2d(2048, eps=1e-05, momentum=0.1, affine=True, track_running_stats=True)\n",
       "        (relu): ReLU(inplace=True)\n",
       "      )\n",
       "      (2): Bottleneck(\n",
       "        (conv1): Conv2d(2048, 512, kernel_size=(1, 1), stride=(1, 1), bias=False)\n",
       "        (bn1): BatchNorm2d(512, eps=1e-05, momentum=0.1, affine=True, track_running_stats=True)\n",
       "        (conv2): Conv2d(512, 512, kernel_size=(3, 3), stride=(1, 1), padding=(1, 1), bias=False)\n",
       "        (bn2): BatchNorm2d(512, eps=1e-05, momentum=0.1, affine=True, track_running_stats=True)\n",
       "        (conv3): Conv2d(512, 2048, kernel_size=(1, 1), stride=(1, 1), bias=False)\n",
       "        (bn3): BatchNorm2d(2048, eps=1e-05, momentum=0.1, affine=True, track_running_stats=True)\n",
       "        (relu): ReLU(inplace=True)\n",
       "      )\n",
       "    )\n",
       "    (8): AdaptiveAvgPool2d(output_size=(1, 1))\n",
       "  )\n",
       "  (flatten): Flatten()\n",
       ")"
      ]
     },
     "execution_count": 157,
     "metadata": {},
     "output_type": "execute_result"
    }
   ],
   "source": [
    "random_projection=True\n",
    "if 'resnet' in model_name or 'resnext' in model_name:\n",
    "    backbone = WideResNetBackbone(model, 1)\n",
    "    random_projection=False\n",
    "elif 'vgg' in model_name:\n",
    "    backbone = VGGBackbone(model)\n",
    "elif 'alexnet' in model_name:\n",
    "    backbone = AlexnetBackbone(model)\n",
    "elif 'squeeze' in model_name:\n",
    "    backbone = SqueezeBackbone(model)\n",
    "elif 'efficient' in model_name:\n",
    "    backbone = model\n",
    "    backbone.N = 1000\n",
    "    random_projection=False\n",
    "#     backbone = EfficientNetBackbone(model)\n",
    "backbone.to('cuda').eval()"
   ]
  },
  {
   "cell_type": "code",
   "execution_count": 9,
   "metadata": {},
   "outputs": [
    {
     "data": {
      "text/plain": [
       "WideResNetBackbone(\n",
       "  (features): Sequential(\n",
       "    (0): Conv2d(3, 64, kernel_size=(7, 7), stride=(2, 2), padding=(3, 3), bias=False)\n",
       "    (1): BatchNorm2d(64, eps=1e-05, momentum=0.1, affine=True, track_running_stats=True)\n",
       "    (2): ReLU(inplace=True)\n",
       "    (3): MaxPool2d(kernel_size=3, stride=2, padding=1, dilation=1, ceil_mode=False)\n",
       "    (4): Sequential(\n",
       "      (0): Bottleneck(\n",
       "        (conv1): Conv2d(64, 64, kernel_size=(1, 1), stride=(1, 1), bias=False)\n",
       "        (bn1): BatchNorm2d(64, eps=1e-05, momentum=0.1, affine=True, track_running_stats=True)\n",
       "        (conv2): Conv2d(64, 64, kernel_size=(3, 3), stride=(1, 1), padding=(1, 1), bias=False)\n",
       "        (bn2): BatchNorm2d(64, eps=1e-05, momentum=0.1, affine=True, track_running_stats=True)\n",
       "        (conv3): Conv2d(64, 256, kernel_size=(1, 1), stride=(1, 1), bias=False)\n",
       "        (bn3): BatchNorm2d(256, eps=1e-05, momentum=0.1, affine=True, track_running_stats=True)\n",
       "        (relu): ReLU(inplace=True)\n",
       "        (downsample): Sequential(\n",
       "          (0): Conv2d(64, 256, kernel_size=(1, 1), stride=(1, 1), bias=False)\n",
       "          (1): BatchNorm2d(256, eps=1e-05, momentum=0.1, affine=True, track_running_stats=True)\n",
       "        )\n",
       "      )\n",
       "      (1): Bottleneck(\n",
       "        (conv1): Conv2d(256, 64, kernel_size=(1, 1), stride=(1, 1), bias=False)\n",
       "        (bn1): BatchNorm2d(64, eps=1e-05, momentum=0.1, affine=True, track_running_stats=True)\n",
       "        (conv2): Conv2d(64, 64, kernel_size=(3, 3), stride=(1, 1), padding=(1, 1), bias=False)\n",
       "        (bn2): BatchNorm2d(64, eps=1e-05, momentum=0.1, affine=True, track_running_stats=True)\n",
       "        (conv3): Conv2d(64, 256, kernel_size=(1, 1), stride=(1, 1), bias=False)\n",
       "        (bn3): BatchNorm2d(256, eps=1e-05, momentum=0.1, affine=True, track_running_stats=True)\n",
       "        (relu): ReLU(inplace=True)\n",
       "      )\n",
       "      (2): Bottleneck(\n",
       "        (conv1): Conv2d(256, 64, kernel_size=(1, 1), stride=(1, 1), bias=False)\n",
       "        (bn1): BatchNorm2d(64, eps=1e-05, momentum=0.1, affine=True, track_running_stats=True)\n",
       "        (conv2): Conv2d(64, 64, kernel_size=(3, 3), stride=(1, 1), padding=(1, 1), bias=False)\n",
       "        (bn2): BatchNorm2d(64, eps=1e-05, momentum=0.1, affine=True, track_running_stats=True)\n",
       "        (conv3): Conv2d(64, 256, kernel_size=(1, 1), stride=(1, 1), bias=False)\n",
       "        (bn3): BatchNorm2d(256, eps=1e-05, momentum=0.1, affine=True, track_running_stats=True)\n",
       "        (relu): ReLU(inplace=True)\n",
       "      )\n",
       "    )\n",
       "    (5): Sequential(\n",
       "      (0): Bottleneck(\n",
       "        (conv1): Conv2d(256, 128, kernel_size=(1, 1), stride=(1, 1), bias=False)\n",
       "        (bn1): BatchNorm2d(128, eps=1e-05, momentum=0.1, affine=True, track_running_stats=True)\n",
       "        (conv2): Conv2d(128, 128, kernel_size=(3, 3), stride=(2, 2), padding=(1, 1), bias=False)\n",
       "        (bn2): BatchNorm2d(128, eps=1e-05, momentum=0.1, affine=True, track_running_stats=True)\n",
       "        (conv3): Conv2d(128, 512, kernel_size=(1, 1), stride=(1, 1), bias=False)\n",
       "        (bn3): BatchNorm2d(512, eps=1e-05, momentum=0.1, affine=True, track_running_stats=True)\n",
       "        (relu): ReLU(inplace=True)\n",
       "        (downsample): Sequential(\n",
       "          (0): Conv2d(256, 512, kernel_size=(1, 1), stride=(2, 2), bias=False)\n",
       "          (1): BatchNorm2d(512, eps=1e-05, momentum=0.1, affine=True, track_running_stats=True)\n",
       "        )\n",
       "      )\n",
       "      (1): Bottleneck(\n",
       "        (conv1): Conv2d(512, 128, kernel_size=(1, 1), stride=(1, 1), bias=False)\n",
       "        (bn1): BatchNorm2d(128, eps=1e-05, momentum=0.1, affine=True, track_running_stats=True)\n",
       "        (conv2): Conv2d(128, 128, kernel_size=(3, 3), stride=(1, 1), padding=(1, 1), bias=False)\n",
       "        (bn2): BatchNorm2d(128, eps=1e-05, momentum=0.1, affine=True, track_running_stats=True)\n",
       "        (conv3): Conv2d(128, 512, kernel_size=(1, 1), stride=(1, 1), bias=False)\n",
       "        (bn3): BatchNorm2d(512, eps=1e-05, momentum=0.1, affine=True, track_running_stats=True)\n",
       "        (relu): ReLU(inplace=True)\n",
       "      )\n",
       "      (2): Bottleneck(\n",
       "        (conv1): Conv2d(512, 128, kernel_size=(1, 1), stride=(1, 1), bias=False)\n",
       "        (bn1): BatchNorm2d(128, eps=1e-05, momentum=0.1, affine=True, track_running_stats=True)\n",
       "        (conv2): Conv2d(128, 128, kernel_size=(3, 3), stride=(1, 1), padding=(1, 1), bias=False)\n",
       "        (bn2): BatchNorm2d(128, eps=1e-05, momentum=0.1, affine=True, track_running_stats=True)\n",
       "        (conv3): Conv2d(128, 512, kernel_size=(1, 1), stride=(1, 1), bias=False)\n",
       "        (bn3): BatchNorm2d(512, eps=1e-05, momentum=0.1, affine=True, track_running_stats=True)\n",
       "        (relu): ReLU(inplace=True)\n",
       "      )\n",
       "      (3): Bottleneck(\n",
       "        (conv1): Conv2d(512, 128, kernel_size=(1, 1), stride=(1, 1), bias=False)\n",
       "        (bn1): BatchNorm2d(128, eps=1e-05, momentum=0.1, affine=True, track_running_stats=True)\n",
       "        (conv2): Conv2d(128, 128, kernel_size=(3, 3), stride=(1, 1), padding=(1, 1), bias=False)\n",
       "        (bn2): BatchNorm2d(128, eps=1e-05, momentum=0.1, affine=True, track_running_stats=True)\n",
       "        (conv3): Conv2d(128, 512, kernel_size=(1, 1), stride=(1, 1), bias=False)\n",
       "        (bn3): BatchNorm2d(512, eps=1e-05, momentum=0.1, affine=True, track_running_stats=True)\n",
       "        (relu): ReLU(inplace=True)\n",
       "      )\n",
       "    )\n",
       "    (6): Sequential(\n",
       "      (0): Bottleneck(\n",
       "        (conv1): Conv2d(512, 256, kernel_size=(1, 1), stride=(1, 1), bias=False)\n",
       "        (bn1): BatchNorm2d(256, eps=1e-05, momentum=0.1, affine=True, track_running_stats=True)\n",
       "        (conv2): Conv2d(256, 256, kernel_size=(3, 3), stride=(2, 2), padding=(1, 1), bias=False)\n",
       "        (bn2): BatchNorm2d(256, eps=1e-05, momentum=0.1, affine=True, track_running_stats=True)\n",
       "        (conv3): Conv2d(256, 1024, kernel_size=(1, 1), stride=(1, 1), bias=False)\n",
       "        (bn3): BatchNorm2d(1024, eps=1e-05, momentum=0.1, affine=True, track_running_stats=True)\n",
       "        (relu): ReLU(inplace=True)\n",
       "        (downsample): Sequential(\n",
       "          (0): Conv2d(512, 1024, kernel_size=(1, 1), stride=(2, 2), bias=False)\n",
       "          (1): BatchNorm2d(1024, eps=1e-05, momentum=0.1, affine=True, track_running_stats=True)\n",
       "        )\n",
       "      )\n",
       "      (1): Bottleneck(\n",
       "        (conv1): Conv2d(1024, 256, kernel_size=(1, 1), stride=(1, 1), bias=False)\n",
       "        (bn1): BatchNorm2d(256, eps=1e-05, momentum=0.1, affine=True, track_running_stats=True)\n",
       "        (conv2): Conv2d(256, 256, kernel_size=(3, 3), stride=(1, 1), padding=(1, 1), bias=False)\n",
       "        (bn2): BatchNorm2d(256, eps=1e-05, momentum=0.1, affine=True, track_running_stats=True)\n",
       "        (conv3): Conv2d(256, 1024, kernel_size=(1, 1), stride=(1, 1), bias=False)\n",
       "        (bn3): BatchNorm2d(1024, eps=1e-05, momentum=0.1, affine=True, track_running_stats=True)\n",
       "        (relu): ReLU(inplace=True)\n",
       "      )\n",
       "      (2): Bottleneck(\n",
       "        (conv1): Conv2d(1024, 256, kernel_size=(1, 1), stride=(1, 1), bias=False)\n",
       "        (bn1): BatchNorm2d(256, eps=1e-05, momentum=0.1, affine=True, track_running_stats=True)\n",
       "        (conv2): Conv2d(256, 256, kernel_size=(3, 3), stride=(1, 1), padding=(1, 1), bias=False)\n",
       "        (bn2): BatchNorm2d(256, eps=1e-05, momentum=0.1, affine=True, track_running_stats=True)\n",
       "        (conv3): Conv2d(256, 1024, kernel_size=(1, 1), stride=(1, 1), bias=False)\n",
       "        (bn3): BatchNorm2d(1024, eps=1e-05, momentum=0.1, affine=True, track_running_stats=True)\n",
       "        (relu): ReLU(inplace=True)\n",
       "      )\n",
       "      (3): Bottleneck(\n",
       "        (conv1): Conv2d(1024, 256, kernel_size=(1, 1), stride=(1, 1), bias=False)\n",
       "        (bn1): BatchNorm2d(256, eps=1e-05, momentum=0.1, affine=True, track_running_stats=True)\n",
       "        (conv2): Conv2d(256, 256, kernel_size=(3, 3), stride=(1, 1), padding=(1, 1), bias=False)\n",
       "        (bn2): BatchNorm2d(256, eps=1e-05, momentum=0.1, affine=True, track_running_stats=True)\n",
       "        (conv3): Conv2d(256, 1024, kernel_size=(1, 1), stride=(1, 1), bias=False)\n",
       "        (bn3): BatchNorm2d(1024, eps=1e-05, momentum=0.1, affine=True, track_running_stats=True)\n",
       "        (relu): ReLU(inplace=True)\n",
       "      )\n",
       "      (4): Bottleneck(\n",
       "        (conv1): Conv2d(1024, 256, kernel_size=(1, 1), stride=(1, 1), bias=False)\n",
       "        (bn1): BatchNorm2d(256, eps=1e-05, momentum=0.1, affine=True, track_running_stats=True)\n",
       "        (conv2): Conv2d(256, 256, kernel_size=(3, 3), stride=(1, 1), padding=(1, 1), bias=False)\n",
       "        (bn2): BatchNorm2d(256, eps=1e-05, momentum=0.1, affine=True, track_running_stats=True)\n",
       "        (conv3): Conv2d(256, 1024, kernel_size=(1, 1), stride=(1, 1), bias=False)\n",
       "        (bn3): BatchNorm2d(1024, eps=1e-05, momentum=0.1, affine=True, track_running_stats=True)\n",
       "        (relu): ReLU(inplace=True)\n",
       "      )\n",
       "      (5): Bottleneck(\n",
       "        (conv1): Conv2d(1024, 256, kernel_size=(1, 1), stride=(1, 1), bias=False)\n",
       "        (bn1): BatchNorm2d(256, eps=1e-05, momentum=0.1, affine=True, track_running_stats=True)\n",
       "        (conv2): Conv2d(256, 256, kernel_size=(3, 3), stride=(1, 1), padding=(1, 1), bias=False)\n",
       "        (bn2): BatchNorm2d(256, eps=1e-05, momentum=0.1, affine=True, track_running_stats=True)\n",
       "        (conv3): Conv2d(256, 1024, kernel_size=(1, 1), stride=(1, 1), bias=False)\n",
       "        (bn3): BatchNorm2d(1024, eps=1e-05, momentum=0.1, affine=True, track_running_stats=True)\n",
       "        (relu): ReLU(inplace=True)\n",
       "      )\n",
       "    )\n",
       "    (7): Sequential(\n",
       "      (0): Bottleneck(\n",
       "        (conv1): Conv2d(1024, 512, kernel_size=(1, 1), stride=(1, 1), bias=False)\n",
       "        (bn1): BatchNorm2d(512, eps=1e-05, momentum=0.1, affine=True, track_running_stats=True)\n",
       "        (conv2): Conv2d(512, 512, kernel_size=(3, 3), stride=(2, 2), padding=(1, 1), bias=False)\n",
       "        (bn2): BatchNorm2d(512, eps=1e-05, momentum=0.1, affine=True, track_running_stats=True)\n",
       "        (conv3): Conv2d(512, 2048, kernel_size=(1, 1), stride=(1, 1), bias=False)\n",
       "        (bn3): BatchNorm2d(2048, eps=1e-05, momentum=0.1, affine=True, track_running_stats=True)\n",
       "        (relu): ReLU(inplace=True)\n",
       "        (downsample): Sequential(\n",
       "          (0): Conv2d(1024, 2048, kernel_size=(1, 1), stride=(2, 2), bias=False)\n",
       "          (1): BatchNorm2d(2048, eps=1e-05, momentum=0.1, affine=True, track_running_stats=True)\n",
       "        )\n",
       "      )\n",
       "      (1): Bottleneck(\n",
       "        (conv1): Conv2d(2048, 512, kernel_size=(1, 1), stride=(1, 1), bias=False)\n",
       "        (bn1): BatchNorm2d(512, eps=1e-05, momentum=0.1, affine=True, track_running_stats=True)\n",
       "        (conv2): Conv2d(512, 512, kernel_size=(3, 3), stride=(1, 1), padding=(1, 1), bias=False)\n",
       "        (bn2): BatchNorm2d(512, eps=1e-05, momentum=0.1, affine=True, track_running_stats=True)\n",
       "        (conv3): Conv2d(512, 2048, kernel_size=(1, 1), stride=(1, 1), bias=False)\n",
       "        (bn3): BatchNorm2d(2048, eps=1e-05, momentum=0.1, affine=True, track_running_stats=True)\n",
       "        (relu): ReLU(inplace=True)\n",
       "      )\n",
       "      (2): Bottleneck(\n",
       "        (conv1): Conv2d(2048, 512, kernel_size=(1, 1), stride=(1, 1), bias=False)\n",
       "        (bn1): BatchNorm2d(512, eps=1e-05, momentum=0.1, affine=True, track_running_stats=True)\n",
       "        (conv2): Conv2d(512, 512, kernel_size=(3, 3), stride=(1, 1), padding=(1, 1), bias=False)\n",
       "        (bn2): BatchNorm2d(512, eps=1e-05, momentum=0.1, affine=True, track_running_stats=True)\n",
       "        (conv3): Conv2d(512, 2048, kernel_size=(1, 1), stride=(1, 1), bias=False)\n",
       "        (bn3): BatchNorm2d(2048, eps=1e-05, momentum=0.1, affine=True, track_running_stats=True)\n",
       "        (relu): ReLU(inplace=True)\n",
       "      )\n",
       "    )\n",
       "  )\n",
       "  (flatten): Flatten()\n",
       ")"
      ]
     },
     "execution_count": 9,
     "metadata": {},
     "output_type": "execute_result"
    }
   ],
   "source": [
    "backbone = WideResNetBackbone(model, 2)\n",
    "backbone.to('cuda').eval()"
   ]
  },
  {
   "cell_type": "code",
   "execution_count": 16,
   "metadata": {},
   "outputs": [],
   "source": [
    "batch_size = 10\n",
    "input_tensor = get_batch(0,batch_size)\n",
    "with torch.no_grad():\n",
    "    output = backbone(input_tensor.cuda()).cpu()"
   ]
  },
  {
   "cell_type": "code",
   "execution_count": 17,
   "metadata": {},
   "outputs": [],
   "source": [
    "N = 2048\n",
    "# idxs = torch.randint(0,100352,(N,))\n",
    "O = torch.randn((100352,2048))/np.sqrt(2048)"
   ]
  },
  {
   "cell_type": "code",
   "execution_count": 18,
   "metadata": {},
   "outputs": [],
   "source": [
    "O = O.cuda()"
   ]
  },
  {
   "cell_type": "code",
   "execution_count": null,
   "metadata": {
    "scrolled": true
   },
   "outputs": [],
   "source": [
    "# N = 2048\n",
    "K = 64\n",
    "P = 50\n",
    "batch_size = 10\n",
    "n_classes = len(imnames)\n",
    "\n",
    "manifolds = []\n",
    "# for class_id in tqdm(range(n_classes)):\n",
    "for i in tqdm(range(K*P//batch_size)):\n",
    "    input_tensor = get_batch(i,batch_size)\n",
    "    with torch.no_grad():\n",
    "        output = backbone(input_tensor.cuda())\n",
    "    manifolds.append(output.cpu().numpy())\n",
    "manifolds = np.stack(manifolds).reshape(K,P,N)"
   ]
  },
  {
   "cell_type": "code",
   "execution_count": 30,
   "metadata": {},
   "outputs": [],
   "source": [
    "manifolds = np.stack(manifolds).reshape(K,P,100352)"
   ]
  },
  {
   "cell_type": "code",
   "execution_count": 31,
   "metadata": {},
   "outputs": [
    {
     "data": {
      "text/plain": [
       "(64, 50, 100352)"
      ]
     },
     "execution_count": 31,
     "metadata": {},
     "output_type": "execute_result"
    }
   ],
   "source": [
    "manifolds.shape"
   ]
  },
  {
   "cell_type": "code",
   "execution_count": 25,
   "metadata": {},
   "outputs": [],
   "source": [
    "test = np.random.randn(64,50,10000)"
   ]
  },
  {
   "cell_type": "code",
   "execution_count": 28,
   "metadata": {},
   "outputs": [
    {
     "data": {
      "text/plain": [
       "0.256"
      ]
     },
     "execution_count": 28,
     "metadata": {},
     "output_type": "execute_result"
    }
   ],
   "source": [
    "test.nbytes / 1e9"
   ]
  },
  {
   "cell_type": "code",
   "execution_count": 32,
   "metadata": {},
   "outputs": [],
   "source": [
    "np.save('data/dicarlo_shallow_resnet_manifolds.npy', manifolds)"
   ]
  },
  {
   "cell_type": "code",
   "execution_count": 55,
   "metadata": {},
   "outputs": [],
   "source": [
    "# np.save('data/dicarlo_resnet_manifolds.npy', manifolds)"
   ]
  },
  {
   "cell_type": "code",
   "execution_count": 51,
   "metadata": {
    "scrolled": true
   },
   "outputs": [
    {
     "data": {
      "application/vnd.jupyter.widget-view+json": {
       "model_id": "98e6522ac0b74166944b4d623500d0e2",
       "version_major": 2,
       "version_minor": 0
      },
      "text/plain": [
       "HBox(children=(IntProgress(value=0, max=64), HTML(value='')))"
      ]
     },
     "metadata": {},
     "output_type": "display_data"
    },
    {
     "name": "stdout",
     "output_type": "stream",
     "text": [
      "\n"
     ]
    }
   ],
   "source": [
    "# Compute error\n",
    "m = 5\n",
    "n_avg = 50\n",
    "\n",
    "err_all = np.zeros((len(manifolds),len(manifolds)))\n",
    "for a in tqdm(range(len(manifolds))):\n",
    "    Xa = manifolds[a]\n",
    "    for b in range(len(manifolds)):\n",
    "        Xb = manifolds[b]\n",
    "\n",
    "        errs = []\n",
    "        for _ in range(n_avg):\n",
    "            perma = np.random.permutation(len(Xa))\n",
    "            permb = np.random.permutation(len(Xb))\n",
    "\n",
    "            xa,ya = np.split(Xa[perma],(m,))\n",
    "            xb,yb = np.split(Xb[permb],(m,))\n",
    "            w = (xa-xb).mean(0)\n",
    "            mu = (xa+xb).mean(0)/2\n",
    "\n",
    "            h = ya@w - w@mu\n",
    "            err = (h<0).mean()\n",
    "            errs.append(err)\n",
    "        err_all[a,b] = np.mean(errs)\n",
    "np.fill_diagonal(err_all,np.nan)"
   ]
  },
  {
   "cell_type": "code",
   "execution_count": 53,
   "metadata": {},
   "outputs": [
    {
     "name": "stdout",
     "output_type": "stream",
     "text": [
      "0.9625908289241623\n"
     ]
    },
    {
     "data": {
      "image/png": "[encoded data removed]",
      "text/plain": [
       "<Figure size 432x288 with 2 Axes>"
      ]
     },
     "metadata": {},
     "output_type": "display_data"
    }
   ],
   "source": [
    "with sns.axes_style('ticks'):\n",
    "    plt.imshow(err_all)\n",
    "#     plt.xticks(np.arange(len(uniq_labels)),uniq_labels,rotation=90)\n",
    "#     plt.yticks(np.arange(len(uniq_labels)),uniq_labels)\n",
    "    plt.colorbar()\n",
    "    plt.title(str(m)+'-shot')\n",
    "print(1-np.nanmean(err_all))"
   ]
  },
  {
   "cell_type": "code",
   "execution_count": 87,
   "metadata": {},
   "outputs": [
    {
     "name": "stdout",
     "output_type": "stream",
     "text": [
      "0.9481976943942134\n"
     ]
    },
    {
     "data": {
      "image/png": "[encoded data removed]",
      "text/plain": [
       "<Figure size 432x288 with 2 Axes>"
      ]
     },
     "metadata": {},
     "output_type": "display_data"
    }
   ],
   "source": [
    "with sns.axes_style('ticks'):\n",
    "    plt.imshow(err_all)\n",
    "    plt.xticks(np.arange(len(uniq_labels)),uniq_labels,rotation=90)\n",
    "    plt.yticks(np.arange(len(uniq_labels)),uniq_labels)\n",
    "    plt.colorbar()\n",
    "    plt.title(str(m)+'-shot')\n",
    "print(1-np.nanmean(err_all))"
   ]
  },
  {
   "cell_type": "code",
   "execution_count": 84,
   "metadata": {},
   "outputs": [
    {
     "data": {
      "image/png": "[encoded data removed]",
      "text/plain": [
       "<Figure size 432x288 with 2 Axes>"
      ]
     },
     "metadata": {},
     "output_type": "display_data"
    }
   ],
   "source": [
    "with sns.axes_style('ticks'):\n",
    "    plt.imshow(err_all)\n",
    "    plt.xticks(np.arange(len(uniq_labels)),uniq_labels,rotation=90)\n",
    "    plt.yticks(np.arange(len(uniq_labels)),uniq_labels)\n",
    "    plt.colorbar()\n",
    "    plt.title(str(m)+'-shot')\n",
    "print(1-np.nanmean(err_all))"
   ]
  },
  {
   "cell_type": "code",
   "execution_count": 50,
   "metadata": {},
   "outputs": [
    {
     "data": {
      "text/plain": [
       "0.8801861471861472"
      ]
     },
     "execution_count": 50,
     "metadata": {},
     "output_type": "execute_result"
    }
   ],
   "source": [
    "1-np.nanmean(err_all)"
   ]
  },
  {
   "cell_type": "code",
   "execution_count": 31,
   "metadata": {},
   "outputs": [],
   "source": [
    "Rs = []\n",
    "centers = []\n",
    "Us = []\n",
    "for manifold in manifolds:\n",
    "    centers.append(manifold.mean(0))\n",
    "    U,R,V = np.linalg.svd(manifold - manifold.mean(0),full_matrices=False)\n",
    "    Rs.append(R)\n",
    "    Us.append(V)\n",
    "Rs = np.stack(Rs)\n",
    "centers = np.stack(centers)\n",
    "Us = np.stack(Us)"
   ]
  },
  {
   "cell_type": "code",
   "execution_count": 32,
   "metadata": {},
   "outputs": [
    {
     "data": {
      "image/png": "[encoded data removed]",
      "text/plain": [
       "<Figure size 432x288 with 1 Axes>"
      ]
     },
     "metadata": {
      "needs_background": "light"
     },
     "output_type": "display_data"
    }
   ],
   "source": [
    "plt.plot(Rs.T);\n",
    "# plt.xscale('log')\n",
    "# plt.yscale('log')"
   ]
  },
  {
   "cell_type": "code",
   "execution_count": 33,
   "metadata": {},
   "outputs": [
    {
     "name": "stdout",
     "output_type": "stream",
     "text": [
      "Mean: 39.046772\n"
     ]
    }
   ],
   "source": [
    "Ds = np.sum(Rs**2,axis=-1)**2 / np.sum(Rs**4, axis=-1)\n",
    "print('Mean: ' + str(np.mean(Ds)))"
   ]
  },
  {
   "cell_type": "code",
   "execution_count": 34,
   "metadata": {},
   "outputs": [
    {
     "data": {
      "text/plain": [
       "array([43.49218 , 32.774258, 43.381313, 38.24773 , 33.417767, 40.148502,\n",
       "       41.865635], dtype=float32)"
      ]
     },
     "execution_count": 34,
     "metadata": {},
     "output_type": "execute_result"
    }
   ],
   "source": [
    "Ds"
   ]
  },
  {
   "cell_type": "code",
   "execution_count": 36,
   "metadata": {},
   "outputs": [],
   "source": [
    "idxs = np.random.choice(2048,168,replace=False)"
   ]
  },
  {
   "cell_type": "code",
   "execution_count": 39,
   "metadata": {},
   "outputs": [],
   "source": [
    "manifolds_small = manifolds[:,:,idxs]"
   ]
  },
  {
   "cell_type": "code",
   "execution_count": 41,
   "metadata": {},
   "outputs": [
    {
     "data": {
      "text/plain": [
       "(7, 280, 168)"
      ]
     },
     "execution_count": 41,
     "metadata": {},
     "output_type": "execute_result"
    }
   ],
   "source": [
    "manifolds_small.shape"
   ]
  },
  {
   "cell_type": "code",
   "execution_count": 42,
   "metadata": {},
   "outputs": [],
   "source": [
    "Rs = []\n",
    "centers = []\n",
    "Us = []\n",
    "for manifold in manifolds_small:\n",
    "    centers.append(manifold.mean(0))\n",
    "    U,R,V = np.linalg.svd(manifold - manifold.mean(0),full_matrices=False)\n",
    "    Rs.append(R)\n",
    "    Us.append(V)\n",
    "Rs = np.stack(Rs)\n",
    "centers = np.stack(centers)\n",
    "Us = np.stack(Us)"
   ]
  },
  {
   "cell_type": "code",
   "execution_count": 43,
   "metadata": {},
   "outputs": [
    {
     "data": {
      "image/png": "[encoded data removed]",
      "text/plain": [
       "<Figure size 432x288 with 1 Axes>"
      ]
     },
     "metadata": {
      "needs_background": "light"
     },
     "output_type": "display_data"
    }
   ],
   "source": [
    "plt.plot(Rs.T);\n",
    "# plt.xscale('log')\n",
    "# plt.yscale('log')"
   ]
  },
  {
   "cell_type": "code",
   "execution_count": 44,
   "metadata": {},
   "outputs": [
    {
     "name": "stdout",
     "output_type": "stream",
     "text": [
      "Mean: 27.808477\n"
     ]
    }
   ],
   "source": [
    "Ds = np.sum(Rs**2,axis=-1)**2 / np.sum(Rs**4, axis=-1)\n",
    "print('Mean: ' + str(np.mean(Ds)))"
   ]
  },
  {
   "cell_type": "code",
   "execution_count": 30,
   "metadata": {},
   "outputs": [
    {
     "data": {
      "text/plain": [
       "['dicarlo_V1_manifolds.npy', 'dicarlo_data', 'majaj_2015_imnames.npy']"
      ]
     },
     "execution_count": 30,
     "metadata": {},
     "output_type": "execute_result"
    }
   ],
   "source": [
    "os.listdir('data')"
   ]
  },
  {
   "cell_type": "code",
   "execution_count": 32,
   "metadata": {},
   "outputs": [],
   "source": [
    "np.save('data/dicarlo_resnet_manifolds.npy', manifolds)"
   ]
  },
  {
   "cell_type": "code",
   "execution_count": 31,
   "metadata": {},
   "outputs": [
    {
     "data": {
      "text/plain": [
       "(8, 400, 2048)"
      ]
     },
     "execution_count": 31,
     "metadata": {},
     "output_type": "execute_result"
    }
   ],
   "source": [
    "manifolds.shape"
   ]
  },
  {
   "cell_type": "markdown",
   "metadata": {},
   "source": [
    "## Geometry"
   ]
  },
  {
   "cell_type": "markdown",
   "metadata": {},
   "source": [
    "# Layerwise"
   ]
  },
  {
   "cell_type": "code",
   "execution_count": 158,
   "metadata": {},
   "outputs": [],
   "source": [
    "class WideResNetBackbone(torch.nn.Module):\n",
    "    def __init__(self, model, module_idx, layer_idx=None):\n",
    "        super(WideResNetBackbone, self).__init__()\n",
    "        self.N = list(model.children())[-1].weight.shape[-1]\n",
    "        self.layer_idx = layer_idx\n",
    "        self.pre_features = torch.nn.Sequential(*list(model.children())[:module_idx])\n",
    "        if layer_idx:\n",
    "            self.features = torch.nn.Sequential(*list(model.children())[module_idx][:layer_idx])\n",
    "        self.flatten = torch.nn.Flatten()\n",
    "        \n",
    "    def forward(self, x):\n",
    "        x = self.pre_features(x)\n",
    "        if self.layer_idx:\n",
    "            x = self.features(x)\n",
    "        x = self.flatten(x)\n",
    "        return x\n",
    "# backbone = WideResNetBackbone(model)\n",
    "# backbone.to('cuda').eval()"
   ]
  },
  {
   "cell_type": "code",
   "execution_count": 196,
   "metadata": {},
   "outputs": [
    {
     "data": {
      "text/plain": [
       "WideResNetBackbone(\n",
       "  (pre_features): Sequential(\n",
       "    (0): Conv2d(3, 64, kernel_size=(7, 7), stride=(2, 2), padding=(3, 3), bias=False)\n",
       "    (1): BatchNorm2d(64, eps=1e-05, momentum=0.1, affine=True, track_running_stats=True)\n",
       "    (2): ReLU(inplace=True)\n",
       "    (3): MaxPool2d(kernel_size=3, stride=2, padding=1, dilation=1, ceil_mode=False)\n",
       "    (4): Sequential(\n",
       "      (0): Bottleneck(\n",
       "        (conv1): Conv2d(64, 64, kernel_size=(1, 1), stride=(1, 1), bias=False)\n",
       "        (bn1): BatchNorm2d(64, eps=1e-05, momentum=0.1, affine=True, track_running_stats=True)\n",
       "        (conv2): Conv2d(64, 64, kernel_size=(3, 3), stride=(1, 1), padding=(1, 1), bias=False)\n",
       "        (bn2): BatchNorm2d(64, eps=1e-05, momentum=0.1, affine=True, track_running_stats=True)\n",
       "        (conv3): Conv2d(64, 256, kernel_size=(1, 1), stride=(1, 1), bias=False)\n",
       "        (bn3): BatchNorm2d(256, eps=1e-05, momentum=0.1, affine=True, track_running_stats=True)\n",
       "        (relu): ReLU(inplace=True)\n",
       "        (downsample): Sequential(\n",
       "          (0): Conv2d(64, 256, kernel_size=(1, 1), stride=(1, 1), bias=False)\n",
       "          (1): BatchNorm2d(256, eps=1e-05, momentum=0.1, affine=True, track_running_stats=True)\n",
       "        )\n",
       "      )\n",
       "      (1): Bottleneck(\n",
       "        (conv1): Conv2d(256, 64, kernel_size=(1, 1), stride=(1, 1), bias=False)\n",
       "        (bn1): BatchNorm2d(64, eps=1e-05, momentum=0.1, affine=True, track_running_stats=True)\n",
       "        (conv2): Conv2d(64, 64, kernel_size=(3, 3), stride=(1, 1), padding=(1, 1), bias=False)\n",
       "        (bn2): BatchNorm2d(64, eps=1e-05, momentum=0.1, affine=True, track_running_stats=True)\n",
       "        (conv3): Conv2d(64, 256, kernel_size=(1, 1), stride=(1, 1), bias=False)\n",
       "        (bn3): BatchNorm2d(256, eps=1e-05, momentum=0.1, affine=True, track_running_stats=True)\n",
       "        (relu): ReLU(inplace=True)\n",
       "      )\n",
       "      (2): Bottleneck(\n",
       "        (conv1): Conv2d(256, 64, kernel_size=(1, 1), stride=(1, 1), bias=False)\n",
       "        (bn1): BatchNorm2d(64, eps=1e-05, momentum=0.1, affine=True, track_running_stats=True)\n",
       "        (conv2): Conv2d(64, 64, kernel_size=(3, 3), stride=(1, 1), padding=(1, 1), bias=False)\n",
       "        (bn2): BatchNorm2d(64, eps=1e-05, momentum=0.1, affine=True, track_running_stats=True)\n",
       "        (conv3): Conv2d(64, 256, kernel_size=(1, 1), stride=(1, 1), bias=False)\n",
       "        (bn3): BatchNorm2d(256, eps=1e-05, momentum=0.1, affine=True, track_running_stats=True)\n",
       "        (relu): ReLU(inplace=True)\n",
       "      )\n",
       "    )\n",
       "    (5): Sequential(\n",
       "      (0): Bottleneck(\n",
       "        (conv1): Conv2d(256, 128, kernel_size=(1, 1), stride=(1, 1), bias=False)\n",
       "        (bn1): BatchNorm2d(128, eps=1e-05, momentum=0.1, affine=True, track_running_stats=True)\n",
       "        (conv2): Conv2d(128, 128, kernel_size=(3, 3), stride=(2, 2), padding=(1, 1), bias=False)\n",
       "        (bn2): BatchNorm2d(128, eps=1e-05, momentum=0.1, affine=True, track_running_stats=True)\n",
       "        (conv3): Conv2d(128, 512, kernel_size=(1, 1), stride=(1, 1), bias=False)\n",
       "        (bn3): BatchNorm2d(512, eps=1e-05, momentum=0.1, affine=True, track_running_stats=True)\n",
       "        (relu): ReLU(inplace=True)\n",
       "        (downsample): Sequential(\n",
       "          (0): Conv2d(256, 512, kernel_size=(1, 1), stride=(2, 2), bias=False)\n",
       "          (1): BatchNorm2d(512, eps=1e-05, momentum=0.1, affine=True, track_running_stats=True)\n",
       "        )\n",
       "      )\n",
       "      (1): Bottleneck(\n",
       "        (conv1): Conv2d(512, 128, kernel_size=(1, 1), stride=(1, 1), bias=False)\n",
       "        (bn1): BatchNorm2d(128, eps=1e-05, momentum=0.1, affine=True, track_running_stats=True)\n",
       "        (conv2): Conv2d(128, 128, kernel_size=(3, 3), stride=(1, 1), padding=(1, 1), bias=False)\n",
       "        (bn2): BatchNorm2d(128, eps=1e-05, momentum=0.1, affine=True, track_running_stats=True)\n",
       "        (conv3): Conv2d(128, 512, kernel_size=(1, 1), stride=(1, 1), bias=False)\n",
       "        (bn3): BatchNorm2d(512, eps=1e-05, momentum=0.1, affine=True, track_running_stats=True)\n",
       "        (relu): ReLU(inplace=True)\n",
       "      )\n",
       "      (2): Bottleneck(\n",
       "        (conv1): Conv2d(512, 128, kernel_size=(1, 1), stride=(1, 1), bias=False)\n",
       "        (bn1): BatchNorm2d(128, eps=1e-05, momentum=0.1, affine=True, track_running_stats=True)\n",
       "        (conv2): Conv2d(128, 128, kernel_size=(3, 3), stride=(1, 1), padding=(1, 1), bias=False)\n",
       "        (bn2): BatchNorm2d(128, eps=1e-05, momentum=0.1, affine=True, track_running_stats=True)\n",
       "        (conv3): Conv2d(128, 512, kernel_size=(1, 1), stride=(1, 1), bias=False)\n",
       "        (bn3): BatchNorm2d(512, eps=1e-05, momentum=0.1, affine=True, track_running_stats=True)\n",
       "        (relu): ReLU(inplace=True)\n",
       "      )\n",
       "      (3): Bottleneck(\n",
       "        (conv1): Conv2d(512, 128, kernel_size=(1, 1), stride=(1, 1), bias=False)\n",
       "        (bn1): BatchNorm2d(128, eps=1e-05, momentum=0.1, affine=True, track_running_stats=True)\n",
       "        (conv2): Conv2d(128, 128, kernel_size=(3, 3), stride=(1, 1), padding=(1, 1), bias=False)\n",
       "        (bn2): BatchNorm2d(128, eps=1e-05, momentum=0.1, affine=True, track_running_stats=True)\n",
       "        (conv3): Conv2d(128, 512, kernel_size=(1, 1), stride=(1, 1), bias=False)\n",
       "        (bn3): BatchNorm2d(512, eps=1e-05, momentum=0.1, affine=True, track_running_stats=True)\n",
       "        (relu): ReLU(inplace=True)\n",
       "      )\n",
       "    )\n",
       "    (6): Sequential(\n",
       "      (0): Bottleneck(\n",
       "        (conv1): Conv2d(512, 256, kernel_size=(1, 1), stride=(1, 1), bias=False)\n",
       "        (bn1): BatchNorm2d(256, eps=1e-05, momentum=0.1, affine=True, track_running_stats=True)\n",
       "        (conv2): Conv2d(256, 256, kernel_size=(3, 3), stride=(2, 2), padding=(1, 1), bias=False)\n",
       "        (bn2): BatchNorm2d(256, eps=1e-05, momentum=0.1, affine=True, track_running_stats=True)\n",
       "        (conv3): Conv2d(256, 1024, kernel_size=(1, 1), stride=(1, 1), bias=False)\n",
       "        (bn3): BatchNorm2d(1024, eps=1e-05, momentum=0.1, affine=True, track_running_stats=True)\n",
       "        (relu): ReLU(inplace=True)\n",
       "        (downsample): Sequential(\n",
       "          (0): Conv2d(512, 1024, kernel_size=(1, 1), stride=(2, 2), bias=False)\n",
       "          (1): BatchNorm2d(1024, eps=1e-05, momentum=0.1, affine=True, track_running_stats=True)\n",
       "        )\n",
       "      )\n",
       "      (1): Bottleneck(\n",
       "        (conv1): Conv2d(1024, 256, kernel_size=(1, 1), stride=(1, 1), bias=False)\n",
       "        (bn1): BatchNorm2d(256, eps=1e-05, momentum=0.1, affine=True, track_running_stats=True)\n",
       "        (conv2): Conv2d(256, 256, kernel_size=(3, 3), stride=(1, 1), padding=(1, 1), bias=False)\n",
       "        (bn2): BatchNorm2d(256, eps=1e-05, momentum=0.1, affine=True, track_running_stats=True)\n",
       "        (conv3): Conv2d(256, 1024, kernel_size=(1, 1), stride=(1, 1), bias=False)\n",
       "        (bn3): BatchNorm2d(1024, eps=1e-05, momentum=0.1, affine=True, track_running_stats=True)\n",
       "        (relu): ReLU(inplace=True)\n",
       "      )\n",
       "      (2): Bottleneck(\n",
       "        (conv1): Conv2d(1024, 256, kernel_size=(1, 1), stride=(1, 1), bias=False)\n",
       "        (bn1): BatchNorm2d(256, eps=1e-05, momentum=0.1, affine=True, track_running_stats=True)\n",
       "        (conv2): Conv2d(256, 256, kernel_size=(3, 3), stride=(1, 1), padding=(1, 1), bias=False)\n",
       "        (bn2): BatchNorm2d(256, eps=1e-05, momentum=0.1, affine=True, track_running_stats=True)\n",
       "        (conv3): Conv2d(256, 1024, kernel_size=(1, 1), stride=(1, 1), bias=False)\n",
       "        (bn3): BatchNorm2d(1024, eps=1e-05, momentum=0.1, affine=True, track_running_stats=True)\n",
       "        (relu): ReLU(inplace=True)\n",
       "      )\n",
       "      (3): Bottleneck(\n",
       "        (conv1): Conv2d(1024, 256, kernel_size=(1, 1), stride=(1, 1), bias=False)\n",
       "        (bn1): BatchNorm2d(256, eps=1e-05, momentum=0.1, affine=True, track_running_stats=True)\n",
       "        (conv2): Conv2d(256, 256, kernel_size=(3, 3), stride=(1, 1), padding=(1, 1), bias=False)\n",
       "        (bn2): BatchNorm2d(256, eps=1e-05, momentum=0.1, affine=True, track_running_stats=True)\n",
       "        (conv3): Conv2d(256, 1024, kernel_size=(1, 1), stride=(1, 1), bias=False)\n",
       "        (bn3): BatchNorm2d(1024, eps=1e-05, momentum=0.1, affine=True, track_running_stats=True)\n",
       "        (relu): ReLU(inplace=True)\n",
       "      )\n",
       "      (4): Bottleneck(\n",
       "        (conv1): Conv2d(1024, 256, kernel_size=(1, 1), stride=(1, 1), bias=False)\n",
       "        (bn1): BatchNorm2d(256, eps=1e-05, momentum=0.1, affine=True, track_running_stats=True)\n",
       "        (conv2): Conv2d(256, 256, kernel_size=(3, 3), stride=(1, 1), padding=(1, 1), bias=False)\n",
       "        (bn2): BatchNorm2d(256, eps=1e-05, momentum=0.1, affine=True, track_running_stats=True)\n",
       "        (conv3): Conv2d(256, 1024, kernel_size=(1, 1), stride=(1, 1), bias=False)\n",
       "        (bn3): BatchNorm2d(1024, eps=1e-05, momentum=0.1, affine=True, track_running_stats=True)\n",
       "        (relu): ReLU(inplace=True)\n",
       "      )\n",
       "      (5): Bottleneck(\n",
       "        (conv1): Conv2d(1024, 256, kernel_size=(1, 1), stride=(1, 1), bias=False)\n",
       "        (bn1): BatchNorm2d(256, eps=1e-05, momentum=0.1, affine=True, track_running_stats=True)\n",
       "        (conv2): Conv2d(256, 256, kernel_size=(3, 3), stride=(1, 1), padding=(1, 1), bias=False)\n",
       "        (bn2): BatchNorm2d(256, eps=1e-05, momentum=0.1, affine=True, track_running_stats=True)\n",
       "        (conv3): Conv2d(256, 1024, kernel_size=(1, 1), stride=(1, 1), bias=False)\n",
       "        (bn3): BatchNorm2d(1024, eps=1e-05, momentum=0.1, affine=True, track_running_stats=True)\n",
       "        (relu): ReLU(inplace=True)\n",
       "      )\n",
       "    )\n",
       "    (7): Sequential(\n",
       "      (0): Bottleneck(\n",
       "        (conv1): Conv2d(1024, 512, kernel_size=(1, 1), stride=(1, 1), bias=False)\n",
       "        (bn1): BatchNorm2d(512, eps=1e-05, momentum=0.1, affine=True, track_running_stats=True)\n",
       "        (conv2): Conv2d(512, 512, kernel_size=(3, 3), stride=(2, 2), padding=(1, 1), bias=False)\n",
       "        (bn2): BatchNorm2d(512, eps=1e-05, momentum=0.1, affine=True, track_running_stats=True)\n",
       "        (conv3): Conv2d(512, 2048, kernel_size=(1, 1), stride=(1, 1), bias=False)\n",
       "        (bn3): BatchNorm2d(2048, eps=1e-05, momentum=0.1, affine=True, track_running_stats=True)\n",
       "        (relu): ReLU(inplace=True)\n",
       "        (downsample): Sequential(\n",
       "          (0): Conv2d(1024, 2048, kernel_size=(1, 1), stride=(2, 2), bias=False)\n",
       "          (1): BatchNorm2d(2048, eps=1e-05, momentum=0.1, affine=True, track_running_stats=True)\n",
       "        )\n",
       "      )\n",
       "      (1): Bottleneck(\n",
       "        (conv1): Conv2d(2048, 512, kernel_size=(1, 1), stride=(1, 1), bias=False)\n",
       "        (bn1): BatchNorm2d(512, eps=1e-05, momentum=0.1, affine=True, track_running_stats=True)\n",
       "        (conv2): Conv2d(512, 512, kernel_size=(3, 3), stride=(1, 1), padding=(1, 1), bias=False)\n",
       "        (bn2): BatchNorm2d(512, eps=1e-05, momentum=0.1, affine=True, track_running_stats=True)\n",
       "        (conv3): Conv2d(512, 2048, kernel_size=(1, 1), stride=(1, 1), bias=False)\n",
       "        (bn3): BatchNorm2d(2048, eps=1e-05, momentum=0.1, affine=True, track_running_stats=True)\n",
       "        (relu): ReLU(inplace=True)\n",
       "      )\n",
       "      (2): Bottleneck(\n",
       "        (conv1): Conv2d(2048, 512, kernel_size=(1, 1), stride=(1, 1), bias=False)\n",
       "        (bn1): BatchNorm2d(512, eps=1e-05, momentum=0.1, affine=True, track_running_stats=True)\n",
       "        (conv2): Conv2d(512, 512, kernel_size=(3, 3), stride=(1, 1), padding=(1, 1), bias=False)\n",
       "        (bn2): BatchNorm2d(512, eps=1e-05, momentum=0.1, affine=True, track_running_stats=True)\n",
       "        (conv3): Conv2d(512, 2048, kernel_size=(1, 1), stride=(1, 1), bias=False)\n",
       "        (bn3): BatchNorm2d(2048, eps=1e-05, momentum=0.1, affine=True, track_running_stats=True)\n",
       "        (relu): ReLU(inplace=True)\n",
       "      )\n",
       "    )\n",
       "    (8): AdaptiveAvgPool2d(output_size=(1, 1))\n",
       "  )\n",
       "  (flatten): Flatten()\n",
       ")"
      ]
     },
     "execution_count": 196,
     "metadata": {},
     "output_type": "execute_result"
    }
   ],
   "source": [
    "backbone = WideResNetBackbone(model, 9)\n",
    "backbone.to('cuda').eval()"
   ]
  },
  {
   "cell_type": "code",
   "execution_count": 197,
   "metadata": {},
   "outputs": [],
   "source": [
    "with torch.no_grad():\n",
    "    output = backbone(input_tensor.cuda())"
   ]
  },
  {
   "cell_type": "code",
   "execution_count": 198,
   "metadata": {},
   "outputs": [
    {
     "data": {
      "text/plain": [
       "torch.Size([10, 2048])"
      ]
     },
     "execution_count": 198,
     "metadata": {},
     "output_type": "execute_result"
    }
   ],
   "source": [
    "output.shape"
   ]
  },
  {
   "cell_type": "code",
   "execution_count": 199,
   "metadata": {
    "scrolled": true
   },
   "outputs": [
    {
     "data": {
      "application/vnd.jupyter.widget-view+json": {
       "model_id": "c76b6e0664ca4165888a42698f1ea81c",
       "version_major": 2,
       "version_minor": 0
      },
      "text/plain": [
       "HBox(children=(IntProgress(value=0, max=10), HTML(value='')))"
      ]
     },
     "metadata": {},
     "output_type": "display_data"
    },
    {
     "name": "stdout",
     "output_type": "stream",
     "text": [
      "Computing embeddings module 0, layer 0\n"
     ]
    },
    {
     "data": {
      "application/vnd.jupyter.widget-view+json": {
       "model_id": "7da0be85e70a4b6b97dc71e63c53289a",
       "version_major": 2,
       "version_minor": 0
      },
      "text/plain": [
       "HBox(children=(IntProgress(value=0, max=320), HTML(value='')))"
      ]
     },
     "metadata": {},
     "output_type": "display_data"
    },
    {
     "name": "stdout",
     "output_type": "stream",
     "text": [
      "\n",
      "Computing embeddings module 1, layer 0\n"
     ]
    },
    {
     "data": {
      "application/vnd.jupyter.widget-view+json": {
       "model_id": "515c35cb94be4c9b99a81e4b95d99796",
       "version_major": 2,
       "version_minor": 0
      },
      "text/plain": [
       "HBox(children=(IntProgress(value=0, max=320), HTML(value='')))"
      ]
     },
     "metadata": {},
     "output_type": "display_data"
    },
    {
     "name": "stdout",
     "output_type": "stream",
     "text": [
      "\n",
      "Computing embeddings module 2, layer 0\n"
     ]
    },
    {
     "data": {
      "application/vnd.jupyter.widget-view+json": {
       "model_id": "1e902ea2eb354aca9d4f76a045d7554c",
       "version_major": 2,
       "version_minor": 0
      },
      "text/plain": [
       "HBox(children=(IntProgress(value=0, max=320), HTML(value='')))"
      ]
     },
     "metadata": {},
     "output_type": "display_data"
    },
    {
     "name": "stdout",
     "output_type": "stream",
     "text": [
      "\n",
      "Computing embeddings module 3, layer 0\n"
     ]
    },
    {
     "data": {
      "application/vnd.jupyter.widget-view+json": {
       "model_id": "9bad390c91704acc8dd84dfc9e29a5b2",
       "version_major": 2,
       "version_minor": 0
      },
      "text/plain": [
       "HBox(children=(IntProgress(value=0, max=320), HTML(value='')))"
      ]
     },
     "metadata": {},
     "output_type": "display_data"
    },
    {
     "name": "stdout",
     "output_type": "stream",
     "text": [
      "\n",
      "Computing embeddings module 4, layer 0\n"
     ]
    },
    {
     "data": {
      "application/vnd.jupyter.widget-view+json": {
       "model_id": "d237387fadcc43c2a6139bc20e5d1955",
       "version_major": 2,
       "version_minor": 0
      },
      "text/plain": [
       "HBox(children=(IntProgress(value=0, max=320), HTML(value='')))"
      ]
     },
     "metadata": {},
     "output_type": "display_data"
    },
    {
     "name": "stdout",
     "output_type": "stream",
     "text": [
      "\n",
      "Computing embeddings module 4, layer 1\n"
     ]
    },
    {
     "data": {
      "application/vnd.jupyter.widget-view+json": {
       "model_id": "c27fa39e568e469b96fb4784ee9dd6ca",
       "version_major": 2,
       "version_minor": 0
      },
      "text/plain": [
       "HBox(children=(IntProgress(value=0, max=320), HTML(value='')))"
      ]
     },
     "metadata": {},
     "output_type": "display_data"
    },
    {
     "name": "stdout",
     "output_type": "stream",
     "text": [
      "\n",
      "Computing embeddings module 4, layer 2\n"
     ]
    },
    {
     "data": {
      "application/vnd.jupyter.widget-view+json": {
       "model_id": "f9e2238064f5472ea0c4600be9ac0d3a",
       "version_major": 2,
       "version_minor": 0
      },
      "text/plain": [
       "HBox(children=(IntProgress(value=0, max=320), HTML(value='')))"
      ]
     },
     "metadata": {},
     "output_type": "display_data"
    },
    {
     "name": "stdout",
     "output_type": "stream",
     "text": [
      "\n",
      "Computing embeddings module 5, layer 0\n"
     ]
    },
    {
     "data": {
      "application/vnd.jupyter.widget-view+json": {
       "model_id": "ea45daa4717f447a8d6552075a81fa4f",
       "version_major": 2,
       "version_minor": 0
      },
      "text/plain": [
       "HBox(children=(IntProgress(value=0, max=320), HTML(value='')))"
      ]
     },
     "metadata": {},
     "output_type": "display_data"
    },
    {
     "name": "stdout",
     "output_type": "stream",
     "text": [
      "\n",
      "Computing embeddings module 5, layer 1\n"
     ]
    },
    {
     "data": {
      "application/vnd.jupyter.widget-view+json": {
       "model_id": "4f422191897d49c289bc48e34209370b",
       "version_major": 2,
       "version_minor": 0
      },
      "text/plain": [
       "HBox(children=(IntProgress(value=0, max=320), HTML(value='')))"
      ]
     },
     "metadata": {},
     "output_type": "display_data"
    },
    {
     "name": "stdout",
     "output_type": "stream",
     "text": [
      "\n",
      "Computing embeddings module 5, layer 2\n"
     ]
    },
    {
     "data": {
      "application/vnd.jupyter.widget-view+json": {
       "model_id": "9ac25b95023346709779be9b84b0e9a3",
       "version_major": 2,
       "version_minor": 0
      },
      "text/plain": [
       "HBox(children=(IntProgress(value=0, max=320), HTML(value='')))"
      ]
     },
     "metadata": {},
     "output_type": "display_data"
    },
    {
     "name": "stdout",
     "output_type": "stream",
     "text": [
      "\n",
      "Computing embeddings module 5, layer 3\n"
     ]
    },
    {
     "data": {
      "application/vnd.jupyter.widget-view+json": {
       "model_id": "d06fcb05c04640eabef58b53243d38a1",
       "version_major": 2,
       "version_minor": 0
      },
      "text/plain": [
       "HBox(children=(IntProgress(value=0, max=320), HTML(value='')))"
      ]
     },
     "metadata": {},
     "output_type": "display_data"
    },
    {
     "name": "stdout",
     "output_type": "stream",
     "text": [
      "\n",
      "Computing embeddings module 6, layer 0\n"
     ]
    },
    {
     "data": {
      "application/vnd.jupyter.widget-view+json": {
       "model_id": "4aa6f76b6fe44a70a76231fe78585d44",
       "version_major": 2,
       "version_minor": 0
      },
      "text/plain": [
       "HBox(children=(IntProgress(value=0, max=320), HTML(value='')))"
      ]
     },
     "metadata": {},
     "output_type": "display_data"
    },
    {
     "name": "stdout",
     "output_type": "stream",
     "text": [
      "\n",
      "Computing embeddings module 6, layer 1\n"
     ]
    },
    {
     "data": {
      "application/vnd.jupyter.widget-view+json": {
       "model_id": "320c530bdf294e5486bd87c3115f214f",
       "version_major": 2,
       "version_minor": 0
      },
      "text/plain": [
       "HBox(children=(IntProgress(value=0, max=320), HTML(value='')))"
      ]
     },
     "metadata": {},
     "output_type": "display_data"
    },
    {
     "name": "stdout",
     "output_type": "stream",
     "text": [
      "\n",
      "Computing embeddings module 6, layer 2\n"
     ]
    },
    {
     "data": {
      "application/vnd.jupyter.widget-view+json": {
       "model_id": "c933768562d642e3a70e0d88a6548811",
       "version_major": 2,
       "version_minor": 0
      },
      "text/plain": [
       "HBox(children=(IntProgress(value=0, max=320), HTML(value='')))"
      ]
     },
     "metadata": {},
     "output_type": "display_data"
    },
    {
     "name": "stdout",
     "output_type": "stream",
     "text": [
      "\n",
      "Computing embeddings module 6, layer 3\n"
     ]
    },
    {
     "data": {
      "application/vnd.jupyter.widget-view+json": {
       "model_id": "35d08f7bdeed4f3bbc11e42bcd555632",
       "version_major": 2,
       "version_minor": 0
      },
      "text/plain": [
       "HBox(children=(IntProgress(value=0, max=320), HTML(value='')))"
      ]
     },
     "metadata": {},
     "output_type": "display_data"
    },
    {
     "name": "stdout",
     "output_type": "stream",
     "text": [
      "\n",
      "Computing embeddings module 6, layer 4\n"
     ]
    },
    {
     "data": {
      "application/vnd.jupyter.widget-view+json": {
       "model_id": "c163c3924a014d0e84c82309dd14fd10",
       "version_major": 2,
       "version_minor": 0
      },
      "text/plain": [
       "HBox(children=(IntProgress(value=0, max=320), HTML(value='')))"
      ]
     },
     "metadata": {},
     "output_type": "display_data"
    },
    {
     "name": "stdout",
     "output_type": "stream",
     "text": [
      "\n",
      "Computing embeddings module 6, layer 5\n"
     ]
    },
    {
     "data": {
      "application/vnd.jupyter.widget-view+json": {
       "model_id": "070b6ab869d64f1d8074cc5f73bdb581",
       "version_major": 2,
       "version_minor": 0
      },
      "text/plain": [
       "HBox(children=(IntProgress(value=0, max=320), HTML(value='')))"
      ]
     },
     "metadata": {},
     "output_type": "display_data"
    },
    {
     "name": "stdout",
     "output_type": "stream",
     "text": [
      "\n",
      "Computing embeddings module 7, layer 0\n"
     ]
    },
    {
     "data": {
      "application/vnd.jupyter.widget-view+json": {
       "model_id": "1e88da9c220341beac8e4aab8b3d4afd",
       "version_major": 2,
       "version_minor": 0
      },
      "text/plain": [
       "HBox(children=(IntProgress(value=0, max=320), HTML(value='')))"
      ]
     },
     "metadata": {},
     "output_type": "display_data"
    },
    {
     "name": "stdout",
     "output_type": "stream",
     "text": [
      "\n",
      "Computing embeddings module 7, layer 1\n"
     ]
    },
    {
     "data": {
      "application/vnd.jupyter.widget-view+json": {
       "model_id": "4adb575e9c0142778ed2c8be544eb455",
       "version_major": 2,
       "version_minor": 0
      },
      "text/plain": [
       "HBox(children=(IntProgress(value=0, max=320), HTML(value='')))"
      ]
     },
     "metadata": {},
     "output_type": "display_data"
    },
    {
     "name": "stdout",
     "output_type": "stream",
     "text": [
      "\n",
      "Computing embeddings module 7, layer 2\n"
     ]
    },
    {
     "data": {
      "application/vnd.jupyter.widget-view+json": {
       "model_id": "8f9ff4e6b90346ee81c57c0ddd9d4c6a",
       "version_major": 2,
       "version_minor": 0
      },
      "text/plain": [
       "HBox(children=(IntProgress(value=0, max=320), HTML(value='')))"
      ]
     },
     "metadata": {},
     "output_type": "display_data"
    },
    {
     "name": "stdout",
     "output_type": "stream",
     "text": [
      "\n",
      "Computing embeddings module 8, layer 0\n"
     ]
    },
    {
     "data": {
      "application/vnd.jupyter.widget-view+json": {
       "model_id": "ce8513b377454486a425432ab871bfb5",
       "version_major": 2,
       "version_minor": 0
      },
      "text/plain": [
       "HBox(children=(IntProgress(value=0, max=320), HTML(value='')))"
      ]
     },
     "metadata": {},
     "output_type": "display_data"
    },
    {
     "name": "stdout",
     "output_type": "stream",
     "text": [
      "\n",
      "Computing embeddings module 9, layer 0\n"
     ]
    },
    {
     "data": {
      "application/vnd.jupyter.widget-view+json": {
       "model_id": "b58f9f8ced634deaa2e890d95ce8a2a0",
       "version_major": 2,
       "version_minor": 0
      },
      "text/plain": [
       "HBox(children=(IntProgress(value=0, max=320), HTML(value='')))"
      ]
     },
     "metadata": {},
     "output_type": "display_data"
    },
    {
     "name": "stdout",
     "output_type": "stream",
     "text": [
      "\n",
      "\n"
     ]
    }
   ],
   "source": [
    "N = 2048\n",
    "N_all = 169000\n",
    "idxs = np.random.randint(0,N_all,N)\n",
    "batch_size = 64\n",
    "i=0\n",
    "\n",
    "batch_size = 10\n",
    "K = 64\n",
    "P = 50\n",
    "\n",
    "manifolds_all = []\n",
    "for module_idx in tqdm(range(len(list(model.children())))):\n",
    "    try:\n",
    "        len_module = len(list(model.children())[module_idx])\n",
    "        for layer_idx in range(len_module):\n",
    "            print('Computing embeddings module '+str(module_idx)+', layer '+str(layer_idx) )\n",
    "            \n",
    "            backbone = WideResNetBackbone(model, module_idx, layer_idx)\n",
    "            backbone.to('cuda').eval()\n",
    "\n",
    "            # Get test batch\n",
    "            input_tensor = get_batch(0,batch_size)\n",
    "            with torch.no_grad():\n",
    "                output = backbone(input_tensor.cuda())\n",
    "            N_all = output.shape[-1]\n",
    "            idxs = np.random.randint(0,N_all,N)\n",
    "            \n",
    "            manifolds = []\n",
    "            for i in tqdm(range(K*P//batch_size)):\n",
    "                input_tensor = get_batch(i,batch_size)\n",
    "                with torch.no_grad():\n",
    "                    output = backbone(input_tensor.cuda())\n",
    "                manifolds.append(output[:,idxs].cpu().numpy())\n",
    "            manifolds = np.stack(manifolds).reshape(K,P,N)\n",
    "            manifolds_all.append(manifolds)\n",
    "\n",
    "    except:\n",
    "        layer_idx = 0\n",
    "        print('Computing embeddings module '+str(module_idx)+', layer '+str(layer_idx) )\n",
    "        layer = 'layer_' + str(module_idx) + '_' + str(layer_idx)\n",
    "        \n",
    "        backbone = WideResNetBackbone(model, module_idx)\n",
    "        backbone.to('cuda').eval()\n",
    "\n",
    "        # Get test batch\n",
    "        input_tensor = get_batch(0,batch_size)\n",
    "        with torch.no_grad():\n",
    "            output = backbone(input_tensor.cuda())\n",
    "        N_all = output.shape[-1]\n",
    "        idxs = np.random.randint(0,N_all,N)        \n",
    "\n",
    "        manifolds = []\n",
    "        for i in tqdm(range(K*P//batch_size)):\n",
    "            input_tensor = get_batch(i,batch_size)\n",
    "            with torch.no_grad():\n",
    "                output = backbone(input_tensor.cuda())\n",
    "            manifolds.append(output[:,idxs].cpu().numpy())\n",
    "        manifolds = np.stack(manifolds).reshape(K,P,N)\n",
    "        manifolds_all.append(manifolds)"
   ]
  },
  {
   "cell_type": "code",
   "execution_count": 33,
   "metadata": {},
   "outputs": [],
   "source": [
    "from jax import numpy as np\n",
    "from jax import jit\n",
    "from numpy import random"
   ]
  },
  {
   "cell_type": "code",
   "execution_count": 35,
   "metadata": {},
   "outputs": [],
   "source": [
    "import numpy as np"
   ]
  },
  {
   "cell_type": "code",
   "execution_count": null,
   "metadata": {},
   "outputs": [],
   "source": [
    "m = 5\n",
    "n_test = 10000\n",
    "\n",
    "err_means_all = []\n",
    "err_stds_all = []\n",
    "for manifolds in tqdm(manifolds_all):\n",
    "    manifolds = np.stack(manifolds)\n",
    "    # re-define\n",
    "#     @jit\n",
    "    def compute_2way_err():\n",
    "        err_means = []\n",
    "        err_stds = []\n",
    "        for i in tqdm(range(K), leave=False):\n",
    "            err_mean = []\n",
    "            err_std = []\n",
    "            for j in tqdm(range(K), leave=False):\n",
    "                if i != j:\n",
    "                    X1 = manifolds[i]\n",
    "                    X2 = manifolds[j]\n",
    "\n",
    "                    idxs1 = random.randint(0, len(X1), [m, n_test])\n",
    "                    idxs2 = random.randint(0, len(X2), [m, n_test])\n",
    "                    mu1 = X1[idxs1].mean(0)\n",
    "                    mu2 = X2[idxs2].mean(0)\n",
    "                    w = mu1 - mu2\n",
    "                    mu = 0.5*(mu1 + mu2)\n",
    "                    pred = w.dot(X1.T) - (w*mu).sum(-1, keepdims=True)\n",
    "\n",
    "                    err = (pred < 0).mean(-1)\n",
    "                    err_mean.append(err.mean())\n",
    "                    err_std.append(err.std())\n",
    "            err_mean = np.stack(err_mean)\n",
    "            err_std = np.stack(err_std)\n",
    "            err_means.append(err_mean)\n",
    "            err_stds.append(err_std)\n",
    "\n",
    "        err_means = np.stack(err_means)\n",
    "        err_stds = np.stack(err_stds)\n",
    "        return err_means, err_stds\n",
    "\n",
    "    err_mean, err_std = compute_2way_err()\n",
    "    err_means_all.append(err_mean)\n",
    "    err_stds_all.append(err_std)\n",
    "err_means_all = np.stack(err_means_all)\n",
    "err_stds_all = np.stack(err_stds_all)"
   ]
  },
  {
   "cell_type": "code",
   "execution_count": 36,
   "metadata": {},
   "outputs": [
    {
     "data": {
      "text/plain": [
       "[<matplotlib.lines.Line2D at 0x7fe1c0700f28>]"
      ]
     },
     "execution_count": 36,
     "metadata": {},
     "output_type": "execute_result"
    },
    {
     "data": {
      "image/png": "[encoded data removed]",
      "text/plain": [
       "<Figure size 432x288 with 1 Axes>"
      ]
     },
     "metadata": {
      "needs_background": "light"
     },
     "output_type": "display_data"
    }
   ],
   "source": [
    "plt.plot(err_means_all.mean((1,2)), 'o-')"
   ]
  },
  {
   "cell_type": "code",
   "execution_count": 27,
   "metadata": {},
   "outputs": [],
   "source": [
    "import numpy as np"
   ]
  },
  {
   "cell_type": "code",
   "execution_count": 28,
   "metadata": {},
   "outputs": [],
   "source": [
    "def geometry(centers,Rs,Us,m):\n",
    "    K = len(centers)\n",
    "    P = Rs.shape[1]\n",
    "    dists = np.sqrt(((centers[:,None] - centers[None])**2).sum(-1))\n",
    "    dist_norm = dists / np.sqrt((Rs**2).sum(-1)[:,None] / P)\n",
    "\n",
    "    Ds = np.sum(Rs**2,axis=-1)**2 / np.sum(Rs**4, axis=-1)\n",
    "\n",
    "    # Center-subspace\n",
    "    csa = []\n",
    "    csb = []\n",
    "    for a in range(K):\n",
    "        for b in range(K):\n",
    "            if a!=b:\n",
    "                dx0 = centers[a] - centers[b]\n",
    "                dx0hat = dx0 / np.linalg.norm(dx0)\n",
    "                costheta_a = Us[a]@dx0hat\n",
    "                csa.append((costheta_a**2 * Rs[a]**2).sum() / (Rs[a]**2).sum())\n",
    "                costheta_b = Us[b]@dx0hat\n",
    "                csb.append((costheta_b**2 * Rs[b]**2).sum() / (Rs[a]**2).sum())\n",
    "            else:\n",
    "                csa.append(np.nan)\n",
    "                csb.append(np.nan)\n",
    "    csa = np.stack(csa).reshape(K,K)\n",
    "    csb = np.stack(csb).reshape(K,K)\n",
    "\n",
    "    # Subspace-subspace\n",
    "    ss = []\n",
    "    for a in range(K):\n",
    "        for b in range(K):\n",
    "            if a!=b:\n",
    "                cosphi = Us[a]@Us[b].T\n",
    "                ss_overlap = (cosphi**2*Rs[a][:,None]**2*Rs[b]**2).sum() / (Rs[a]**2).sum()**2\n",
    "                ss.append(ss_overlap)\n",
    "            else:\n",
    "                ss.append(np.nan)\n",
    "    ss = np.stack(ss).reshape(K,K)\n",
    "\n",
    "    css = (csa + csb/m) * dist_norm**2\n",
    "\n",
    "    bias = (Rs**2).sum(-1) / (Rs**2).sum(-1)[:,None] - 1\n",
    "    SNR = 1/2*(dist_norm**2 + bias/m)/ np.sqrt(1/Ds[:,None]/m + css + ss/m)\n",
    "    \n",
    "    return dist_norm, Ds, csa, ss, SNR"
   ]
  },
  {
   "cell_type": "code",
   "execution_count": 30,
   "metadata": {},
   "outputs": [
    {
     "data": {
      "application/vnd.jupyter.widget-view+json": {
       "model_id": "ee854263a5984570b74818a11f31b547",
       "version_major": 2,
       "version_minor": 0
      },
      "text/plain": [
       "HBox(children=(IntProgress(value=0, max=28), HTML(value='')))"
      ]
     },
     "metadata": {},
     "output_type": "display_data"
    },
    {
     "name": "stdout",
     "output_type": "stream",
     "text": [
      "\n"
     ]
    }
   ],
   "source": [
    "from scipy.spatial.distance import pdist, squareform\n",
    "m = 5\n",
    "\n",
    "K = len(manifolds)\n",
    "PRs_all = []\n",
    "dists_all = []\n",
    "css_all = []\n",
    "SNRs_all = []\n",
    "for manifolds in tqdm(manifolds_all):\n",
    "    manifolds = np.stack(manifolds)\n",
    "    \n",
    "    Rs = []\n",
    "    centers = []\n",
    "    Us = []\n",
    "    for manifold in manifolds:\n",
    "        centers.append(manifold.mean(0))\n",
    "        U,R,V = np.linalg.svd(manifold - manifold.mean(0),full_matrices=False)\n",
    "        Rs.append(R)\n",
    "        Us.append(V)\n",
    "    Rs = np.stack(Rs)\n",
    "    centers = np.stack(centers)\n",
    "    Us = np.stack(Us)\n",
    "    \n",
    "    dist_norm, Ds, csa, ss, SNR = geometry(centers,Rs,Us,m)\n",
    "    dists_all.append(dist_norm)\n",
    "    PRs_all.append(Ds)\n",
    "    css_all.append(csa)\n",
    "    SNRs_all.append(SNR)\n",
    "    \n",
    "dists_all = np.stack(dists_all)\n",
    "PRs_all = np.stack(PRs_all)\n",
    "css_all = np.stack(css_all)\n",
    "SNRs_all = np.stack(SNRs_all)"
   ]
  },
  {
   "cell_type": "code",
   "execution_count": 37,
   "metadata": {},
   "outputs": [
    {
     "data": {
      "text/plain": [
       "1.114229123546007"
      ]
     },
     "execution_count": 37,
     "metadata": {},
     "output_type": "execute_result"
    }
   ],
   "source": [
    "mask = np.eye(K,dtype='bool')\n",
    "np.mean(SNRs_all[-5][~mask])"
   ]
  },
  {
   "cell_type": "code",
   "execution_count": 29,
   "metadata": {},
   "outputs": [],
   "source": [
    "import numpy as onp"
   ]
  },
  {
   "cell_type": "code",
   "execution_count": 30,
   "metadata": {},
   "outputs": [
    {
     "data": {
      "text/plain": [
       "(28, 64)"
      ]
     },
     "execution_count": 30,
     "metadata": {},
     "output_type": "execute_result"
    }
   ],
   "source": [
    "PRs_all.shape"
   ]
  },
  {
   "cell_type": "code",
   "execution_count": 31,
   "metadata": {},
   "outputs": [],
   "source": [
    "err_v1 = 0.475\n",
    "err_v4 = 0.353\n",
    "err_IT = 0.192\n",
    "\n",
    "SNR_v1 = 0.096\n",
    "SNR_v4 = 0.342\n",
    "SNR_IT = 0.89\n",
    "\n",
    "dist_v1 = 0.11\n",
    "dist_v4 = 0.44\n",
    "dist_IT = 0.65\n",
    "\n",
    "D_v1 = 76.9\n",
    "D_v4 = 6.25\n",
    "D_IT = 15.4\n",
    "\n",
    "css_v1 = 0.011\n",
    "css_v4 = 0.123\n",
    "css_IT = 0.062"
   ]
  },
  {
   "cell_type": "code",
   "execution_count": 41,
   "metadata": {},
   "outputs": [
    {
     "data": {
      "text/plain": [
       "(array([ 140.,  194.,  428.,  966., 1194.,  808.,  203.,   69.,   26.,\n",
       "           4.]),\n",
       " array([0.07669876, 0.64608079, 1.21546283, 1.78484486, 2.35422689,\n",
       "        2.92360893, 3.49299096, 4.06237299, 4.63175503, 5.20113706,\n",
       "        5.77051909]),\n",
       " <a list of 10 Patch objects>)"
      ]
     },
     "execution_count": 41,
     "metadata": {},
     "output_type": "execute_result"
    },
    {
     "data": {
      "image/png": "[encoded data removed]",
      "text/plain": [
       "<Figure size 432x288 with 1 Axes>"
      ]
     },
     "metadata": {},
     "output_type": "display_data"
    }
   ],
   "source": [
    "mask = np.eye(K,dtype='bool')\n",
    "plt.hist(SNRs_all[-1][~mask])"
   ]
  },
  {
   "cell_type": "code",
   "execution_count": 48,
   "metadata": {},
   "outputs": [],
   "source": [
    "np.save('data/SNRs_layerwise.npy',SNRs_all)\n",
    "np.save('data/Ds_layerwise.npy',PRs_all)\n",
    "np.save('data/dist_norm_layerwise.npy',dists_all)\n",
    "np.save('data/css_layerwise.npy',css_all)"
   ]
  },
  {
   "cell_type": "code",
   "execution_count": 37,
   "metadata": {},
   "outputs": [
    {
     "name": "stderr",
     "output_type": "stream",
     "text": [
      "No handles with labels found to put in legend.\n"
     ]
    },
    {
     "data": {
      "image/png": "[encoded data removed]",
      "text/plain": [
       "<Figure size 576x1440 with 5 Axes>"
      ]
     },
     "metadata": {},
     "output_type": "display_data"
    }
   ],
   "source": [
    "m = 5\n",
    "cm = plt.cm.get_cmap('tab20c').colors\n",
    "sns.set_style('whitegrid')\n",
    "fig = plt.figure(figsize=(8,20))\n",
    "fmt = 'o-'\n",
    "\n",
    "v1_idx = 1\n",
    "v4_idx = 14\n",
    "IT_idx = 21\n",
    "\n",
    "# Error\n",
    "ax = plt.subplot(611)\n",
    "# ResNet50\n",
    "# plt.plot(err_means_all.mean((1,2)), fmt, c='C0', label='ResNet50')\n",
    "plt.ylabel('Generalization\\n error')\n",
    "ax.xaxis.set_ticklabels([])\n",
    "plt.scatter(v1_idx,err_v1,marker='x',s=80, color='C1')\n",
    "ax.annotate('V1',(v1_idx+0.2,err_v1-0.05), color='C1',fontsize=16)\n",
    "plt.scatter(v4_idx,err_v4,marker='x',s=80, color='C2')\n",
    "ax.annotate('V4',(v4_idx+0.3,err_v4-0.05), color='C2',fontsize=16)\n",
    "plt.scatter(IT_idx,err_IT,marker='x',s=80, color='C3')\n",
    "ax.annotate('IT',(IT_idx+0.2,err_IT), color='C3',fontsize=16)\n",
    "plt.legend(loc=1)\n",
    "\n",
    "# SNR\n",
    "ax5 = plt.subplot(612)\n",
    "plt.plot(onp.nanmean(SNRs_all,(1,2)), 'o-', c='C0', label='ResNet50')\n",
    "plt.ylabel('SNR')\n",
    "ax5.xaxis.set_ticklabels([])\n",
    "plt.scatter(v1_idx,SNR_v1,marker='x',s=80, color='C1')\n",
    "ax5.annotate('V1',(v1_idx+0.2,SNR_v1+0.05), color='C1',fontsize=16)\n",
    "plt.scatter(v4_idx,SNR_v4,marker='x',s=80, color='C2')\n",
    "ax5.annotate('V4',(v4_idx+0.3,SNR_v4-0.2), color='C2',fontsize=16)\n",
    "plt.scatter(IT_idx,SNR_IT,marker='x',s=80, color='C3')\n",
    "ax5.annotate('IT',(IT_idx+0.2,SNR_IT+0.05), color='C3',fontsize=16)\n",
    "# plt.legend()\n",
    "\n",
    "# Dimension\n",
    "ax2 = plt.subplot(614)\n",
    "plt.plot(1/PRs_all.mean(-1), 'o-', c='C0', label='')\n",
    "plt.ylabel(r'$1/D_{SVD}$')\n",
    "plt.yscale('log')\n",
    "ax2.xaxis.set_ticklabels([])\n",
    "plt.scatter(v1_idx,1/D_v1,marker='x',s=80, color='C1')\n",
    "ax2.annotate('V1',(v1_idx+0.2,1/D_v1), color='C1',fontsize=16)\n",
    "plt.scatter(v4_idx,1/D_v4,marker='x',s=80, color='C2')\n",
    "ax2.annotate('V4',(v4_idx+0.3,1/D_v4), color='C2',fontsize=16)\n",
    "plt.scatter(IT_idx,1/D_IT,marker='x',s=80, color='C3')\n",
    "ax2.annotate('IT',(IT_idx+0.2,1/D_IT+0.005), color='C3',fontsize=16)\n",
    "# plt.legend()\n",
    "\n",
    "# Dists\n",
    "ax3 = plt.subplot(613)\n",
    "# ResNet50\n",
    "plt.plot(dists_all.mean((1,2))**2, 'o-', c='C0', label='ResNet50')\n",
    "plt.ylabel(r'$||\\Delta x_0||^2$')\n",
    "plt.yscale('log')\n",
    "ax3.xaxis.set_ticklabels([])\n",
    "plt.scatter(v1_idx,dist_v1**2,marker='x',s=80, color='C1')\n",
    "ax3.annotate('V1',(v1_idx+0.2,dist_v1**2), color='C1',fontsize=16)\n",
    "plt.scatter(v4_idx,dist_v4**2,marker='x',s=80, color='C2')\n",
    "ax3.annotate('V4',(v4_idx+0.3,dist_v4**2), color='C2',fontsize=16)\n",
    "plt.scatter(IT_idx,dist_IT**2,marker='x',s=80, color='C3')\n",
    "ax3.annotate('IT',(IT_idx+0.2,dist_IT**2+0.005), color='C3',fontsize=16)\n",
    "# plt.legend()\n",
    "\n",
    "# noise\n",
    "ax4 = plt.subplot(615)\n",
    "plt.plot((m+1)*onp.nanmean(css_all,(1,2)) , fmt, c='C0', label=r'$\\langle \\cos\\theta_i\\rangle_i$')\n",
    "plt.ylabel(r'$\\langle \\cos\\theta_i\\rangle_i$')\n",
    "# plt.legend()\n",
    "plt.yscale('log')\n",
    "plt.xlabel('Depth');\n",
    "plt.scatter(v1_idx,css_v1,marker='x',s=80, color='C1')\n",
    "ax4.annotate('V1',(v1_idx+0.2,css_v1), color='C1',fontsize=16)\n",
    "plt.scatter(v4_idx,css_v4,marker='x',s=80, color='C2')\n",
    "ax4.annotate('V4',(v4_idx+0.3,css_v4), color='C2',fontsize=16)\n",
    "plt.scatter(IT_idx,css_IT,marker='x',s=80, color='C3')\n",
    "ax4.annotate('IT',(IT_idx+0.2,css_IT+0.005), color='C3',fontsize=16)\n",
    "\n",
    "\n",
    "# Major ticks every 20, minor ticks every 5\n",
    "major_ticks = np.arange(0, len(err_means_all), 5)\n",
    "minor_ticks = np.arange(0, len(err_means_all))\n",
    "\n",
    "# And a corresponding grid\n",
    "ax.grid(which='minor')\n",
    "ax2.grid(which='minor', linestyle=':', alpha=0.5)\n",
    "ax3.grid(which='minor', linestyle=':', alpha=0.5)\n",
    "ax4.grid(which='minor', linestyle=':', alpha=0.5)\n",
    "\n",
    "plt.subplots_adjust(wspace=0, hspace=0.1)\n",
    "\n",
    "# plt.savefig('images/macaque_layerwise.pdf')"
   ]
  },
  {
   "cell_type": "markdown",
   "metadata": {},
   "source": [
    "## brain score"
   ]
  },
  {
   "cell_type": "code",
   "execution_count": 43,
   "metadata": {},
   "outputs": [],
   "source": [
    "macaque_dir = '/mnt/fs2/bsorsch/manifold/embeddings_new/macaque'\n",
    "manifolds_IT = np.load(os.path.join(macaque_dir,'manifolds_IT.npy'))\n",
    "manifolds_v4 = np.load(os.path.join(macaque_dir,'manifolds_v4.npy'))"
   ]
  },
  {
   "cell_type": "code",
   "execution_count": 201,
   "metadata": {},
   "outputs": [],
   "source": [
    "np.save(os.path.join(macaque_dir, 'manifolds_resnet_layerwise.npy'), manifolds_all)"
   ]
  },
  {
   "cell_type": "code",
   "execution_count": 202,
   "metadata": {},
   "outputs": [],
   "source": [
    "from sklearn.linear_model import LinearRegression"
   ]
  },
  {
   "cell_type": "code",
   "execution_count": 128,
   "metadata": {},
   "outputs": [],
   "source": [
    "perm = np.random.permutation(3200)\n",
    "A = np.random.randn(2048,88) / np.sqrt(88)\n",
    "Xtrain,Xtest = np.split(np.vstack(manifolds_v4)[perm],2)\n",
    "Ytrain,Ytest = np.split(np.vstack(manifolds_all[-6]@A)[perm],2)"
   ]
  },
  {
   "cell_type": "code",
   "execution_count": 205,
   "metadata": {},
   "outputs": [],
   "source": [
    "from sklearn.cross_decomposition import PLSRegression"
   ]
  },
  {
   "cell_type": "code",
   "execution_count": 206,
   "metadata": {},
   "outputs": [],
   "source": [
    "pls = PLSRegression(n_components=25)"
   ]
  },
  {
   "cell_type": "code",
   "execution_count": 208,
   "metadata": {},
   "outputs": [
    {
     "name": "stdout",
     "output_type": "stream",
     "text": [
      "0.862876414119416\n"
     ]
    }
   ],
   "source": [
    "pls.fit(Xtrain,Ytrain)\n",
    "Yhat = pls.predict(Xtest)\n",
    "r = np.corrcoef(Ytest.ravel(), Yhat.ravel())[0,1]\n",
    "print(r)"
   ]
  },
  {
   "cell_type": "code",
   "execution_count": 209,
   "metadata": {
    "scrolled": true
   },
   "outputs": [
    {
     "data": {
      "application/vnd.jupyter.widget-view+json": {
       "model_id": "bc62720030874238b80320ca0219ff41",
       "version_major": 2,
       "version_minor": 0
      },
      "text/plain": [
       "HBox(children=(IntProgress(value=0, max=22), HTML(value='')))"
      ]
     },
     "metadata": {},
     "output_type": "display_data"
    },
    {
     "name": "stdout",
     "output_type": "stream",
     "text": [
      "\n"
     ]
    }
   ],
   "source": [
    "A = np.random.randn(2048,168) / np.sqrt(168)\n",
    "rs = []\n",
    "for manifolds in tqdm(manifolds_all):\n",
    "    perm = np.random.permutation(3200)\n",
    "    Xtrain,Xtest = np.split(np.vstack(manifolds_IT)[perm],2)\n",
    "    Ytrain,Ytest = np.split(np.vstack(manifolds@A)[perm],2)\n",
    "    pls.fit(Xtrain,Ytrain)\n",
    "    Yhat = pls.predict(Xtest)\n",
    "    r = np.corrcoef(Ytest.ravel(), Yhat.ravel())[0,1]\n",
    "    rs.append(r)"
   ]
  },
  {
   "cell_type": "code",
   "execution_count": 210,
   "metadata": {},
   "outputs": [
    {
     "data": {
      "text/plain": [
       "[<matplotlib.lines.Line2D at 0x7fd4aa72bbe0>]"
      ]
     },
     "execution_count": 210,
     "metadata": {},
     "output_type": "execute_result"
    },
    {
     "data": {
      "image/png": "[encoded data removed]",
      "text/plain": [
       "<Figure size 432x288 with 1 Axes>"
      ]
     },
     "metadata": {
      "needs_background": "light"
     },
     "output_type": "display_data"
    }
   ],
   "source": [
    "plt.plot(rs)"
   ]
  },
  {
   "cell_type": "code",
   "execution_count": 136,
   "metadata": {},
   "outputs": [
    {
     "data": {
      "text/plain": [
       "28"
      ]
     },
     "execution_count": 136,
     "metadata": {},
     "output_type": "execute_result"
    }
   ],
   "source": [
    "len(manifolds_all)"
   ]
  },
  {
   "cell_type": "code",
   "execution_count": 100,
   "metadata": {},
   "outputs": [],
   "source": [
    "O = linreg.coef_"
   ]
  },
  {
   "cell_type": "code",
   "execution_count": 101,
   "metadata": {},
   "outputs": [],
   "source": [
    "eigs, eigvs = np.linalg.eig(O)"
   ]
  },
  {
   "cell_type": "code",
   "execution_count": 103,
   "metadata": {},
   "outputs": [
    {
     "data": {
      "text/plain": [
       "(-2.8317643776162122,\n",
       " 2.7688297405465105,\n",
       " -2.6051111879201385,\n",
       " 2.605111187920138)"
      ]
     },
     "execution_count": 103,
     "metadata": {},
     "output_type": "execute_result"
    },
    {
     "data": {
      "image/png": "[encoded data removed]",
      "text/plain": [
       "<Figure size 432x288 with 1 Axes>"
      ]
     },
     "metadata": {
      "needs_background": "light"
     },
     "output_type": "display_data"
    }
   ],
   "source": [
    "plt.scatter(np.real(eigs), np.imag(eigs))\n",
    "plt.axis('equal')"
   ]
  },
  {
   "cell_type": "code",
   "execution_count": 113,
   "metadata": {},
   "outputs": [],
   "source": [
    "# procrustes\n",
    "from scipy.linalg import orthogonal_procrustes\n",
    "\n",
    "R,_ = orthogonal_procrustes(Xtrain - Xtrain.mean(0), Ytrain - Ytrain.mean(0))"
   ]
  },
  {
   "cell_type": "code",
   "execution_count": 115,
   "metadata": {},
   "outputs": [],
   "source": [
    "Yhat = (Xtest - Xtrain.mean(0))@R + Ytrain.mean(0)"
   ]
  },
  {
   "cell_type": "code",
   "execution_count": 116,
   "metadata": {},
   "outputs": [
    {
     "data": {
      "text/plain": [
       "array([[1.        , 0.85769508],\n",
       "       [0.85769508, 1.        ]])"
      ]
     },
     "execution_count": 116,
     "metadata": {},
     "output_type": "execute_result"
    }
   ],
   "source": [
    "np.corrcoef(Ytest.ravel(),Yhat.ravel())"
   ]
  },
  {
   "cell_type": "code",
   "execution_count": 117,
   "metadata": {},
   "outputs": [],
   "source": [
    "eigs, eigvs = np.linalg.eig(R)"
   ]
  },
  {
   "cell_type": "code",
   "execution_count": 118,
   "metadata": {},
   "outputs": [
    {
     "data": {
      "text/plain": [
       "(-1.1096735730489737,\n",
       " 1.1098172438179923,\n",
       " -1.1151214846873914,\n",
       " 1.1151214846873916)"
      ]
     },
     "execution_count": 118,
     "metadata": {},
     "output_type": "execute_result"
    },
    {
     "data": {
      "image/png": "[encoded data removed]",
      "text/plain": [
       "<Figure size 432x288 with 1 Axes>"
      ]
     },
     "metadata": {
      "needs_background": "light"
     },
     "output_type": "display_data"
    }
   ],
   "source": [
    "plt.scatter(np.real(eigs), np.imag(eigs))\n",
    "plt.axis('equal')"
   ]
  },
  {
   "cell_type": "markdown",
   "metadata": {},
   "source": [
    "# Compressed sensing"
   ]
  },
  {
   "cell_type": "code",
   "execution_count": 176,
   "metadata": {},
   "outputs": [
    {
     "data": {
      "text/plain": [
       "(8, 400, 2048)"
      ]
     },
     "execution_count": 176,
     "metadata": {},
     "output_type": "execute_result"
    }
   ],
   "source": [
    "manifolds.shape"
   ]
  },
  {
   "cell_type": "code",
   "execution_count": 192,
   "metadata": {},
   "outputs": [
    {
     "data": {
      "text/plain": [
       "(8, 400, 2048)"
      ]
     },
     "execution_count": 192,
     "metadata": {},
     "output_type": "execute_result"
    }
   ],
   "source": [
    "manifolds.shape"
   ]
  },
  {
   "cell_type": "code",
   "execution_count": 212,
   "metadata": {},
   "outputs": [],
   "source": [
    "Ms = np.logspace(5,11,10,base=2)"
   ]
  },
  {
   "cell_type": "code",
   "execution_count": 214,
   "metadata": {},
   "outputs": [
    {
     "data": {
      "application/vnd.jupyter.widget-view+json": {
       "model_id": "d31bcaed19e54d61a3fcce1ecbc565a7",
       "version_major": 2,
       "version_minor": 0
      },
      "text/plain": [
       "HBox(children=(IntProgress(value=0, max=10), HTML(value='')))"
      ]
     },
     "metadata": {},
     "output_type": "display_data"
    },
    {
     "name": "stdout",
     "output_type": "stream",
     "text": [
      "\n"
     ]
    }
   ],
   "source": [
    "M = 10\n",
    "Ms = np.logspace(5,11,10,base=2)\n",
    "err_means_all = []\n",
    "err_stds_all = []\n",
    "n_avg = 2\n",
    "for M in tqdm(Ms):\n",
    "    for _ in range(n_avg):\n",
    "        idxs = random.choice(N,int(M),replace=False)\n",
    "        msmall = manifolds[:,:,idxs] + random.randn(8,400,int(M)) / 1.6\n",
    "\n",
    "        # re-define\n",
    "        @jit\n",
    "        def compute_2way_err():\n",
    "            err_means = []\n",
    "            err_stds = []\n",
    "            for i in range(n_classes):\n",
    "                err_mean = []\n",
    "                err_std = []\n",
    "                for j in range(n_classes):\n",
    "                    if i != j:\n",
    "                        X1 = msmall[i]\n",
    "                        X2 = msmall[j]\n",
    "\n",
    "                        idxs1 = random.randint(0, len(X1), [m, n_test])\n",
    "                        idxs2 = random.randint(0, len(X2), [m, n_test])\n",
    "                        mu1 = X1[idxs1].mean(0)\n",
    "                        mu2 = X2[idxs2].mean(0)\n",
    "                        w = mu1 - mu2\n",
    "                        mu = 0.5*(mu1 + mu2)\n",
    "                        pred = w.dot(X1.T) - (w*mu).sum(-1, keepdims=True)\n",
    "\n",
    "                        err = (pred < 0).mean(-1)\n",
    "                        err_mean.append(err.mean())\n",
    "                        err_std.append(err.std())\n",
    "                err_mean = np.stack(err_mean)\n",
    "                err_std = np.stack(err_std)\n",
    "                err_means.append(err_mean)\n",
    "                err_stds.append(err_std)\n",
    "\n",
    "            err_means = np.stack(err_means)\n",
    "            err_stds = np.stack(err_stds)\n",
    "            return err_means, err_stds\n",
    "\n",
    "        err_mean, err_std = compute_2way_err()\n",
    "        err_means_all.append(err_mean)\n",
    "        err_stds_all.append(err_std)\n",
    "err_means_all = np.stack(err_means_all)\n",
    "err_stds_all = np.stack(err_stds_all)"
   ]
  },
  {
   "cell_type": "code",
   "execution_count": 215,
   "metadata": {},
   "outputs": [],
   "source": [
    "err_means_all = np.stack(err_means_all).reshape(len(Ms),-1)"
   ]
  },
  {
   "cell_type": "code",
   "execution_count": 216,
   "metadata": {},
   "outputs": [
    {
     "data": {
      "text/plain": [
       "<matplotlib.lines.Line2D at 0x7fe194c3dd68>"
      ]
     },
     "execution_count": 216,
     "metadata": {},
     "output_type": "execute_result"
    },
    {
     "data": {
      "image/png": "[encoded data removed]",
      "text/plain": [
       "<Figure size 432x288 with 1 Axes>"
      ]
     },
     "metadata": {},
     "output_type": "display_data"
    }
   ],
   "source": [
    "plt.plot(Ms,err_means_all.mean(1), 'o-')\n",
    "plt.axvline(88)\n",
    "plt.axvline(168)"
   ]
  },
  {
   "cell_type": "code",
   "execution_count": 235,
   "metadata": {},
   "outputs": [],
   "source": [
    "from scipy.special import erfc\n",
    "\n",
    "def H(x):\n",
    "    return 1/2*erfc(x/np.sqrt(2))"
   ]
  },
  {
   "cell_type": "code",
   "execution_count": 227,
   "metadata": {},
   "outputs": [
    {
     "data": {
      "application/vnd.jupyter.widget-view+json": {
       "model_id": "887b8c3f31514a1a95b8b19be3f8fcba",
       "version_major": 2,
       "version_minor": 0
      },
      "text/plain": [
       "HBox(children=(IntProgress(value=0, max=10), HTML(value='')))"
      ]
     },
     "metadata": {},
     "output_type": "display_data"
    },
    {
     "name": "stdout",
     "output_type": "stream",
     "text": [
      "\n"
     ]
    }
   ],
   "source": [
    "sigmas = np.logspace(-3,1,10)\n",
    "Dsvds = []\n",
    "for sigma in tqdm(sigmas):\n",
    "    msmall = manifolds + random.randn(8,400,int(M)) * sigma \n",
    "    for manifold in msmall:\n",
    "        center = manifold.mean(0)\n",
    "        _,R,_ = np.linalg.svd(manifold - center)\n",
    "        Dsvd = np.sum(R**2)**2 / np.sum(R**4)\n",
    "        Dsvds.append(Dsvd)"
   ]
  },
  {
   "cell_type": "code",
   "execution_count": 228,
   "metadata": {},
   "outputs": [],
   "source": [
    "Dsvds = np.stack(Dsvds).reshape(len(sigmas), len(manifolds))"
   ]
  },
  {
   "cell_type": "code",
   "execution_count": 229,
   "metadata": {},
   "outputs": [
    {
     "data": {
      "text/plain": [
       "[<matplotlib.lines.Line2D at 0x7fe1a495fac8>]"
      ]
     },
     "execution_count": 229,
     "metadata": {},
     "output_type": "execute_result"
    },
    {
     "data": {
      "image/png": "[encoded data removed]",
      "text/plain": [
       "<Figure size 432x288 with 1 Axes>"
      ]
     },
     "metadata": {},
     "output_type": "display_data"
    }
   ],
   "source": [
    "plt.plot(np.mean(Dsvds,axis=-1))"
   ]
  },
  {
   "cell_type": "code",
   "execution_count": 19,
   "metadata": {},
   "outputs": [
    {
     "data": {
      "application/vnd.jupyter.widget-view+json": {
       "model_id": "245316dde82c43c38c78674605935e19",
       "version_major": 2,
       "version_minor": 0
      },
      "text/plain": [
       "HBox(children=(IntProgress(value=0, max=10), HTML(value='')))"
      ]
     },
     "metadata": {},
     "output_type": "display_data"
    },
    {
     "name": "stdout",
     "output_type": "stream",
     "text": [
      "\n"
     ]
    }
   ],
   "source": [
    "sigmas = np.logspace(-3,1,10)\n",
    "Dsvds = []\n",
    "N = 2048\n",
    "Ms = np.logspace(5,11,10,base=2)\n",
    "n_avg = 1\n",
    "for M in tqdm(Ms):\n",
    "    for _ in range(n_avg):\n",
    "        idxs = np.random.choice(N,int(M),replace=False)\n",
    "        msmall = manifolds[:,:,idxs]\n",
    "        for manifold in msmall:\n",
    "            center = manifold.mean(0)\n",
    "            _,R,_ = np.linalg.svd(manifold - center)\n",
    "            Dsvd = np.sum(R**2)**2 / np.sum(R**4)\n",
    "            Dsvds.append(Dsvd)"
   ]
  },
  {
   "cell_type": "code",
   "execution_count": 24,
   "metadata": {},
   "outputs": [],
   "source": [
    "Dsvds = np.stack(Dsvds).reshape(len(Ms),n_avg,8)"
   ]
  },
  {
   "cell_type": "code",
   "execution_count": 28,
   "metadata": {},
   "outputs": [
    {
     "data": {
      "text/plain": [
       "<matplotlib.lines.Line2D at 0x7f00290da780>"
      ]
     },
     "execution_count": 28,
     "metadata": {},
     "output_type": "execute_result"
    },
    {
     "data": {
      "image/png": "[encoded data removed]",
      "text/plain": [
       "<Figure size 432x288 with 1 Axes>"
      ]
     },
     "metadata": {
      "needs_background": "light"
     },
     "output_type": "display_data"
    }
   ],
   "source": [
    "plt.plot(Ms,Dsvds.mean((1,2)), 'o-')\n",
    "plt.axvline(168)"
   ]
  },
  {
   "cell_type": "markdown",
   "metadata": {},
   "source": [
    "# classification"
   ]
  },
  {
   "cell_type": "code",
   "execution_count": 51,
   "metadata": {},
   "outputs": [],
   "source": [
    "from sklearn.svm import LinearSVC"
   ]
  },
  {
   "cell_type": "code",
   "execution_count": 52,
   "metadata": {},
   "outputs": [],
   "source": [
    "svm = LinearSVC()"
   ]
  },
  {
   "cell_type": "code",
   "execution_count": 53,
   "metadata": {},
   "outputs": [],
   "source": [
    "Xtrain = []\n",
    "Xtest = []\n",
    "for manifold in manifolds:\n",
    "    test_idxs, train_idxs = np.split(np.random.permutation(280),(56,))\n",
    "    Xtrain.append(manifold[train_idxs])\n",
    "    Xtest.append(manifold[test_idxs])\n",
    "Xtrain = np.vstack(Xtrain)\n",
    "Xtest = np.vstack(Xtest)"
   ]
  },
  {
   "cell_type": "code",
   "execution_count": 54,
   "metadata": {},
   "outputs": [],
   "source": [
    "ytrain = np.repeat(np.arange(7),224)\n",
    "ytest = np.repeat(np.arange(7),56)"
   ]
  },
  {
   "cell_type": "code",
   "execution_count": 55,
   "metadata": {},
   "outputs": [
    {
     "name": "stderr",
     "output_type": "stream",
     "text": [
      "/home/bsorsch/.tf2/lib/python3.5/site-packages/sklearn/svm/base.py:929: ConvergenceWarning: Liblinear failed to converge, increase the number of iterations.\n",
      "  \"the number of iterations.\", ConvergenceWarning)\n"
     ]
    },
    {
     "data": {
      "text/plain": [
       "LinearSVC(C=1.0, class_weight=None, dual=True, fit_intercept=True,\n",
       "          intercept_scaling=1, loss='squared_hinge', max_iter=1000,\n",
       "          multi_class='ovr', penalty='l2', random_state=None, tol=0.0001,\n",
       "          verbose=0)"
      ]
     },
     "execution_count": 55,
     "metadata": {},
     "output_type": "execute_result"
    }
   ],
   "source": [
    "svm.fit(Xtrain, ytrain)"
   ]
  },
  {
   "cell_type": "code",
   "execution_count": 56,
   "metadata": {},
   "outputs": [],
   "source": [
    "yhat = svm.predict(Xtest)"
   ]
  },
  {
   "cell_type": "code",
   "execution_count": 57,
   "metadata": {},
   "outputs": [
    {
     "data": {
      "text/plain": [
       "0.8826530612244898"
      ]
     },
     "execution_count": 57,
     "metadata": {},
     "output_type": "execute_result"
    }
   ],
   "source": [
    "np.mean(yhat==ytest)"
   ]
  },
  {
   "cell_type": "markdown",
   "metadata": {},
   "source": [
    "# Gabors"
   ]
  },
  {
   "cell_type": "code",
   "execution_count": 8,
   "metadata": {},
   "outputs": [],
   "source": [
    "import numpy as np\n",
    "import torch\n",
    "from torch import nn\n",
    "from torch.nn import functional as F"
   ]
  },
  {
   "cell_type": "code",
   "execution_count": 9,
   "metadata": {},
   "outputs": [],
   "source": [
    "def gabor_kernel(frequency,  sigma_x, sigma_y, theta=0, offset=0, ks=61):\n",
    "\n",
    "    w = ks // 2\n",
    "    grid_val = torch.arange(-w, w+1, dtype=torch.float)\n",
    "    x, y = torch.meshgrid(grid_val, grid_val)\n",
    "    rotx = x * np.cos(theta) + y * np.sin(theta)\n",
    "    roty = -x * np.sin(theta) + y * np.cos(theta)\n",
    "    g = torch.zeros(y.shape)\n",
    "    g[:] = torch.exp(-0.5 * (rotx ** 2 / sigma_x ** 2 + roty ** 2 / sigma_y ** 2))\n",
    "    g /= 2 * np.pi * sigma_x * sigma_y\n",
    "    g *= torch.cos(2 * np.pi * frequency * rotx + offset)\n",
    "\n",
    "    return g\n",
    "\n",
    "\n",
    "def sample_dist(hist, bins, ns, scale='linear'):\n",
    "    rand_sample = np.random.rand(ns)\n",
    "    if scale == 'linear':\n",
    "        rand_sample = np.interp(rand_sample, np.hstack(([0], hist.cumsum())), bins)\n",
    "    elif scale == 'log2':\n",
    "        rand_sample = np.interp(rand_sample, np.hstack(([0], hist.cumsum())), np.log2(bins))\n",
    "        rand_sample = 2**rand_sample\n",
    "    elif scale == 'log10':\n",
    "        rand_sample = np.interp(rand_sample, np.hstack(([0], hist.cumsum())), np.log10(bins))\n",
    "        rand_sample = 10**rand_sample\n",
    "    return rand_sample"
   ]
  },
  {
   "cell_type": "code",
   "execution_count": 10,
   "metadata": {},
   "outputs": [],
   "source": [
    "class Identity(nn.Module):\n",
    "    def forward(self, x):\n",
    "        return x\n",
    "\n",
    "\n",
    "class GFB(nn.Module):\n",
    "    def __init__(self, in_channels, out_channels, kernel_size, stride=4):\n",
    "        super().__init__()\n",
    "        self.in_channels = in_channels\n",
    "        self.out_channels = out_channels\n",
    "        self.kernel_size = (kernel_size, kernel_size)\n",
    "        self.stride = (stride, stride)\n",
    "        self.padding = (kernel_size // 2, kernel_size // 2)\n",
    "\n",
    "        # Param instatiations\n",
    "        self.weight = torch.zeros((out_channels, in_channels, kernel_size, kernel_size))\n",
    "\n",
    "    def forward(self, x):\n",
    "        return F.conv2d(x, self.weight, None, self.stride, self.padding)\n",
    "\n",
    "    def initialize(self, sf, theta, sigx, sigy, phase):\n",
    "        random_channel = torch.randint(0, self.in_channels, (self.out_channels,))\n",
    "        for i in range(self.out_channels):\n",
    "            self.weight[i, random_channel[i]] = gabor_kernel(frequency=sf[i], sigma_x=sigx[i], sigma_y=sigy[i],\n",
    "                                                             theta=theta[i], offset=phase[i], ks=self.kernel_size[0])\n",
    "        self.weight = nn.Parameter(self.weight, requires_grad=False)\n",
    "\n",
    "\n",
    "class VOneBlock(nn.Module):\n",
    "    def __init__(self, sf, theta, sigx, sigy, phase,\n",
    "                 k_exc=25, noise_mode=None, noise_scale=1, noise_level=1,\n",
    "                 simple_channels=128, complex_channels=128, ksize=25, stride=4, input_size=224):\n",
    "        super().__init__()\n",
    "\n",
    "        self.in_channels = 3\n",
    "\n",
    "        self.simple_channels = simple_channels\n",
    "        self.complex_channels = complex_channels\n",
    "        self.out_channels = simple_channels + complex_channels\n",
    "        self.stride = stride\n",
    "        self.input_size = input_size\n",
    "\n",
    "        self.sf = sf\n",
    "        self.theta = theta\n",
    "        self.sigx = sigx\n",
    "        self.sigy = sigy\n",
    "        self.phase = phase\n",
    "        self.k_exc = k_exc\n",
    "\n",
    "        self.set_noise_mode(noise_mode, noise_scale, noise_level)\n",
    "        self.fixed_noise = None\n",
    "\n",
    "        self.simple_conv_q0 = GFB(self.in_channels, self.out_channels, ksize, stride)\n",
    "        self.simple_conv_q1 = GFB(self.in_channels, self.out_channels, ksize, stride)\n",
    "        self.simple_conv_q0.initialize(sf=self.sf, theta=self.theta, sigx=self.sigx, sigy=self.sigy,\n",
    "                                       phase=self.phase)\n",
    "        self.simple_conv_q1.initialize(sf=self.sf, theta=self.theta, sigx=self.sigx, sigy=self.sigy,\n",
    "                                       phase=self.phase + np.pi / 2)\n",
    "\n",
    "        self.simple = nn.ReLU(inplace=True)\n",
    "        self.complex = Identity()\n",
    "        self.gabors = Identity()\n",
    "        self.noise = nn.ReLU(inplace=True)\n",
    "        self.output = Identity()\n",
    "\n",
    "    def forward(self, x):\n",
    "        # Gabor activations [Batch, out_channels, H/stride, W/stride]\n",
    "        x = self.gabors_f(x)\n",
    "        # Noise [Batch, out_channels, H/stride, W/stride]\n",
    "        x = self.noise_f(x)\n",
    "        # V1 Block output: (Batch, out_channels, H/stride, W/stride)\n",
    "        x = self.output(x)\n",
    "        return x\n",
    "\n",
    "    def gabors_f(self, x):\n",
    "        s_q0 = self.simple_conv_q0(x)\n",
    "        s_q1 = self.simple_conv_q1(x)\n",
    "        c = self.complex(torch.sqrt(s_q0[:, self.simple_channels:, :, :] ** 2 +\n",
    "                                    s_q1[:, self.simple_channels:, :, :] ** 2) / np.sqrt(2))\n",
    "        s = self.simple(s_q0[:, 0:self.simple_channels, :, :])\n",
    "        return self.gabors(self.k_exc * torch.cat((s, c), 1))\n",
    "\n",
    "    def noise_f(self, x):\n",
    "        if self.noise_mode == 'neuronal':\n",
    "            eps = 10e-5\n",
    "            x *= self.noise_scale\n",
    "            x += self.noise_level\n",
    "            if self.fixed_noise is not None:\n",
    "                x += self.fixed_noise * torch.sqrt(F.relu(x.clone()) + eps)\n",
    "            else:\n",
    "                x += torch.distributions.normal.Normal(torch.zeros_like(x), scale=1).rsample() * \\\n",
    "                     torch.sqrt(F.relu(x.clone()) + eps)\n",
    "            x -= self.noise_level\n",
    "            x /= self.noise_scale\n",
    "        return self.noise(x)\n",
    "\n",
    "    def set_noise_mode(self, noise_mode=None, noise_scale=1, noise_level=1):\n",
    "        self.noise_mode = noise_mode\n",
    "        self.noise_scale = noise_scale\n",
    "        self.noise_level = noise_level\n",
    "\n",
    "    def fix_noise(self, batch_size=256, seed=None):\n",
    "        noise_mean = torch.zeros(batch_size, self.out_channels, int(self.input_size/self.stride), int(self.input_size/self.stride))\n",
    "        if seed:\n",
    "            torch.manual_seed(seed)\n",
    "        if self.noise_mode == 'neuronal':\n",
    "            self.fixed_noise = torch.distributions.normal.Normal(noise_mean, scale=1).rsample().to(device)\n",
    "\n",
    "    def unfix_noise(self):\n",
    "        self.fixed_noise = None"
   ]
  },
  {
   "cell_type": "code",
   "execution_count": 11,
   "metadata": {},
   "outputs": [],
   "source": [
    "def generate_gabor_param(features, seed=0, rand_flag=False, sf_corr=0, sf_max=9, sf_min=0):\n",
    "    # Generates random sample\n",
    "    np.random.seed(seed)\n",
    "\n",
    "    phase_bins = np.array([0, 360])\n",
    "    phase_dist = np.array([1])\n",
    "\n",
    "    if rand_flag:\n",
    "        print('Uniform gabor parameters')\n",
    "        ori_bins = np.array([0, 180])\n",
    "        ori_dist = np.array([1])\n",
    "\n",
    "        nx_bins = np.array([0.1, 10**0.2])\n",
    "        nx_dist = np.array([1])\n",
    "\n",
    "        ny_bins = np.array([0.1, 10**0.2])\n",
    "        ny_dist = np.array([1])\n",
    "\n",
    "        # sf_bins = np.array([0.5, 8])\n",
    "        # sf_dist = np.array([1])\n",
    "\n",
    "        sf_bins = np.array([0.5, 0.7, 1.0, 1.4, 2.0, 2.8, 4.0, 5.6, 8])\n",
    "        sf_dist = np.array([1,  1,  1, 1, 1, 1, 1, 1])\n",
    "\n",
    "        sfmax_ind = np.where(sf_bins < sf_max)[0][-1]\n",
    "        sfmin_ind = np.where(sf_bins >= sf_min)[0][0]\n",
    "\n",
    "        sf_bins = sf_bins[sfmin_ind:sfmax_ind+1]\n",
    "        sf_dist = sf_dist[sfmin_ind:sfmax_ind]\n",
    "\n",
    "        sf_dist = sf_dist / sf_dist.sum()\n",
    "    else:\n",
    "        print('Neuronal distributions gabor parameters')\n",
    "        # DeValois 1982a\n",
    "        ori_bins = np.array([-22.5, 22.5, 67.5, 112.5, 157.5])\n",
    "        ori_dist = np.array([66, 49, 77, 54])\n",
    "        ori_dist = ori_dist / ori_dist.sum()\n",
    "\n",
    "        # Schiller 1976\n",
    "        cov_mat = np.array([[1, sf_corr], [sf_corr, 1]])\n",
    "\n",
    "        # Ringach 2002b\n",
    "        nx_bins = np.logspace(-1, 0.2, 6, base=10)\n",
    "        ny_bins = np.logspace(-1, 0.2, 6, base=10)\n",
    "        n_joint_dist = np.array([[2.,  0.,  1.,  0.,  0.],\n",
    "                                 [8.,  9.,  4.,  1.,  0.],\n",
    "                                 [1.,  2., 19., 17.,  3.],\n",
    "                                 [0.,  0.,  1.,  7.,  4.],\n",
    "                                 [0.,  0.,  0.,  0.,  0.]])\n",
    "        n_joint_dist = n_joint_dist / n_joint_dist.sum()\n",
    "        nx_dist = n_joint_dist.sum(axis=1)\n",
    "        nx_dist = nx_dist / nx_dist.sum()\n",
    "        ny_dist_marg = n_joint_dist / n_joint_dist.sum(axis=1, keepdims=True)\n",
    "\n",
    "        # DeValois 1982b\n",
    "        sf_bins = np.array([0.5, 0.7, 1.0, 1.4, 2.0, 2.8, 4.0, 5.6, 8])\n",
    "        sf_dist = np.array([4,  4,  8, 25, 32, 26, 28, 12])\n",
    "\n",
    "        sfmax_ind = np.where(sf_bins <= sf_max)[0][-1]\n",
    "        sfmin_ind = np.where(sf_bins >= sf_min)[0][0]\n",
    "\n",
    "        sf_bins = sf_bins[sfmin_ind:sfmax_ind+1]\n",
    "        sf_dist = sf_dist[sfmin_ind:sfmax_ind]\n",
    "\n",
    "        sf_dist = sf_dist / sf_dist.sum()\n",
    "\n",
    "    phase = sample_dist(phase_dist, phase_bins, features)\n",
    "    ori = sample_dist(ori_dist, ori_bins, features)\n",
    "    ori[ori < 0] = ori[ori < 0] + 180\n",
    "\n",
    "    if rand_flag:\n",
    "        sf = sample_dist(sf_dist, sf_bins, features, scale='log2')\n",
    "        nx = sample_dist(nx_dist, nx_bins, features, scale='log10')\n",
    "        ny = sample_dist(ny_dist, ny_bins, features, scale='log10')\n",
    "    else:\n",
    "\n",
    "        samps = np.random.multivariate_normal([0, 0], cov_mat, features)\n",
    "        samps_cdf = stats.norm.cdf(samps)\n",
    "\n",
    "        nx = np.interp(samps_cdf[:,0], np.hstack(([0], nx_dist.cumsum())), np.log10(nx_bins))\n",
    "        nx = 10**nx\n",
    "\n",
    "        ny_samp = np.random.rand(features)\n",
    "        ny = np.zeros(features)\n",
    "        for samp_ind, nx_samp in enumerate(nx):\n",
    "            bin_id = np.argwhere(nx_bins < nx_samp)[-1]\n",
    "            ny[samp_ind] = np.interp(ny_samp[samp_ind], np.hstack(([0], ny_dist_marg[bin_id, :].cumsum())),\n",
    "                                             np.log10(ny_bins))\n",
    "        ny = 10**ny\n",
    "\n",
    "        sf = np.interp(samps_cdf[:,1], np.hstack(([0], sf_dist.cumsum())), np.log2(sf_bins))\n",
    "        sf = 2**sf\n",
    "\n",
    "    return sf, ori, phase, nx, ny"
   ]
  },
  {
   "cell_type": "code",
   "execution_count": 12,
   "metadata": {},
   "outputs": [
    {
     "name": "stdout",
     "output_type": "stream",
     "text": [
      "Neuronal distributions gabor parameters\n"
     ]
    },
    {
     "name": "stderr",
     "output_type": "stream",
     "text": [
      "/home/bsorsch/.tf2/lib/python3.5/site-packages/ipykernel_launcher.py:53: RuntimeWarning: invalid value encountered in true_divide\n"
     ]
    }
   ],
   "source": [
    "from scipy import stats\n",
    "\n",
    "sf_corr=0.75\n",
    "sf_max=6\n",
    "sf_min=0\n",
    "rand_param=False\n",
    "gabor_seed=0\n",
    "simple_channels=256\n",
    "complex_channels=256\n",
    "noise_mode='neuronal'\n",
    "noise_scale=0.35\n",
    "noise_level=0.07\n",
    "k_exc=25\n",
    "image_size=224\n",
    "visual_degrees=8\n",
    "ksize=25\n",
    "stride=4\n",
    "\n",
    "\n",
    "\n",
    "out_channels = simple_channels + complex_channels\n",
    "\n",
    "sf, theta, phase, nx, ny = generate_gabor_param(out_channels, gabor_seed, rand_param, sf_corr, sf_max, sf_min)\n",
    "\n",
    "gabor_params = {'simple_channels': simple_channels, 'complex_channels': complex_channels, 'rand_param': rand_param,\n",
    "                'gabor_seed': gabor_seed, 'sf_max': sf_max, 'sf_corr': sf_corr, 'sf': sf.copy(),\n",
    "                'theta': theta.copy(), 'phase': phase.copy(), 'nx': nx.copy(), 'ny': ny.copy()}\n",
    "arch_params = {'k_exc': k_exc, 'ksize': ksize, 'stride': stride}\n",
    "\n",
    "\n",
    "# Conversions\n",
    "ppd = image_size / visual_degrees\n",
    "\n",
    "sf = sf / ppd\n",
    "sigx = nx / sf\n",
    "sigy = ny / sf\n",
    "theta = theta/180 * np.pi\n",
    "phase = phase / 180 * np.pi"
   ]
  },
  {
   "cell_type": "code",
   "execution_count": 13,
   "metadata": {},
   "outputs": [],
   "source": [
    "vone_block = VOneBlock(sf=sf, theta=theta, sigx=sigx, sigy=sigy, phase=phase,\n",
    "                           k_exc=k_exc, noise_mode=noise_mode, noise_scale=noise_scale, noise_level=noise_level,\n",
    "                           simple_channels=simple_channels, complex_channels=complex_channels,\n",
    "                           ksize=ksize, stride=stride, input_size=image_size)"
   ]
  },
  {
   "cell_type": "code",
   "execution_count": null,
   "metadata": {},
   "outputs": [],
   "source": [
    "N = 2048\n",
    "K = 64\n",
    "P = 50\n",
    "batch_size = 10\n",
    "n_classes = len(imnames)\n",
    "\n",
    "idxs = np.random.choice(1605632, 2048)\n",
    "\n",
    "manifolds = []\n",
    "# for class_id in tqdm(range(n_classes)):\n",
    "for i in tqdm(range(K*P//batch_size)):\n",
    "    input_tensor = get_batch(i,batch_size)\n",
    "    with torch.no_grad():\n",
    "        output = vone_block(input_tensor)\n",
    "    manifolds.append(output.reshape(batch_size,-1)[:,idxs].cpu().numpy())\n",
    "manifolds = np.stack(manifolds).reshape(K,P,N)"
   ]
  },
  {
   "cell_type": "code",
   "execution_count": 20,
   "metadata": {},
   "outputs": [],
   "source": [
    "np.save('data/dicarlo_V1_manifolds.npy', manifolds)"
   ]
  },
  {
   "cell_type": "code",
   "execution_count": null,
   "metadata": {},
   "outputs": [],
   "source": []
  }
 ],
 "metadata": {
  "kernelspec": {
   "display_name": "Tensorflow 2",
   "language": "python",
   "name": ".tf2"
  },
  "language_info": {
   "codemirror_mode": {
    "name": "ipython",
    "version": 3
   },
   "file_extension": ".py",
   "mimetype": "text/x-python",
   "name": "python",
   "nbconvert_exporter": "python",
   "pygments_lexer": "ipython3",
   "version": "3.5.2"
  },
  "toc": {
   "base_numbering": 1,
   "nav_menu": {},
   "number_sections": true,
   "sideBar": true,
   "skip_h1_title": false,
   "title_cell": "Table of Contents",
   "title_sidebar": "Contents",
   "toc_cell": false,
   "toc_position": {
    "height": "calc(100% - 180px)",
    "left": "10px",
    "top": "150px",
    "width": "165px"
   },
   "toc_section_display": true,
   "toc_window_display": true
  }
 },
 "nbformat": 4,
 "nbformat_minor": 4
}
