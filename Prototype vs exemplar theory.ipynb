{
 "cells": [
  {
   "cell_type": "code",
   "execution_count": 85,
   "metadata": {},
   "outputs": [],
   "source": [
    "import numpy as np\n",
    "from matplotlib import pyplot as plt\n",
    "import seaborn as sns\n",
    "from tqdm import tqdm_notebook as tqdm\n",
    "\n",
    "sns.set()"
   ]
  },
  {
   "cell_type": "code",
   "execution_count": 122,
   "metadata": {},
   "outputs": [],
   "source": [
    "D = 500\n",
    "U = np.random.randn(N,D)\n",
    "U,_ = np.linalg.qr(U)"
   ]
  },
  {
   "cell_type": "code",
   "execution_count": 123,
   "metadata": {},
   "outputs": [
    {
     "data": {
      "text/plain": [
       "(1000, 500)"
      ]
     },
     "execution_count": 123,
     "metadata": {},
     "output_type": "execute_result"
    }
   ],
   "source": [
    "U.shape"
   ]
  },
  {
   "cell_type": "code",
   "execution_count": 146,
   "metadata": {},
   "outputs": [
    {
     "data": {
      "application/vnd.jupyter.widget-view+json": {
       "model_id": "cd1213f462394ab09b29a91979b768bd",
       "version_major": 2,
       "version_minor": 0
      },
      "text/plain": [
       "HBox(children=(IntProgress(value=0, max=1000), HTML(value='')))"
      ]
     },
     "metadata": {},
     "output_type": "display_data"
    },
    {
     "name": "stdout",
     "output_type": "stream",
     "text": [
      "\n"
     ]
    }
   ],
   "source": [
    "m = 10\n",
    "P = 20\n",
    "D = 500\n",
    "N = 1000\n",
    "n_avg = 1000\n",
    "\n",
    "U = np.random.randn(N,D+1)\n",
    "U,_ = np.linalg.qr(U)\n",
    "x0 = U[:,-1] / 10\n",
    "U = U[:,:-1]\n",
    "errs_proto = []\n",
    "errs_ex = []\n",
    "for _ in tqdm(range(n_avg)):\n",
    "    sa =  U@np.random.randn(D,P) / np.sqrt(D)\n",
    "    sb = U@np.random.randn(D,P) / np.sqrt(D)\n",
    "\n",
    "    idxs = np.random.permutation(P)\n",
    "    xa,ya = np.split(sa[:,idxs],(m,),axis=1)\n",
    "    xb,yb = np.split(sb[:,idxs],(m,),axis=1)\n",
    "\n",
    "    # Prototpye\n",
    "    xabar = xa.mean(1,keepdims=True)\n",
    "    xbbar = xb.mean(1,keepdims=True)\n",
    "    h_proto = 1/20 + -((xabar-ya)**2).sum(0) + ((xbbar - ya)**2).sum(0)\n",
    "    err_proto = (h_proto<0).mean()\n",
    "    errs_proto.append(err_proto)\n",
    "\n",
    "    # Exemplar\n",
    "    da = (((xa[:,:,None] - ya[:,None]))**2).sum(0)\n",
    "    db = (((xb[:,:,None] - ya[:,None]))**2).sum(0)\n",
    "    h_ex = 1/20+ -da.mean(0) + db.mean(0)\n",
    "    err_ex = (h_ex<0).mean()\n",
    "    errs_ex.append(err_ex)"
   ]
  },
  {
   "cell_type": "code",
   "execution_count": 147,
   "metadata": {},
   "outputs": [
    {
     "name": "stdout",
     "output_type": "stream",
     "text": [
      "0.10980000000000001\n",
      "0.1559\n"
     ]
    }
   ],
   "source": [
    "print(np.mean(errs_proto))\n",
    "print(np.mean(errs_ex))"
   ]
  },
  {
   "cell_type": "code",
   "execution_count": 139,
   "metadata": {},
   "outputs": [
    {
     "data": {
      "text/plain": [
       "(array([2., 1., 1., 0., 0., 2., 2., 0., 0., 2.]),\n",
       " array([-1.09644605, -1.07796479, -1.05948353, -1.04100227, -1.02252102,\n",
       "        -1.00403976, -0.9855585 , -0.96707725, -0.94859599, -0.93011473,\n",
       "        -0.91163348]),\n",
       " <a list of 10 Patch objects>)"
      ]
     },
     "execution_count": 139,
     "metadata": {},
     "output_type": "execute_result"
    },
    {
     "data": {
      "image/png": "[encoded data removed]",
      "text/plain": [
       "<Figure size 432x288 with 1 Axes>"
      ]
     },
     "metadata": {},
     "output_type": "display_data"
    }
   ],
   "source": [
    "plt.hist(h_proto)"
   ]
  },
  {
   "cell_type": "code",
   "execution_count": 136,
   "metadata": {},
   "outputs": [
    {
     "data": {
      "text/plain": [
       "0.01786654527321944"
      ]
     },
     "execution_count": 136,
     "metadata": {},
     "output_type": "execute_result"
    }
   ],
   "source": [
    "3*np.std(errs_ex) / np.sqrt(n_avg)"
   ]
  },
  {
   "cell_type": "code",
   "execution_count": 160,
   "metadata": {},
   "outputs": [
    {
     "data": {
      "text/plain": [
       "0.9998546742293628"
      ]
     },
     "execution_count": 160,
     "metadata": {},
     "output_type": "execute_result"
    }
   ],
   "source": [
    "m = 25\n",
    "P = 1000\n",
    "s = np.random.randn(N,m,P)/np.sqrt(N)\n",
    "np.mean(((s**2).sum(0).mean(0))**2)"
   ]
  },
  {
   "cell_type": "code",
   "execution_count": 161,
   "metadata": {},
   "outputs": [
    {
     "data": {
      "text/plain": [
       "0.001609035513683216"
      ]
     },
     "execution_count": 161,
     "metadata": {},
     "output_type": "execute_result"
    }
   ],
   "source": [
    "P = 1000\n",
    "s = np.random.randn(N,m,P)/np.sqrt(N)\n",
    "np.mean(((s.mean(1)**2).sum(0))**2)"
   ]
  },
  {
   "cell_type": "code",
   "execution_count": 162,
   "metadata": {},
   "outputs": [
    {
     "data": {
      "text/plain": [
       "0.0016"
      ]
     },
     "execution_count": 162,
     "metadata": {},
     "output_type": "execute_result"
    }
   ],
   "source": [
    "1/m**2"
   ]
  },
  {
   "cell_type": "code",
   "execution_count": 83,
   "metadata": {},
   "outputs": [
    {
     "data": {
      "text/plain": [
       "0.0887029288702929"
      ]
     },
     "execution_count": 83,
     "metadata": {},
     "output_type": "execute_result"
    }
   ],
   "source": [
    "np.mean(h_ex<0)"
   ]
  },
  {
   "cell_type": "code",
   "execution_count": 72,
   "metadata": {},
   "outputs": [
    {
     "data": {
      "text/plain": [
       "(1000, 5)"
      ]
     },
     "execution_count": 72,
     "metadata": {},
     "output_type": "execute_result"
    }
   ],
   "source": [
    "xa.shape"
   ]
  },
  {
   "cell_type": "code",
   "execution_count": 74,
   "metadata": {},
   "outputs": [
    {
     "data": {
      "text/plain": [
       "(1000, 1195)"
      ]
     },
     "execution_count": 74,
     "metadata": {},
     "output_type": "execute_result"
    }
   ],
   "source": [
    "ya.shape"
   ]
  },
  {
   "cell_type": "code",
   "execution_count": 76,
   "metadata": {},
   "outputs": [
    {
     "data": {
      "text/plain": [
       "(1000, 5, 1195)"
      ]
     },
     "execution_count": 76,
     "metadata": {},
     "output_type": "execute_result"
    }
   ],
   "source": [
    "(xa[:,:,None] - ya[:,None]).shape"
   ]
  },
  {
   "cell_type": "code",
   "execution_count": 70,
   "metadata": {},
   "outputs": [
    {
     "data": {
      "text/plain": [
       "(array([  4.,   6.,  62., 152., 269., 280., 232., 125.,  51.,  14.]),\n",
       " array([-0.08095934, -0.05462987, -0.02830039, -0.00197092,  0.02435856,\n",
       "         0.05068803,  0.07701751,  0.10334698,  0.12967646,  0.15600593,\n",
       "         0.18233541]),\n",
       " <a list of 10 Patch objects>)"
      ]
     },
     "execution_count": 70,
     "metadata": {},
     "output_type": "execute_result"
    },
    {
     "data": {
      "image/png": "[encoded data removed]",
      "text/plain": [
       "<Figure size 432x288 with 1 Axes>"
      ]
     },
     "metadata": {
      "needs_background": "light"
     },
     "output_type": "display_data"
    }
   ],
   "source": [
    "plt.hist(h)"
   ]
  },
  {
   "cell_type": "code",
   "execution_count": 58,
   "metadata": {},
   "outputs": [
    {
     "data": {
      "text/plain": [
       "(1000, 5)"
      ]
     },
     "execution_count": 58,
     "metadata": {},
     "output_type": "execute_result"
    }
   ],
   "source": [
    "x.shape"
   ]
  },
  {
   "cell_type": "code",
   "execution_count": 53,
   "metadata": {},
   "outputs": [
    {
     "data": {
      "text/plain": [
       "(1000, 5)"
      ]
     },
     "execution_count": 53,
     "metadata": {},
     "output_type": "execute_result"
    }
   ],
   "source": [
    "x.shape"
   ]
  },
  {
   "cell_type": "code",
   "execution_count": 46,
   "metadata": {},
   "outputs": [
    {
     "ename": "ValueError",
     "evalue": "a must be 1-dimensional",
     "output_type": "error",
     "traceback": [
      "\u001b[0;31m---------------------------------------------------------------------------\u001b[0m",
      "\u001b[0;31mValueError\u001b[0m                                Traceback (most recent call last)",
      "\u001b[0;32m<ipython-input-46-331f7871df9f>\u001b[0m in \u001b[0;36m<module>\u001b[0;34m\u001b[0m\n\u001b[1;32m      1\u001b[0m \u001b[0mm\u001b[0m \u001b[0;34m=\u001b[0m \u001b[0;36m5\u001b[0m\u001b[0;34m\u001b[0m\u001b[0m\n\u001b[0;32m----> 2\u001b[0;31m \u001b[0mss\u001b[0m \u001b[0;34m=\u001b[0m \u001b[0mnp\u001b[0m\u001b[0;34m.\u001b[0m\u001b[0mrandom\u001b[0m\u001b[0;34m.\u001b[0m\u001b[0mchoice\u001b[0m\u001b[0;34m(\u001b[0m\u001b[0ms\u001b[0m\u001b[0;34m,\u001b[0m\u001b[0mm\u001b[0m\u001b[0;34m,\u001b[0m\u001b[0mreplace\u001b[0m\u001b[0;34m=\u001b[0m\u001b[0;32mFalse\u001b[0m\u001b[0;34m)\u001b[0m\u001b[0;34m\u001b[0m\u001b[0m\n\u001b[0m",
      "\u001b[0;32mmtrand.pyx\u001b[0m in \u001b[0;36mnumpy.random.mtrand.RandomState.choice\u001b[0;34m()\u001b[0m\n",
      "\u001b[0;31mValueError\u001b[0m: a must be 1-dimensional"
     ]
    }
   ],
   "source": [
    "m = 5\n",
    "ss = np.random.choice(s,m,replace=False)"
   ]
  },
  {
   "cell_type": "code",
   "execution_count": 43,
   "metadata": {},
   "outputs": [
    {
     "data": {
      "text/plain": [
       "(array([  1.,  28.,  68., 174., 289., 301., 202., 106.,  24.,   7.]),\n",
       " array([-0.00050563,  0.00165056,  0.00380675,  0.00596294,  0.00811914,\n",
       "         0.01027533,  0.01243152,  0.01458771,  0.0167439 ,  0.01890009,\n",
       "         0.02105628]),\n",
       " <a list of 10 Patch objects>)"
      ]
     },
     "execution_count": 43,
     "metadata": {},
     "output_type": "execute_result"
    },
    {
     "data": {
      "image/png": "[encoded data removed]",
      "text/plain": [
       "<Figure size 432x288 with 1 Axes>"
      ]
     },
     "metadata": {
      "needs_background": "light"
     },
     "output_type": "display_data"
    }
   ],
   "source": [
    "plt.hist(x0@s)"
   ]
  },
  {
   "cell_type": "code",
   "execution_count": 31,
   "metadata": {},
   "outputs": [
    {
     "data": {
      "text/plain": [
       "<matplotlib.collections.PathCollection at 0x7fa36f38f6a0>"
      ]
     },
     "execution_count": 31,
     "metadata": {},
     "output_type": "execute_result"
    },
    {
     "data": {
      "image/png": "[encoded data removed]",
      "text/plain": [
       "<Figure size 432x288 with 1 Axes>"
      ]
     },
     "metadata": {
      "needs_background": "light"
     },
     "output_type": "display_data"
    }
   ],
   "source": [
    "plt.scatter(sa[0],sa[1])\n",
    "plt.scatter(sb[0],sb[1])"
   ]
  },
  {
   "cell_type": "code",
   "execution_count": 9,
   "metadata": {},
   "outputs": [
    {
     "name": "stdout",
     "output_type": "stream",
     "text": [
      "0.9981776597191105\n",
      "0.0008491640350086041\n"
     ]
    }
   ],
   "source": [
    "d1 = (s**2).sum(0).mean()\n",
    "d2 = (s.mean(1)**2).sum(0)\n",
    "print(d1)\n",
    "print(d2)"
   ]
  },
  {
   "cell_type": "markdown",
   "metadata": {},
   "source": [
    "# Vary beta"
   ]
  },
  {
   "cell_type": "code",
   "execution_count": null,
   "metadata": {},
   "outputs": [],
   "source": []
  },
  {
   "cell_type": "code",
   "execution_count": 239,
   "metadata": {},
   "outputs": [
    {
     "data": {
      "application/vnd.jupyter.widget-view+json": {
       "model_id": "9f1e43e4edf54104a7423ed612a5f09e",
       "version_major": 2,
       "version_minor": 0
      },
      "text/plain": [
       "HBox(children=(IntProgress(value=0, max=10), HTML(value='')))"
      ]
     },
     "metadata": {},
     "output_type": "display_data"
    },
    {
     "name": "stdout",
     "output_type": "stream",
     "text": [
      "\n"
     ]
    }
   ],
   "source": [
    "m = 10\n",
    "P = 50\n",
    "D = 4\n",
    "N = 5\n",
    "n_avg = 10000\n",
    "\n",
    "U = np.random.randn(N,D+1)\n",
    "U,_ = np.linalg.qr(U)\n",
    "x0 = U[:,-1] / 5\n",
    "U = U[:,:-1]\n",
    "betas = np.logspace(-5,2,10)\n",
    "errs_proto = []\n",
    "errs_ex = []\n",
    "for beta in tqdm(betas):\n",
    "    for _ in range(n_avg):\n",
    "        sa = x0[:,None] + U@np.random.randn(D,P) / np.sqrt(D)\n",
    "        sb = -x0[:,None] + U@np.random.randn(D,P) / np.sqrt(D)\n",
    "\n",
    "        idxs = np.random.permutation(P)\n",
    "        xa,ya = np.split(sa[:,idxs],(m,),axis=1)\n",
    "        xb,yb = np.split(sb[:,idxs],(m,),axis=1)\n",
    "\n",
    "        # Prototpye\n",
    "        xabar = xa.mean(1,keepdims=True)\n",
    "        xbbar = xb.mean(1,keepdims=True)\n",
    "        h_proto = -((xabar-ya)**2).sum(0) + ((xbbar - ya)**2).sum(0)\n",
    "        err_proto = (h_proto<0).mean()\n",
    "        errs_proto.append(err_proto)\n",
    "\n",
    "        # Exemplar\n",
    "        da = (((xa[:,:,None] - ya[:,None]))**2).sum(0)\n",
    "        db = (((xb[:,:,None] - ya[:,None]))**2).sum(0)\n",
    "        sa = np.exp(-beta*da)\n",
    "        sb = np.exp(-beta*db)\n",
    "        h_ex = sa.sum(0) - sb.sum(0)\n",
    "        err_ex = (h_ex<0).mean()\n",
    "        errs_ex.append(err_ex)\n",
    "errs_proto = np.stack(errs_proto).reshape(len(betas), n_avg)\n",
    "errs_ex = np.stack(errs_ex).reshape(len(betas), n_avg)"
   ]
  },
  {
   "cell_type": "code",
   "execution_count": 240,
   "metadata": {},
   "outputs": [
    {
     "data": {
      "image/png": "[encoded data removed]",
      "text/plain": [
       "<Figure size 432x288 with 1 Axes>"
      ]
     },
     "metadata": {},
     "output_type": "display_data"
    }
   ],
   "source": [
    "plt.plot(betas, errs_ex.mean(-1), 'o-')\n",
    "plt.plot(betas, errs_proto.mean(-1), 'o-')\n",
    "plt.xscale('log')"
   ]
  },
  {
   "cell_type": "code",
   "execution_count": 236,
   "metadata": {},
   "outputs": [
    {
     "data": {
      "image/png": "[encoded data removed]",
      "text/plain": [
       "<Figure size 432x288 with 1 Axes>"
      ]
     },
     "metadata": {},
     "output_type": "display_data"
    }
   ],
   "source": [
    "plt.plot(betas, errs_ex.mean(-1), 'o-')\n",
    "plt.plot(betas, errs_proto.mean(-1), 'o-')\n",
    "plt.xscale('log')"
   ]
  },
  {
   "cell_type": "code",
   "execution_count": 234,
   "metadata": {},
   "outputs": [
    {
     "data": {
      "image/png": "[encoded data removed]",
      "text/plain": [
       "<Figure size 432x288 with 1 Axes>"
      ]
     },
     "metadata": {},
     "output_type": "display_data"
    }
   ],
   "source": [
    "plt.plot(betas, errs_ex.mean(-1), 'o-')\n",
    "plt.plot(betas, errs_proto.mean(-1), 'o-')\n",
    "plt.xscale('log')"
   ]
  },
  {
   "cell_type": "code",
   "execution_count": 203,
   "metadata": {},
   "outputs": [],
   "source": []
  },
  {
   "cell_type": "code",
   "execution_count": 194,
   "metadata": {},
   "outputs": [],
   "source": [
    "beta = 1e-1\n",
    "sa = np.exp(-beta*da) / np.exp(-beta*da).sum()"
   ]
  },
  {
   "cell_type": "code",
   "execution_count": 169,
   "metadata": {},
   "outputs": [
    {
     "data": {
      "text/plain": [
       "(1000, 10)"
      ]
     },
     "execution_count": 169,
     "metadata": {},
     "output_type": "execute_result"
    }
   ],
   "source": [
    "\n",
    "ya.shape"
   ]
  },
  {
   "cell_type": "markdown",
   "metadata": {},
   "source": [
    "# Real manifolds"
   ]
  },
  {
   "cell_type": "code",
   "execution_count": null,
   "metadata": {},
   "outputs": [],
   "source": []
  },
  {
   "cell_type": "code",
   "execution_count": 442,
   "metadata": {},
   "outputs": [],
   "source": [
    "from sklearn.neighbors import KNeighborsClassifier\n",
    "NN = KNeighborsClassifier(n_neighbors=1)\n",
    "\n",
    "def prototype_learning(xa, xb, ya):\n",
    "    '''Performs a prototype learning experiment, with exponential weighting beta\n",
    "    Args:\n",
    "        - xa: (N,m) training examples of object a\n",
    "        - xb: (N,m) training example of object b\n",
    "        - ya: (N,P-m) test examples of object a\n",
    "    '''\n",
    "    xabar = xa.mean(0,keepdims=True)\n",
    "    xbbar = xb.mean(0,keepdims=True)\n",
    "    h_proto = -((xabar-ya)**2).sum(-1) + ((xbbar - ya)**2).sum(-1)\n",
    "    err_proto = (h_proto<0).mean()\n",
    "    return err_proto\n",
    "\n",
    "\n",
    "def exemplar_learning(xa, xb, ya, beta, NN=False):\n",
    "    '''Performs an exemplar learning experiment, with exponential weighting beta\n",
    "    Args:\n",
    "        - xa: (N,m) training examples of object a\n",
    "        - xb: (N,m) training example of object b\n",
    "        - ya: (N,P-m) test examples of object a\n",
    "        - beta: Weighting of training examples. b->0 corresponds to equal weighting,\n",
    "                b->\\infty corresponds to 1-NN classifier.\n",
    "        - NN: bool. Perform 1-NN classification, equivalent to beta->\\infty\n",
    "    '''\n",
    "    da = (((xa[:,None] - ya[None]))**2).sum(-1)\n",
    "    db = (((xb[:,None] - ya[None]))**2).sum(-1)\n",
    "    sa = np.exp(-beta*da)\n",
    "    sb = np.exp(-beta*db)\n",
    "    h_ex = sa.sum(0) - sb.sum(0)\n",
    "    err_ex = (h_ex<=0).mean()\n",
    "    \n",
    "    if NN:\n",
    "        sa = -da.min(0)\n",
    "        sb = -db.min(0)\n",
    "        h_ex = sa - sb\n",
    "        err_ex = (h_ex<=0).mean()\n",
    "    return err_ex"
   ]
  },
  {
   "cell_type": "code",
   "execution_count": 392,
   "metadata": {},
   "outputs": [],
   "source": [
    "# manifolds = np.load('/mnt/fs2/bsorsch/manifold/embeddings_new/macaque/manifolds_IT.npy')\n",
    "manifolds_load = np.load('/mnt/fs2/bsorsch/manifold/embeddings_new/1k_objects/resnet50/manifolds.npy',allow_pickle=True)"
   ]
  },
  {
   "cell_type": "code",
   "execution_count": 393,
   "metadata": {},
   "outputs": [
    {
     "data": {
      "application/vnd.jupyter.widget-view+json": {
       "model_id": "f7d5c0852edd4079a89faf98d6d7c6ca",
       "version_major": 2,
       "version_minor": 0
      },
      "text/plain": [
       "HBox(children=(IntProgress(value=0, max=1000), HTML(value='')))"
      ]
     },
     "metadata": {},
     "output_type": "display_data"
    },
    {
     "name": "stdout",
     "output_type": "stream",
     "text": [
      "\n"
     ]
    }
   ],
   "source": [
    "P = 500\n",
    "manifolds = []\n",
    "for manifold in tqdm(manifolds_load):\n",
    "    manifolds.append(manifold[:P])\n",
    "manifolds = np.stack(manifolds)"
   ]
  },
  {
   "cell_type": "code",
   "execution_count": 394,
   "metadata": {},
   "outputs": [],
   "source": [
    "K = manifolds.shape[0]\n",
    "P = manifolds.shape[1]\n",
    "N = manifolds.shape[2]"
   ]
  },
  {
   "cell_type": "code",
   "execution_count": null,
   "metadata": {},
   "outputs": [
    {
     "data": {
      "application/vnd.jupyter.widget-view+json": {
       "model_id": "5c597c067fee4268b931f98d893beaaf",
       "version_major": 2,
       "version_minor": 0
      },
      "text/plain": [
       "HBox(children=(IntProgress(value=0, max=10000), HTML(value='')))"
      ]
     },
     "metadata": {},
     "output_type": "display_data"
    }
   ],
   "source": [
    "n_avg = 10000\n",
    "betas = np.logspace(-4,-0.9,20)\n",
    "y = np.concatenate([np.ones(m),-np.ones(m)])\n",
    "proto_errs = []\n",
    "ex_errs = []\n",
    "NN_errs = []\n",
    "for _ in tqdm(range(n_avg)):\n",
    "    a,b = np.random.choice(K, 2, replace=False)\n",
    "    Xa = manifolds[a]\n",
    "    Xb = manifolds[b]\n",
    "\n",
    "    perma = np.random.permutation(P)\n",
    "    permb = np.random.permutation(P)\n",
    "    xa,ya = np.split(Xa[perma],(m,))\n",
    "    xb,yb = np.split(Xb[permb],(m,))\n",
    "\n",
    "    proto_err = prototype_learning(xa,xb,ya)\n",
    "    proto_errs.append(proto_err)\n",
    "    for beta in betas:\n",
    "        ex_err = exemplar_learning(xa,xb,ya,beta)\n",
    "        ex_errs.append(ex_err)\n",
    "    NN_err = exemplar_learning(xa,xb,ya,beta,NN=True)\n",
    "    NN_errs.append(NN_err)\n",
    "ex_errs = np.stack(ex_errs).reshape(n_avg, len(betas))"
   ]
  },
  {
   "cell_type": "code",
   "execution_count": 475,
   "metadata": {},
   "outputs": [],
   "source": [
    "sns.set_style('ticks')"
   ]
  },
  {
   "cell_type": "code",
   "execution_count": 479,
   "metadata": {},
   "outputs": [
    {
     "data": {
      "image/png": "[encoded data removed]",
      "text/plain": [
       "<Figure size 432x288 with 1 Axes>"
      ]
     },
     "metadata": {},
     "output_type": "display_data"
    }
   ],
   "source": [
    "plt.plot(betas[:-1], ex_errs.mean(0)[:-1], 'o-', label='Exemplar')\n",
    "plt.axhline(np.mean(proto_errs), c='C2', label='Prototype')\n",
    "plt.axhline(np.mean(NN_errs), c='C3', label='1-NN')\n",
    "plt.xscale('log')\n",
    "plt.xlabel(r'$\\beta$')\n",
    "plt.ylabel('Generalization error')\n",
    "\n",
    "plt.ylim([0,0.028])\n",
    "sns.despine()\n",
    "plt.legend()\n",
    "plt.savefig('images/exemplar_errors_vary_beta.pdf')"
   ]
  },
  {
   "cell_type": "code",
   "execution_count": 320,
   "metadata": {},
   "outputs": [
    {
     "data": {
      "text/plain": [
       "0.275"
      ]
     },
     "execution_count": 320,
     "metadata": {},
     "output_type": "execute_result"
    },
    {
     "data": {
      "image/png": "[encoded data removed]",
      "text/plain": [
       "<Figure size 432x288 with 1 Axes>"
      ]
     },
     "metadata": {},
     "output_type": "display_data"
    }
   ],
   "source": [
    "da = (((xa[:,None] - ya[None]))**2).sum(-1)\n",
    "db = (((xb[:,None] - ya[None]))**2).sum(-1)\n",
    "sa = np.exp(-beta*da)\n",
    "sb = np.exp(-beta*db)\n",
    "h_ex = sa.sum(0) - sb.sum(0)\n",
    "plt.hist(h_ex)\n",
    "(h_ex<=0).mean()"
   ]
  },
  {
   "cell_type": "code",
   "execution_count": 305,
   "metadata": {},
   "outputs": [
    {
     "data": {
      "text/plain": [
       "array([[5.35854588e-06, 3.92439106e-04, 2.27793784e-08, 2.11243378e-06,\n",
       "        4.95340160e-08, 3.68293422e-06, 2.29379498e-06, 1.57666079e-07,\n",
       "        9.80238269e-07, 1.66456721e-06, 9.83925474e-09, 1.71148022e-05,\n",
       "        2.77884237e-06, 1.71783121e-09, 9.91912202e-07, 4.26067636e-05,\n",
       "        2.44186003e-06, 4.52682549e-08, 2.19571945e-07, 1.29710464e-03,\n",
       "        1.70871988e-06, 1.01695912e-06, 3.27719563e-09, 2.33581613e-05,\n",
       "        6.49158435e-04, 2.24445648e-05, 1.78208719e-08, 5.26491976e-06,\n",
       "        2.36690720e-03, 1.04380945e-06, 2.91427743e-04, 1.02927054e-08,\n",
       "        3.32635273e-06, 2.60531235e-10, 1.20189934e-05, 1.68695569e-09,\n",
       "        2.09608275e-04, 2.05817720e-04, 5.65739401e-06, 2.58212793e-08],\n",
       "       [6.38541605e-05, 2.10474971e-10, 1.62684033e-10, 1.82721297e-13,\n",
       "        6.19973975e-14, 1.92880816e-15, 2.11569051e-09, 7.20811926e-08,\n",
       "        1.10548881e-09, 1.82222050e-11, 6.84573246e-16, 4.61826266e-06,\n",
       "        4.83180193e-05, 7.28099840e-04, 1.05654513e-11, 5.84202348e-12,\n",
       "        2.34868214e-09, 5.05950514e-16, 1.76340618e-04, 8.10827583e-09,\n",
       "        1.18597177e-08, 2.39446310e-12, 1.63869677e-13, 3.83122339e-10,\n",
       "        3.46129134e-08, 2.56355779e-05, 7.13914062e-13, 5.32689561e-13,\n",
       "        6.29058334e-08, 5.65182290e-10, 9.70699077e-11, 9.42809372e-12,\n",
       "        4.06600101e-12, 4.60743553e-12, 1.55779103e-13, 7.80978946e-15,\n",
       "        1.70977437e-08, 2.11534967e-07, 8.02513351e-12, 1.10646015e-11],\n",
       "       [1.56339020e-09, 1.04050741e-05, 8.01757267e-07, 1.49201747e-04,\n",
       "        6.00916081e-08, 3.00588738e-07, 1.45428783e-06, 1.24999360e-12,\n",
       "        3.27142203e-07, 5.00930867e-07, 1.70760125e-11, 1.71106129e-10,\n",
       "        1.80714532e-09, 5.65252259e-14, 1.02551496e-06, 1.99218871e-11,\n",
       "        1.26902830e-06, 5.75868853e-07, 1.13193126e-13, 3.80164636e-07,\n",
       "        1.40092496e-07, 3.62572639e-09, 1.30270076e-13, 2.41686416e-06,\n",
       "        9.51475840e-07, 3.13028908e-10, 1.55863233e-09, 4.28909188e-05,\n",
       "        5.39613779e-07, 2.75056054e-11, 1.71804345e-06, 5.72606041e-07,\n",
       "        9.49408285e-09, 3.68137465e-10, 6.36482946e-05, 7.52480219e-06,\n",
       "        2.93140175e-07, 3.81339271e-09, 1.09457812e-06, 1.41797204e-06],\n",
       "       [6.53064781e-05, 1.13678514e-04, 7.51757170e-06, 1.41215696e-06,\n",
       "        9.83246906e-08, 6.75326284e-09, 4.34939546e-04, 9.79053129e-06,\n",
       "        1.71142878e-04, 6.47611614e-06, 3.59999746e-08, 6.72966853e-05,\n",
       "        3.70193738e-05, 6.71471184e-07, 1.06153450e-07, 4.17782289e-08,\n",
       "        1.56369992e-04, 5.25679411e-07, 8.75793603e-07, 2.32318096e-04,\n",
       "        7.19058080e-05, 1.45854759e-08, 5.47333414e-08, 1.46402663e-05,\n",
       "        5.05868684e-06, 8.51198420e-05, 2.80548102e-06, 2.22140272e-07,\n",
       "        3.86132422e-04, 1.91945219e-05, 1.67111480e-07, 4.14582883e-06,\n",
       "        1.29015207e-05, 4.22242238e-07, 4.32712000e-07, 3.11388385e-06,\n",
       "        1.43365134e-04, 1.10426672e-05, 1.32561672e-05, 7.68237896e-07],\n",
       "       [1.39816286e-04, 3.19125759e-03, 1.32633818e-06, 5.51057092e-05,\n",
       "        4.82573412e-08, 1.53843541e-06, 1.05079205e-04, 3.02878266e-06,\n",
       "        1.54180045e-04, 8.31860689e-06, 2.92415461e-08, 1.41936980e-04,\n",
       "        3.09811381e-04, 3.51646285e-08, 1.93581604e-06, 5.61199204e-06,\n",
       "        5.90547679e-05, 3.03599052e-07, 1.85186650e-07, 7.81648676e-04,\n",
       "        1.47691699e-05, 3.29184763e-06, 1.98358777e-07, 6.44200627e-05,\n",
       "        1.28071534e-03, 2.46447627e-04, 3.68947468e-07, 2.00582181e-05,\n",
       "        2.44220393e-03, 1.90598130e-05, 2.25455983e-06, 2.38796076e-07,\n",
       "        6.95541967e-05, 5.15258947e-08, 1.00936222e-05, 1.24523751e-07,\n",
       "        5.92518772e-04, 1.00483332e-04, 4.19821445e-05, 4.07474772e-06],\n",
       "       [9.12328046e-10, 3.63028012e-05, 4.73695263e-06, 2.15806952e-03,\n",
       "        4.56930829e-05, 1.55496400e-05, 5.27877346e-05, 1.68315427e-12,\n",
       "        5.58416696e-06, 5.02576950e-05, 7.97303389e-15, 1.51231208e-10,\n",
       "        5.86556581e-10, 3.55748891e-14, 1.93563778e-07, 2.25261433e-12,\n",
       "        3.83078896e-06, 1.97006116e-07, 8.66138064e-12, 4.59758468e-07,\n",
       "        2.20401375e-06, 1.84672347e-11, 5.47096632e-15, 5.61407433e-06,\n",
       "        8.53386882e-06, 1.79673054e-10, 5.41314382e-10, 2.65194161e-04,\n",
       "        1.44764442e-06, 1.26085574e-11, 9.52037735e-05, 3.14320488e-07,\n",
       "        3.01176826e-08, 1.19529898e-11, 4.99520742e-04, 2.03024887e-04,\n",
       "        9.02154625e-07, 1.03862163e-09, 5.50482719e-06, 3.01116979e-05],\n",
       "       [1.90062216e-04, 5.28424778e-07, 1.82533222e-09, 1.35148684e-10,\n",
       "        9.30107296e-14, 1.66863572e-12, 2.94448625e-07, 4.03939011e-05,\n",
       "        3.14274928e-07, 3.40086626e-10, 5.47624772e-08, 2.92626559e-03,\n",
       "        8.04812822e-04, 8.07770903e-06, 9.65365921e-09, 1.42177369e-05,\n",
       "        1.84976955e-07, 1.93440686e-09, 3.29006480e-06, 2.37733802e-05,\n",
       "        1.53150399e-08, 2.16966987e-06, 2.96431767e-06, 7.32665573e-09,\n",
       "        8.76600836e-07, 4.58595017e-03, 4.78818940e-08, 3.38807449e-09,\n",
       "        4.63330161e-06, 4.72354768e-05, 2.26787140e-08, 2.51893812e-08,\n",
       "        9.59715507e-08, 9.09094183e-07, 7.16772253e-10, 1.37319247e-12,\n",
       "        2.34884692e-06, 9.66769221e-05, 3.10284554e-09, 2.60632271e-09],\n",
       "       [2.84587895e-22, 2.25320354e-19, 9.18034664e-28, 3.28608530e-23,\n",
       "        1.04791108e-30, 7.34742286e-24, 4.04429437e-25, 3.17759574e-21,\n",
       "        9.74631779e-23, 8.90547788e-26, 7.26010875e-12, 7.00629940e-19,\n",
       "        1.89029127e-21, 9.94815616e-28, 1.28963364e-19, 1.52318208e-14,\n",
       "        1.35296158e-22, 5.73669263e-16, 3.93630951e-29, 5.52376200e-18,\n",
       "        1.23819615e-26, 3.78023723e-14, 1.17065483e-13, 1.98938848e-24,\n",
       "        4.47483961e-22, 6.06448435e-20, 5.14790957e-17, 4.17962812e-21,\n",
       "        4.11482934e-21, 2.42505956e-16, 1.42536992e-22, 2.13603111e-22,\n",
       "        3.06096247e-21, 5.33664506e-18, 1.76377444e-21, 1.51596891e-28,\n",
       "        2.37640624e-22, 5.78620366e-18, 5.44882762e-22, 1.09277512e-26],\n",
       "       [1.56762238e-04, 1.39496507e-04, 4.66747672e-08, 1.15972921e-06,\n",
       "        6.98232512e-08, 5.91402305e-08, 6.67594795e-05, 3.13262490e-06,\n",
       "        2.63969505e-05, 3.38740756e-06, 2.49930099e-09, 2.25993936e-04,\n",
       "        5.04291420e-05, 7.29601140e-07, 6.41118686e-06, 4.32563274e-06,\n",
       "        4.16570447e-06, 4.23543050e-08, 3.29966747e-06, 4.52729920e-03,\n",
       "        1.07106598e-05, 1.50073231e-06, 5.43075060e-08, 1.99470433e-05,\n",
       "        6.89020439e-04, 5.68752352e-04, 1.37556967e-07, 3.14084832e-06,\n",
       "        2.17991066e-03, 1.11934824e-05, 1.13857102e-04, 6.46761649e-08,\n",
       "        4.60581532e-06, 5.33977484e-09, 1.14371301e-06, 1.10859970e-08,\n",
       "        5.13515854e-03, 3.37647600e-03, 4.31793751e-06, 3.84408061e-08],\n",
       "       [1.42071862e-04, 6.49445137e-05, 5.85278670e-08, 8.19314607e-08,\n",
       "        1.91926897e-09, 4.53503546e-08, 1.15909843e-05, 5.27864249e-05,\n",
       "        4.05209357e-06, 8.36188747e-07, 3.67561995e-07, 2.01310497e-04,\n",
       "        5.87214017e-05, 4.47927164e-07, 6.91767923e-07, 1.59265808e-04,\n",
       "        5.10257996e-06, 1.55883821e-08, 3.92485708e-05, 1.27676351e-03,\n",
       "        6.73343357e-06, 7.35339290e-06, 1.55706732e-06, 1.19614424e-05,\n",
       "        7.81087874e-05, 2.79326225e-03, 3.12302433e-07, 8.67517045e-08,\n",
       "        1.14165945e-03, 7.12831170e-05, 3.84059604e-06, 6.02660748e-08,\n",
       "        1.44540345e-05, 1.91460447e-08, 9.64523466e-08, 1.11038512e-09,\n",
       "        3.55560594e-04, 1.06844411e-03, 5.04792069e-06, 1.20009418e-07]],\n",
       "      dtype=float32)"
      ]
     },
     "execution_count": 305,
     "metadata": {},
     "output_type": "execute_result"
    }
   ],
   "source": [
    "sa"
   ]
  },
  {
   "cell_type": "code",
   "execution_count": null,
   "metadata": {},
   "outputs": [],
   "source": []
  }
 ],
 "metadata": {
  "kernelspec": {
   "display_name": "Tensorflow 2",
   "language": "python",
   "name": ".tf2"
  },
  "language_info": {
   "codemirror_mode": {
    "name": "ipython",
    "version": 3
   },
   "file_extension": ".py",
   "mimetype": "text/x-python",
   "name": "python",
   "nbconvert_exporter": "python",
   "pygments_lexer": "ipython3",
   "version": "3.5.2"
  },
  "toc": {
   "base_numbering": 1,
   "nav_menu": {},
   "number_sections": true,
   "sideBar": true,
   "skip_h1_title": false,
   "title_cell": "Table of Contents",
   "title_sidebar": "Contents",
   "toc_cell": false,
   "toc_position": {},
   "toc_section_display": true,
   "toc_window_display": false
  }
 },
 "nbformat": 4,
 "nbformat_minor": 4
}
