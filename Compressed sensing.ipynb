{
 "cells": [
  {
   "cell_type": "markdown",
   "metadata": {},
   "source": [
    "# Compressed sensing\n",
    "\n",
    "How does the generalization error depend on the number of neurons recorded?"
   ]
  },
  {
   "cell_type": "code",
   "execution_count": 1,
   "metadata": {},
   "outputs": [],
   "source": [
    "import numpy as np\n",
    "from numpy import random\n",
    "\n",
    "from tqdm import tqdm_notebook as tqdm\n",
    "from matplotlib import pyplot as plt\n",
    "import seaborn as sns\n",
    "\n",
    "sns.set(font_scale=1.3, rc={\"lines.linewidth\": 2.5})\n",
    "sns.set_style('ticks')"
   ]
  },
  {
   "cell_type": "code",
   "execution_count": 2,
   "metadata": {},
   "outputs": [],
   "source": [
    "import os\n",
    "os.environ[\"CUDA_DEVICE_ORDER\"]=\"PCI_BUS_ID\"\n",
    "os.environ[\"CUDA_VISIBLE_DEVICES\"]=\"1\""
   ]
  },
  {
   "cell_type": "code",
   "execution_count": 3,
   "metadata": {},
   "outputs": [],
   "source": [
    "import os\n",
    "root = '/mnt/fs2/bsorsch/manifold/embeddings_new/1k_objects/'\n",
    "# names = np.load(root + 'names.npy')\n",
    "\n",
    "model = 'resnet50'\n",
    "model_dir = os.path.join(root, model)"
   ]
  },
  {
   "cell_type": "markdown",
   "metadata": {},
   "source": [
    "# Helper functions"
   ]
  },
  {
   "cell_type": "code",
   "execution_count": 4,
   "metadata": {},
   "outputs": [],
   "source": [
    "# Compute error\n",
    "m = 5\n",
    "n_avg = 2000\n",
    "\n",
    "def compute_err(manifolds,m):\n",
    "    err_all = np.zeros((len(manifolds),len(manifolds)))\n",
    "    err_std = np.zeros((len(manifolds),len(manifolds)))\n",
    "    for a in range(len(manifolds)):\n",
    "        Xa = manifolds[a]\n",
    "        for b in range(len(manifolds)):\n",
    "            Xb = manifolds[b]\n",
    "\n",
    "            errs = []\n",
    "            for _ in range(n_avg):\n",
    "                perma = np.random.permutation(len(Xa))\n",
    "                permb = np.random.permutation(len(Xb))\n",
    "\n",
    "                xa,ya = np.split(Xa[perma],(m,))\n",
    "                xb,yb = np.split(Xb[permb],(m,))\n",
    "                w = (xa-xb).mean(0)\n",
    "                mu = (xa+xb).mean(0)/2\n",
    "\n",
    "                h = ya@w - w@mu\n",
    "                err = (h<0).mean()\n",
    "                errs.append(err)\n",
    "            err_all[a,b] = np.mean(errs)\n",
    "            err_std[a,b] = np.std(errs)\n",
    "    np.fill_diagonal(err_all,np.nan)\n",
    "    \n",
    "    return err_all, err_std\n",
    "\n",
    "\n",
    "\n",
    "\n",
    "def geometry(manifolds,m):\n",
    "    Rs = []\n",
    "    centers = []\n",
    "    Us = []\n",
    "    for manifold in manifolds:\n",
    "        centers.append(manifold.mean(0))\n",
    "        U,R,V = np.linalg.svd(manifold - manifold.mean(0),full_matrices=False)\n",
    "        Rs.append(R)\n",
    "        Us.append(V)\n",
    "    Rs = np.stack(Rs)\n",
    "    centers = np.stack(centers)\n",
    "    Us = np.stack(Us)\n",
    "    \n",
    "    K = len(centers)\n",
    "    P = Rs.shape[1]\n",
    "    dists = np.sqrt(((centers[:,None] - centers[None])**2).sum(-1))\n",
    "    dist_norm = dists / np.sqrt((Rs**2).sum(-1)[:,None] / P)\n",
    "\n",
    "    Ds = np.sum(Rs**2,axis=-1)**2 / np.sum(Rs**4, axis=-1)\n",
    "\n",
    "    # Center-subspace\n",
    "    csa = []\n",
    "    csb = []\n",
    "    for a in range(K):\n",
    "        for b in range(K):\n",
    "            if a!=b:\n",
    "                dx0 = centers[a] - centers[b]\n",
    "                dx0hat = dx0 / np.linalg.norm(dx0)\n",
    "                costheta_a = Us[a]@dx0hat\n",
    "                csa.append((costheta_a**2 * Rs[a]**2).sum() / (Rs[a]**2).sum())\n",
    "                costheta_b = Us[b]@dx0hat\n",
    "                csb.append((costheta_b**2 * Rs[b]**2).sum() / (Rs[a]**2).sum())\n",
    "            else:\n",
    "                csa.append(np.nan)\n",
    "                csb.append(np.nan)\n",
    "    csa = np.stack(csa).reshape(K,K)\n",
    "    csb = np.stack(csb).reshape(K,K)\n",
    "\n",
    "    # Subspace-subspace\n",
    "    ss = []\n",
    "    for a in range(K):\n",
    "        for b in range(K):\n",
    "            if a!=b:\n",
    "                cosphi = Us[a]@Us[b].T\n",
    "                ss_overlap = (cosphi**2*Rs[a][:,None]**2*Rs[b]**2).sum() / (Rs[a]**2).sum()**2\n",
    "                ss.append(ss_overlap)\n",
    "            else:\n",
    "                ss.append(np.nan)\n",
    "    ss = np.stack(ss).reshape(K,K)\n",
    "\n",
    "    css = (csa + csb/m) * dist_norm**2\n",
    "\n",
    "    bias = (Rs**2).sum(-1) / (Rs**2).sum(-1)[:,None] - 1\n",
    "    SNR = 1/2*(dist_norm**2 + bias/m)/ np.sqrt(1/Ds[:,None]/m + css + ss/m)\n",
    "    \n",
    "    return dist_norm, Ds, csa, ss, SNR\n",
    "\n",
    "\n",
    "from scipy.special import erfc\n",
    "\n",
    "def H(x):\n",
    "    return 1/2*erfc(x/np.sqrt(2))"
   ]
  },
  {
   "cell_type": "markdown",
   "metadata": {},
   "source": [
    "# Manifolds"
   ]
  },
  {
   "cell_type": "code",
   "execution_count": 5,
   "metadata": {},
   "outputs": [],
   "source": [
    "manifolds_load = np.load(os.path.join(model_dir,'manifolds.npy'),allow_pickle=True)"
   ]
  },
  {
   "cell_type": "code",
   "execution_count": 6,
   "metadata": {},
   "outputs": [],
   "source": [
    "P = 500\n",
    "manifolds = []\n",
    "for manifold in manifolds_load[:100]:\n",
    "    manifolds.append(manifold[:P])\n",
    "manifolds = np.stack(manifolds)"
   ]
  },
  {
   "cell_type": "code",
   "execution_count": 106,
   "metadata": {},
   "outputs": [
    {
     "data": {
      "text/plain": [
       "array([  4.        ,   7.92117409,  15.68624976,  31.06337881,\n",
       "        61.51460788, 121.81697959, 241.23337574, 477.71289167])"
      ]
     },
     "execution_count": 106,
     "metadata": {},
     "output_type": "execute_result"
    }
   ],
   "source": [
    "Ms = np.logspace(2,8.9,8,base=2)\n",
    "Ms"
   ]
  },
  {
   "cell_type": "code",
   "execution_count": 107,
   "metadata": {},
   "outputs": [
    {
     "data": {
      "application/vnd.jupyter.widget-view+json": {
       "model_id": "ae61bd1e58604e8ebab2f299a594cc41",
       "version_major": 2,
       "version_minor": 0
      },
      "text/plain": [
       "HBox(children=(IntProgress(value=0, max=8), HTML(value='')))"
      ]
     },
     "metadata": {},
     "output_type": "display_data"
    },
    {
     "data": {
      "application/vnd.jupyter.widget-view+json": {
       "model_id": "",
       "version_major": 2,
       "version_minor": 0
      },
      "text/plain": [
       "HBox(children=(IntProgress(value=0, max=1), HTML(value='')))"
      ]
     },
     "metadata": {},
     "output_type": "display_data"
    },
    {
     "data": {
      "application/vnd.jupyter.widget-view+json": {
       "model_id": "",
       "version_major": 2,
       "version_minor": 0
      },
      "text/plain": [
       "HBox(children=(IntProgress(value=0, max=1), HTML(value='')))"
      ]
     },
     "metadata": {},
     "output_type": "display_data"
    },
    {
     "data": {
      "application/vnd.jupyter.widget-view+json": {
       "model_id": "",
       "version_major": 2,
       "version_minor": 0
      },
      "text/plain": [
       "HBox(children=(IntProgress(value=0, max=1), HTML(value='')))"
      ]
     },
     "metadata": {},
     "output_type": "display_data"
    },
    {
     "data": {
      "application/vnd.jupyter.widget-view+json": {
       "model_id": "",
       "version_major": 2,
       "version_minor": 0
      },
      "text/plain": [
       "HBox(children=(IntProgress(value=0, max=1), HTML(value='')))"
      ]
     },
     "metadata": {},
     "output_type": "display_data"
    },
    {
     "data": {
      "application/vnd.jupyter.widget-view+json": {
       "model_id": "",
       "version_major": 2,
       "version_minor": 0
      },
      "text/plain": [
       "HBox(children=(IntProgress(value=0, max=1), HTML(value='')))"
      ]
     },
     "metadata": {},
     "output_type": "display_data"
    },
    {
     "data": {
      "application/vnd.jupyter.widget-view+json": {
       "model_id": "",
       "version_major": 2,
       "version_minor": 0
      },
      "text/plain": [
       "HBox(children=(IntProgress(value=0, max=1), HTML(value='')))"
      ]
     },
     "metadata": {},
     "output_type": "display_data"
    },
    {
     "data": {
      "application/vnd.jupyter.widget-view+json": {
       "model_id": "",
       "version_major": 2,
       "version_minor": 0
      },
      "text/plain": [
       "HBox(children=(IntProgress(value=0, max=1), HTML(value='')))"
      ]
     },
     "metadata": {},
     "output_type": "display_data"
    },
    {
     "data": {
      "application/vnd.jupyter.widget-view+json": {
       "model_id": "",
       "version_major": 2,
       "version_minor": 0
      },
      "text/plain": [
       "HBox(children=(IntProgress(value=0, max=1), HTML(value='')))"
      ]
     },
     "metadata": {},
     "output_type": "display_data"
    },
    {
     "name": "stdout",
     "output_type": "stream",
     "text": [
      "\n"
     ]
    },
    {
     "name": "stderr",
     "output_type": "stream",
     "text": [
      "/home/bsorsch/.tf2/lib/python3.5/site-packages/ipykernel_launcher.py:35: RuntimeWarning: Mean of empty slice\n",
      "/home/bsorsch/.tf2/lib/python3.5/site-packages/ipykernel_launcher.py:36: RuntimeWarning: Mean of empty slice\n",
      "/home/bsorsch/.tf2/lib/python3.5/site-packages/ipykernel_launcher.py:38: RuntimeWarning: Mean of empty slice\n",
      "/home/bsorsch/.tf2/lib/python3.5/site-packages/ipykernel_launcher.py:39: RuntimeWarning: Mean of empty slice\n"
     ]
    }
   ],
   "source": [
    "m = 5\n",
    "N = 2048\n",
    "K = manifolds.shape[0]\n",
    "# Ms = np.logspace(3,11,8,base=2)\n",
    "Ms = np.logspace(2,8.9,8,base=2)\n",
    "\n",
    "n_avg = 1\n",
    "Dsvds = []\n",
    "SNRs = []\n",
    "err_all = []\n",
    "\n",
    "Dsvds_proj = []\n",
    "SNRs_proj = []\n",
    "err_all_proj = []\n",
    "for M in tqdm(Ms):\n",
    "    for _ in tqdm(range(n_avg),leave=False):\n",
    "        # Random sample\n",
    "        idxs = np.random.choice(N,int(M),replace=False)\n",
    "        manifolds_small = manifolds[:,:,idxs]\n",
    "        dist_norm, Ds, csa, ss, SNR = geometry(manifolds_small, m)\n",
    "        Dsvds.append(Ds)\n",
    "        SNRs.append(SNR)\n",
    "        err, err_std = compute_err(manifolds_small,m)\n",
    "        err_all.append(err)\n",
    "        \n",
    "        # Random projection\n",
    "        A = np.random.randn(N,int(M)) / np.sqrt(M)\n",
    "        manifolds_small = manifolds@A \n",
    "        dist_norm, Ds, csa, ss, SNR = geometry(manifolds_small, m)\n",
    "        Dsvds_proj.append(Ds)\n",
    "        SNRs_proj.append(SNR)\n",
    "        err, err_std = compute_err(manifolds_small,m)\n",
    "        err_all_proj.append(err)\n",
    "Dsvds = np.stack(Dsvds).reshape(len(Ms),n_avg,K).mean(1)\n",
    "SNRs = np.nanmean(np.stack(SNRs).reshape(len(Ms),n_avg,-1),1)\n",
    "err_all = np.nanmean(np.stack(err_all).reshape(len(Ms),n_avg,-1),1)\n",
    "Dsvds_proj = np.stack(Dsvds_proj).reshape(len(Ms),n_avg,K).mean(1)\n",
    "SNRs_proj = np.nanmean(np.stack(SNRs_proj).reshape(len(Ms),n_avg,-1),1)\n",
    "err_all_proj = np.nanmean(np.stack(err_all_proj).reshape(len(Ms),n_avg,-1),1)"
   ]
  },
  {
   "cell_type": "code",
   "execution_count": 69,
   "metadata": {},
   "outputs": [],
   "source": [
    "cs_dir = os.path.join(model_dir,'compressed_sensing')\n",
    "# if not os.path.isdir(cs_dir):\n",
    "#     os.mkdir(cs_dir)\n",
    "# np.save(os.path.join(cs_dir, 'Ms.npy'), Dsvds)\n",
    "# np.save(os.path.join(cs_dir, 'SNRs.npy'), SNRs)\n",
    "# np.save(os.path.join(cs_dir, 'err_all.npy'), err_all)\n",
    "# np.save(os.path.join(cs_dir, 'Ms_proj.npy'), Dsvds_proj)\n",
    "# np.save(os.path.join(cs_dir, 'SNRs_proj.npy'), SNRs_proj)\n",
    "# np.save(os.path.join(cs_dir, 'err_all_proj.npy'), err_all_proj)"
   ]
  },
  {
   "cell_type": "code",
   "execution_count": 108,
   "metadata": {},
   "outputs": [],
   "source": [
    "# Asymptotic Dsvd\n",
    "Ds0 = (Ms[-1]*Dsvds[-1]-1)/ (Ms[-1]-Dsvds[-1])\n",
    "Ds0_proj = (Ms[-1]*Dsvds_proj[-1]-1)/ (Ms[-1]-Dsvds_proj[-1])"
   ]
  },
  {
   "cell_type": "code",
   "execution_count": 113,
   "metadata": {},
   "outputs": [
    {
     "data": {
      "image/png": "[encoded data removed]",
      "text/plain": [
       "<Figure size 360x216 with 1 Axes>"
      ]
     },
     "metadata": {
      "needs_background": "light"
     },
     "output_type": "display_data"
    }
   ],
   "source": [
    "from mpl_toolkits.axes_grid1.inset_locator import inset_axes\n",
    "\n",
    "fig, ax = plt.subplots(figsize=(5,3))\n",
    "# Ms = np.logspace(2,11,100, base=2)\n",
    "MMs = np.logspace(np.log2(np.min(Ms)),np.log2(np.max(Ms)),100,base=2)\n",
    "Ds_pred = Ds0_proj / (1+Ds0_proj/MMs[:,None])\n",
    "plt.plot(MMs, Ds_pred.mean(1),c='C1');\n",
    "plt.fill_between(MMs, Ds_pred.mean(1)+Ds_pred.std(1),Ds_pred.mean(1)-Ds_pred.std(1),\n",
    "                alpha=0.2,color='C1');\n",
    "\n",
    "# Ms = np.logspace(3,11,8,base=2)\n",
    "plt.scatter(Ms, Dsvds_proj.mean(-1),c='C1', label='Random projection')\n",
    "plt.scatter(Ms, Dsvds.mean(-1),c='C1', alpha=0.5, label='Random sampling')\n",
    "\n",
    "plt.axhline(Ds0_proj.mean(), c='grey', linestyle='dashed', linewidth=2)\n",
    "# plt.xscale('log')\n",
    "plt.grid(True, which='both',ls='--')\n",
    "plt.xlabel('M')\n",
    "plt.ylabel(r'$D_{SVD}$')\n",
    "# plt.xlim([-10,250])\n",
    "plt.ylim([0,45])\n",
    "sns.despine(trim=True)\n",
    "\n",
    "# # Inset\n",
    "# axins = inset_axes(ax, width=\"50%\", height=\"40%\",loc=4, borderpad=2)\n",
    "# Ms = np.logspace(2,11,100, base=2)\n",
    "# Ds_pred = Ds0 / (1+Ds0/Ms[:,None])\n",
    "# plt.plot(Ms, Ds_pred.mean(1), c='C1');\n",
    "# plt.fill_between(Ms, Ds_pred.mean(1)+Ds_pred.std(1),Ds_pred.mean(1)-Ds_pred.std(1),\n",
    "#                 alpha=0.2,color='C1');\n",
    "\n",
    "# Ms = np.logspace(3,11,8,base=2)\n",
    "# plt.scatter(Ms, Dsvds_proj.mean(-1),c='C1', )\n",
    "# plt.scatter(Ms, Dsvds.mean(-1),c='C1', alpha=0.5)\n",
    "\n",
    "\n",
    "# plt.axhline(Ds0.mean(), c='grey', linestyle='dashed', linewidth=2)\n",
    "# plt.xscale('log')\n",
    "# plt.grid(True, which='both',ls='--')\n",
    "# sns.despine(trim=True)\n",
    "\n",
    "\n",
    "plt.savefig('images/random_proj_D_500.pdf')"
   ]
  },
  {
   "cell_type": "code",
   "execution_count": 110,
   "metadata": {},
   "outputs": [],
   "source": [
    "from scipy.special import erfinv\n",
    "def Hinv(z):\n",
    "    return np.sqrt(2)*erfinv(1-2*z)"
   ]
  },
  {
   "cell_type": "code",
   "execution_count": 112,
   "metadata": {},
   "outputs": [
    {
     "data": {
      "image/png": "[encoded data removed]",
      "text/plain": [
       "<Figure size 360x216 with 1 Axes>"
      ]
     },
     "metadata": {
      "needs_background": "light"
     },
     "output_type": "display_data"
    }
   ],
   "source": [
    "fig, ax = plt.subplots(figsize=(5,3))\n",
    "MMs = np.logspace(np.log2(np.min(Ms)),np.log2(np.max(Ms)),100,base=2)\n",
    "SNR0 = Hinv(err_all[-1]) * np.sqrt(1+np.repeat(Ds0_proj,K)/MMs[-1])\n",
    "SNR_pred = SNR0 / np.sqrt(1+np.repeat(Ds0_proj,K)/MMs[:,None])\n",
    "plt.plot(MMs, np.nanmean(H(SNR_pred),-1))\n",
    "std = np.nanmean(H(SNR_pred).reshape(-1,100,100),1).std(-1)\n",
    "plt.fill_between(MMs, np.nanmean(H(SNR_pred),-1)+std,\n",
    "                np.nanmean(H(SNR_pred),-1)-std,\n",
    "                alpha=0.2);\n",
    "\n",
    "plt.scatter(Ms, np.nanmean(err_all_proj,-1),c='C0')\n",
    "plt.scatter(Ms, np.nanmean(err_all,-1),c='C0',alpha=0.5)\n",
    "plt.axhline(np.nanmean(H(SNR0)), linestyle='dashed', c='grey',linewidth=2,zorder=0)\n",
    "\n",
    "plt.grid(True, which='both',ls='--')\n",
    "plt.xlabel('M')\n",
    "plt.ylabel(str(m)+'-shot error')\n",
    "plt.xlim([-10,500])\n",
    "plt.ylim([0,0.16])\n",
    "sns.despine(trim=True)\n",
    "\n",
    "\n",
    "# # Inset\n",
    "# axins = inset_axes(ax, width=\"60%\", height=\"50%\",loc=1, borderpad=0.5)\n",
    "# Ms = np.logspace(2,11,100, base=2)\n",
    "# SNR0 = Hinv(err_all[-1]) * np.sqrt(1+np.repeat(Ds0,K)/Ms[-1])\n",
    "# plt.axhline(np.nanmean(H(SNR0)), linestyle='dashed', c='grey', linewidth=2)\n",
    "# SNR_pred = SNR0 / np.sqrt(1+np.repeat(Ds0,K)/Ms[:,None])\n",
    "# plt.plot(Ms, np.nanmean(H(SNR_pred),-1))\n",
    "# plt.fill_between(Ms, np.nanmean(H(SNR_pred),-1)+std,\n",
    "#                 np.nanmean(H(SNR_pred),-1)-std,\n",
    "#                 alpha=0.2);\n",
    "# Ms = np.logspace(3,11,8,base=2)\n",
    "# plt.scatter(Ms, np.nanmean(err_all_proj,-1),c='C0')\n",
    "# plt.scatter(Ms, np.nanmean(err_all,-1),c='C0',alpha=0.5)\n",
    "# plt.xscale('log')\n",
    "# plt.grid(True, which='both',ls='--')\n",
    "\n",
    "plt.savefig('images/random_proj_err_500.pdf')"
   ]
  },
  {
   "cell_type": "markdown",
   "metadata": {},
   "source": [
    "# IT cortex"
   ]
  },
  {
   "cell_type": "code",
   "execution_count": 114,
   "metadata": {},
   "outputs": [],
   "source": [
    "import os\n",
    "manifolds =  np.load('/mnt/fs2/bsorsch/manifold/embeddings_new/macaque/manifolds_IT.npy')"
   ]
  },
  {
   "cell_type": "code",
   "execution_count": null,
   "metadata": {},
   "outputs": [
    {
     "data": {
      "application/vnd.jupyter.widget-view+json": {
       "model_id": "b8777f5d2ec14731ba8fbb583e1bb52a",
       "version_major": 2,
       "version_minor": 0
      },
      "text/plain": [
       "HBox(children=(IntProgress(value=0, max=8), HTML(value='')))"
      ]
     },
     "metadata": {},
     "output_type": "display_data"
    },
    {
     "data": {
      "application/vnd.jupyter.widget-view+json": {
       "model_id": "8d963951856144258abd7ac909e36b49",
       "version_major": 2,
       "version_minor": 0
      },
      "text/plain": [
       "HBox(children=(IntProgress(value=0, max=50), HTML(value='')))"
      ]
     },
     "metadata": {},
     "output_type": "display_data"
    }
   ],
   "source": [
    "m = 5\n",
    "N = 168\n",
    "K = manifolds.shape[0]\n",
    "Ms = np.logspace(2,7,8,base=2)\n",
    "n_avg = 50\n",
    "Dsvds = []\n",
    "SNRs = []\n",
    "err_all = []\n",
    "\n",
    "Dsvds_proj = []\n",
    "SNRs_proj = []\n",
    "err_all_proj = []\n",
    "for M in tqdm(Ms):\n",
    "    for _ in tqdm(range(n_avg),leave=False):\n",
    "        # Random sample\n",
    "        idxs = np.random.choice(N,int(M),replace=False)\n",
    "        manifolds_small = manifolds[:,:,idxs]\n",
    "        dist_norm, Ds, csa, ss, SNR = geometry(manifolds_small, m)\n",
    "        Dsvds.append(Ds)\n",
    "        SNRs.append(SNR)\n",
    "        err, err_std = compute_err(manifolds_small,m)\n",
    "        err_all.append(err)\n",
    "        \n",
    "        # Random projection\n",
    "        A = np.random.randn(N,int(M)) / np.sqrt(M)\n",
    "        manifolds_small = manifolds@A \n",
    "        dist_norm, Ds, csa, ss, SNR = geometry(manifolds_small, m)\n",
    "        Dsvds_proj.append(Ds)\n",
    "        SNRs_proj.append(SNR)\n",
    "        err, err_std = compute_err(manifolds_small,m)\n",
    "        err_all_proj.append(err)\n",
    "Dsvds = np.stack(Dsvds).reshape(len(Ms),n_avg,K).mean(1)\n",
    "SNRs = np.nanmean(np.stack(SNRs).reshape(len(Ms),n_avg,-1),1)\n",
    "err_all = np.nanmean(np.stack(err_all).reshape(len(Ms),n_avg,-1),1)\n",
    "Dsvds_proj = np.stack(Dsvds_proj).reshape(len(Ms),n_avg,K).mean(1)\n",
    "SNRs_proj = np.nanmean(np.stack(SNRs_proj).reshape(len(Ms),n_avg,-1),1)\n",
    "err_all_proj = np.nanmean(np.stack(err_all_proj).reshape(len(Ms),n_avg,-1),1)"
   ]
  },
  {
   "cell_type": "code",
   "execution_count": 134,
   "metadata": {},
   "outputs": [],
   "source": [
    "# Asymptotic Dsvd\n",
    "Ds0 = (Ms[-1]*Dsvds[-1]-1)/ (Ms[-1]-Dsvds[-1])\n",
    "Ds0_proj = (Ms[-1]*Dsvds_proj[-1]-1)/ (Ms[-1]-Dsvds_proj[-1])"
   ]
  },
  {
   "cell_type": "code",
   "execution_count": 140,
   "metadata": {},
   "outputs": [
    {
     "data": {
      "image/png": "[encoded data removed]",
      "text/plain": [
       "<Figure size 360x216 with 1 Axes>"
      ]
     },
     "metadata": {
      "needs_background": "light"
     },
     "output_type": "display_data"
    }
   ],
   "source": [
    "from mpl_toolkits.axes_grid1.inset_locator import inset_axes\n",
    "\n",
    "fig, ax = plt.subplots(figsize=(5,3))\n",
    "MMs = np.logspace(np.log2(np.min(Ms)-2),9,100,base=2)\n",
    "Ds_pred = Ds0 / (1+Ds0/MMs[:,None])\n",
    "plt.plot(MMs, Ds_pred.mean(1),c='C1');\n",
    "plt.fill_between(MMs, Ds_pred.mean(1)+Ds_pred.std(1),Ds_pred.mean(1)-Ds_pred.std(1),\n",
    "                alpha=0.2,color='C1');\n",
    "\n",
    "plt.scatter(Ms, Dsvds_proj.mean(-1),c='C1', label='Random projection')\n",
    "plt.scatter(Ms, Dsvds.mean(-1),c='C1', alpha=0.5, label='Random sampling')\n",
    "\n",
    "plt.axhline(Ds0.mean(), c='grey', linestyle='dashed', linewidth=2,zorder=0)\n",
    "# plt.xscale('log')\n",
    "plt.grid(True, which='both',ls='--')\n",
    "plt.xlabel('M')\n",
    "plt.ylabel(r'$D_{SVD}$')\n",
    "plt.xlim([-25,500])\n",
    "plt.yticks([0,5,10,15])\n",
    "sns.despine(trim=True)\n",
    "\n",
    "# # Inset\n",
    "# axins = inset_axes(ax, width=\"50%\", height=\"40%\",loc=4, borderpad=2)\n",
    "# Ds_pred = Ds0 / (1+Ds0/MMs[:,None])\n",
    "# plt.plot(MMs, Ds_pred.mean(1), c='C1');\n",
    "# plt.fill_between(MMs, Ds_pred.mean(1)+Ds_pred.std(1),Ds_pred.mean(1)-Ds_pred.std(1),\n",
    "#                 alpha=0.2,color='C1');\n",
    "\n",
    "# plt.scatter(Ms, Dsvds_proj.mean(-1),c='C1', )\n",
    "# plt.scatter(Ms, Dsvds.mean(-1),c='C1', alpha=0.5)\n",
    "\n",
    "\n",
    "# plt.axhline(Ds0.mean(), c='grey', linestyle='dashed', linewidth=2)\n",
    "# plt.xscale('log')\n",
    "# plt.grid(True, which='both',ls='--')\n",
    "# # sns.despine(trim=True)\n",
    "# axins.set_xlim([3,250])\n",
    "\n",
    "\n",
    "plt.savefig('images/IT_random_proj_D_500.pdf')"
   ]
  },
  {
   "cell_type": "code",
   "execution_count": 136,
   "metadata": {},
   "outputs": [],
   "source": [
    "from scipy.special import erfinv\n",
    "def Hinv(z):\n",
    "    return np.sqrt(2)*erfinv(1-2*z)"
   ]
  },
  {
   "cell_type": "code",
   "execution_count": 139,
   "metadata": {},
   "outputs": [
    {
     "data": {
      "image/png": "[encoded data removed]",
      "text/plain": [
       "<Figure size 360x216 with 1 Axes>"
      ]
     },
     "metadata": {
      "needs_background": "light"
     },
     "output_type": "display_data"
    }
   ],
   "source": [
    "fig, ax = plt.subplots(figsize=(5,3))\n",
    "# SNR0 = Hinv(err_all[-1]) * np.sqrt(1+np.repeat(Ds0,K)/Ms[-1])\n",
    "SNR0 = Hinv(err_all[-1])\n",
    "SNR_pred = SNR0 / np.sqrt(1+np.repeat(Ds0,K)/MMs[:,None])\n",
    "plt.plot(MMs, np.nanmean(H(SNR_pred),-1))\n",
    "std = np.nanmean(H(SNR_pred).reshape(-1,K,K),1).std(-1)\n",
    "plt.fill_between(MMs, np.nanmean(H(SNR_pred),-1)+std,\n",
    "                np.nanmean(H(SNR_pred),-1)-std,\n",
    "                alpha=0.2);\n",
    "\n",
    "plt.scatter(Ms, np.nanmean(err_all_proj,-1),c='C0')\n",
    "plt.scatter(Ms, np.nanmean(err_all,-1),c='C0',alpha=0.5)\n",
    "plt.axhline(np.nanmean(H(SNR0)), linestyle='dashed', c='grey',linewidth=2)\n",
    "\n",
    "plt.grid(True, which='both',ls='--')\n",
    "plt.xlabel('M')\n",
    "plt.ylabel(str(m)+'-shot error')\n",
    "plt.xlim([-25,500])\n",
    "plt.yticks([0.1,0.2,0.3,0.4])\n",
    "sns.despine(trim=True)\n",
    "\n",
    "# # Inset\n",
    "# axins = inset_axes(ax, width=\"60%\", height=\"40%\",loc=1, borderpad=0.5)\n",
    "# SNR0 = Hinv(err_all[-1]) * np.sqrt(1+np.repeat(Ds0,K)/Ms[-1])\n",
    "# plt.axhline(np.nanmean(H(SNR0)), linestyle='dashed', c='grey', linewidth=2)\n",
    "# SNR_pred = SNR0 / np.sqrt(1+np.repeat(Ds0,K)/MMs[:,None])\n",
    "# plt.plot(MMs, np.nanmean(H(SNR_pred),-1))\n",
    "# plt.fill_between(MMs, np.nanmean(H(SNR_pred),-1)+std,\n",
    "#                 np.nanmean(H(SNR_pred),-1)-std,\n",
    "#                 alpha=0.2);\n",
    "\n",
    "# plt.scatter(Ms, np.nanmean(err_all_proj,-1),c='C0')\n",
    "# plt.scatter(Ms, np.nanmean(err_all,-1),c='C0',alpha=0.5)\n",
    "# axins.set_xlim([3,250])\n",
    "# plt.xscale('log')\n",
    "# plt.grid(True, which='both',ls='--')\n",
    "\n",
    "plt.savefig('images/IT_random_proj_err_500.pdf')"
   ]
  },
  {
   "cell_type": "code",
   "execution_count": 62,
   "metadata": {},
   "outputs": [
    {
     "data": {
      "text/plain": [
       "0.7157456420068027"
      ]
     },
     "execution_count": 62,
     "metadata": {},
     "output_type": "execute_result"
    }
   ],
   "source": [
    "1-np.nanmean(err_all[-1])"
   ]
  },
  {
   "cell_type": "code",
   "execution_count": 11,
   "metadata": {},
   "outputs": [
    {
     "data": {
      "text/plain": [
       "-0.4161468365471424"
      ]
     },
     "execution_count": 11,
     "metadata": {},
     "output_type": "execute_result"
    }
   ],
   "source": [
    "np.cos(2)"
   ]
  },
  {
   "cell_type": "code",
   "execution_count": 162,
   "metadata": {},
   "outputs": [],
   "source": [
    "m = 10\n",
    "D = 500\n",
    "P = 1000\n",
    "X = np.random.randn(m,D,P)\n",
    "X /= np.linalg.norm(X,axis=1,keepdims=True)\n",
    "Y = np.random.randn(m,D,P)\n",
    "Y /= np.linalg.norm(Y,axis=1,keepdims=True)\n",
    "d = ((X-Y)**2).sum(1)"
   ]
  },
  {
   "cell_type": "code",
   "execution_count": 163,
   "metadata": {},
   "outputs": [
    {
     "data": {
      "text/plain": [
       "1.8642771915116978"
      ]
     },
     "execution_count": 163,
     "metadata": {},
     "output_type": "execute_result"
    }
   ],
   "source": [
    "2 - np.sqrt(4*np.log(m)/D)"
   ]
  },
  {
   "cell_type": "code",
   "execution_count": 164,
   "metadata": {},
   "outputs": [
    {
     "data": {
      "text/plain": [
       "1.8654391030159814"
      ]
     },
     "execution_count": 164,
     "metadata": {},
     "output_type": "execute_result"
    }
   ],
   "source": [
    "np.mean(d.min(0))"
   ]
  },
  {
   "cell_type": "code",
   "execution_count": 137,
   "metadata": {
    "scrolled": true
   },
   "outputs": [
    {
     "data": {
      "text/plain": [
       "<matplotlib.lines.Line2D at 0x7fd54fc90898>"
      ]
     },
     "execution_count": 137,
     "metadata": {},
     "output_type": "execute_result"
    },
    {
     "data": {
      "image/png": "[encoded data removed]",
      "text/plain": [
       "<Figure size 432x288 with 1 Axes>"
      ]
     },
     "metadata": {
      "needs_background": "light"
     },
     "output_type": "display_data"
    }
   ],
   "source": [
    "plt.hist(d.min(0))\n",
    "plt.axvline(2 - np.sqrt(4*np.log(m)/D), c='black')"
   ]
  },
  {
   "cell_type": "code",
   "execution_count": 148,
   "metadata": {},
   "outputs": [],
   "source": [
    "m = 10\n",
    "D = 500\n",
    "P = 10000\n",
    "X = np.random.randn(m,D,P)\n",
    "X /= np.linalg.norm(X,axis=1,keepdims=True)\n",
    "Y = np.random.randn(D,P)\n",
    "Y /= np.linalg.norm(Y,axis=0,keepdims=True)\n",
    "d = ((X.mean(0)-Y)**2).sum(0)"
   ]
  },
  {
   "cell_type": "code",
   "execution_count": 149,
   "metadata": {},
   "outputs": [
    {
     "data": {
      "image/png": "[encoded data removed]",
      "text/plain": [
       "<Figure size 432x288 with 1 Axes>"
      ]
     },
     "metadata": {
      "needs_background": "light"
     },
     "output_type": "display_data"
    }
   ],
   "source": [
    "plt.hist(d);"
   ]
  },
  {
   "cell_type": "code",
   "execution_count": 146,
   "metadata": {},
   "outputs": [
    {
     "data": {
      "text/plain": [
       "1.099851289114848"
      ]
     },
     "execution_count": 146,
     "metadata": {},
     "output_type": "execute_result"
    }
   ],
   "source": [
    "np.mean(d)"
   ]
  },
  {
   "cell_type": "code",
   "execution_count": 147,
   "metadata": {},
   "outputs": [
    {
     "data": {
      "text/plain": [
       "1.1"
      ]
     },
     "execution_count": 147,
     "metadata": {},
     "output_type": "execute_result"
    }
   ],
   "source": [
    "1+1/m"
   ]
  },
  {
   "cell_type": "code",
   "execution_count": 123,
   "metadata": {},
   "outputs": [
    {
     "data": {
      "text/plain": [
       "0.0004"
      ]
     },
     "execution_count": 123,
     "metadata": {},
     "output_type": "execute_result"
    }
   ],
   "source": [
    "4/D/m"
   ]
  },
  {
   "cell_type": "code",
   "execution_count": null,
   "metadata": {},
   "outputs": [],
   "source": []
  }
 ],
 "metadata": {
  "kernelspec": {
   "display_name": "Tensorflow 2",
   "language": "python",
   "name": ".tf2"
  },
  "language_info": {
   "codemirror_mode": {
    "name": "ipython",
    "version": 3
   },
   "file_extension": ".py",
   "mimetype": "text/x-python",
   "name": "python",
   "nbconvert_exporter": "python",
   "pygments_lexer": "ipython3",
   "version": "3.5.2"
  },
  "toc": {
   "base_numbering": 1,
   "nav_menu": {},
   "number_sections": true,
   "sideBar": true,
   "skip_h1_title": false,
   "title_cell": "Table of Contents",
   "title_sidebar": "Contents",
   "toc_cell": false,
   "toc_position": {},
   "toc_section_display": true,
   "toc_window_display": true
  }
 },
 "nbformat": 4,
 "nbformat_minor": 4
}
